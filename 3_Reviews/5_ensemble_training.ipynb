{
 "cells": [
  {
   "cell_type": "markdown",
   "metadata": {},
   "source": [
    "# Обучение ансамблей"
   ]
  },
  {
   "cell_type": "markdown",
   "metadata": {},
   "source": [
    "## Задача"
   ]
  },
  {
   "cell_type": "markdown",
   "metadata": {},
   "source": [
    "Обучить объединяющую надстройку над обученными моделя."
   ]
  },
  {
   "cell_type": "markdown",
   "metadata": {},
   "source": [
    "## Данные"
   ]
  },
  {
   "cell_type": "markdown",
   "metadata": {},
   "source": [
    "Классы с архитектурами ансамблей и данные для обучения и теста взяты из файла *dataset_and_models.py*"
   ]
  },
  {
   "cell_type": "markdown",
   "metadata": {},
   "source": [
    "## Расчёты"
   ]
  },
  {
   "cell_type": "code",
   "execution_count": 1,
   "metadata": {},
   "outputs": [],
   "source": [
    "import torch\n",
    "from torch import nn, optim\n",
    "from dataset_and_models import ENSEMBLE\n",
    "from dataset_and_models import w2v_data_train, w2v_data_test\n",
    "from dataset_and_models import fasttext_data_train, fasttext_data_test\n",
    "from sklearn.metrics import f1_score, accuracy_score\n",
    "from tqdm.notebook import tqdm"
   ]
  },
  {
   "cell_type": "code",
   "execution_count": 2,
   "metadata": {},
   "outputs": [],
   "source": [
    "# установка устройва для расчётов\n",
    "DEVICE = \"cuda:0\" if torch.cuda.is_available() else \"cpu\""
   ]
  },
  {
   "cell_type": "code",
   "execution_count": 3,
   "metadata": {},
   "outputs": [],
   "source": [
    "def train_ensemble(\n",
    "        data_train,\n",
    "        data_test,\n",
    "        name_model,\n",
    "        device=DEVICE,\n",
    "        lr=0.0005,\n",
    "        ecophs=5\n",
    "):\n",
    "    \"\"\"\n",
    "    Функция обучения ансамбля\n",
    "    :param data_train: данные обучения\n",
    "    :param data_test: данные теста\n",
    "    :param name_model: имя модели ансамбля\n",
    "    :param device: устройво для основных расчётов\n",
    "    :param lr: скорость обучения\n",
    "    :param ecophs: количество эпох обучения\n",
    "    \"\"\"\n",
    "    # создание объекта ансамбля\n",
    "    model = ENSEMBLE(name=name_model).to(device)\n",
    "    \n",
    "    # определение функции ошибки и оптимизатора\n",
    "    loss_fn = nn.CrossEntropyLoss()\n",
    "    optimizer = optim.Adam(model.parameters(), lr=lr)\n",
    "\n",
    "    # хранит лучший F1-score\n",
    "    best_f1_score = 0\n",
    "\n",
    "    # цикл обучения\n",
    "    for epoch in range(ecophs):\n",
    "\n",
    "        model.to(device)\n",
    "        model.train()\n",
    "\n",
    "        progress_bar = tqdm(data_train, desc=f'Эпоха {epoch + 1}')\n",
    "\n",
    "        # обучение модели в пределах одной эпохи\n",
    "        for x, y in progress_bar:\n",
    "\n",
    "            x, y = x.to(device), y.to(device)\n",
    "            y_hat = model(x)\n",
    "\n",
    "            optimizer.zero_grad()\n",
    "            loss = loss_fn(y_hat, y)\n",
    "            loss.backward()\n",
    "            optimizer.step()\n",
    "\n",
    "        # оценка ансамбля после эпохи обучения    \n",
    "        model.eval()\n",
    "        \n",
    "        output_model = torch.Tensor([]).to(device)\n",
    "        output_y = torch.Tensor([]).to(device)\n",
    "        \n",
    "        with torch.no_grad():\n",
    "            for x, y in data_test:\n",
    "                x, y = x.to(device), y.to(device)\n",
    "                output_model = torch.concat([output_model, model(x).argmax(axis=1)])\n",
    "                    \n",
    "                output_y = torch.concat([output_y, y])\n",
    "        \n",
    "        output_y = output_y.to('cpu')\n",
    "        output_model = output_model.to('cpu')\n",
    "        f1 = f1_score(\n",
    "            y_true=output_y.numpy(),\n",
    "            y_pred=output_model.numpy(),\n",
    "            average='weighted'\n",
    "        )\n",
    "        \n",
    "        # вывод информации об оценках ансамбля по итогу эпохи\n",
    "        print('F1-score (weighted):\\t', f1)\n",
    "        print('Точность:\\t\\t', accuracy_score(y_true=output_y.numpy(),\n",
    "                                              y_pred=output_model.numpy()))\n",
    "        \n",
    "        # сохранение ансамбля с наилучшим F1-score\n",
    "        if best_f1_score < f1:\n",
    "            \n",
    "            best_f1_score = f1\n",
    "            torch.save(model, f'models/{name_model}.pt')\n",
    "\n",
    "            print('===Модель сохранена===')"
   ]
  },
  {
   "cell_type": "markdown",
   "metadata": {},
   "source": [
    "### Обучение ансамбля состоящего из CNN и LSTM"
   ]
  },
  {
   "cell_type": "code",
   "execution_count": 4,
   "metadata": {},
   "outputs": [
    {
     "data": {
      "application/vnd.jupyter.widget-view+json": {
       "model_id": "012db9021aab460d98d5d0c5121d6d70",
       "version_major": 2,
       "version_minor": 0
      },
      "text/plain": [
       "Эпоха 1:   0%|          | 0/440 [00:00<?, ?it/s]"
      ]
     },
     "metadata": {},
     "output_type": "display_data"
    },
    {
     "name": "stdout",
     "output_type": "stream",
     "text": [
      "F1-score (weighted):\t 0.7531668786615816\n",
      "Точность:\t\t 0.7651158024185284\n",
      "===Модель сохранена===\n"
     ]
    },
    {
     "data": {
      "application/vnd.jupyter.widget-view+json": {
       "model_id": "1f12b9695d7f4bf29a85c423cf25d2c5",
       "version_major": 2,
       "version_minor": 0
      },
      "text/plain": [
       "Эпоха 2:   0%|          | 0/440 [00:00<?, ?it/s]"
      ]
     },
     "metadata": {},
     "output_type": "display_data"
    },
    {
     "name": "stdout",
     "output_type": "stream",
     "text": [
      "F1-score (weighted):\t 0.7560784999414428\n",
      "Точность:\t\t 0.7612215617954499\n",
      "===Модель сохранена===\n"
     ]
    },
    {
     "data": {
      "application/vnd.jupyter.widget-view+json": {
       "model_id": "0ac42a61288f440886c8f66ca65da34a",
       "version_major": 2,
       "version_minor": 0
      },
      "text/plain": [
       "Эпоха 3:   0%|          | 0/440 [00:00<?, ?it/s]"
      ]
     },
     "metadata": {},
     "output_type": "display_data"
    },
    {
     "name": "stdout",
     "output_type": "stream",
     "text": [
      "F1-score (weighted):\t 0.7589009547920693\n",
      "Точность:\t\t 0.7630662020905923\n",
      "===Модель сохранена===\n"
     ]
    },
    {
     "data": {
      "application/vnd.jupyter.widget-view+json": {
       "model_id": "5ea924ad5ed14678a65c6700de795b7e",
       "version_major": 2,
       "version_minor": 0
      },
      "text/plain": [
       "Эпоха 4:   0%|          | 0/440 [00:00<?, ?it/s]"
      ]
     },
     "metadata": {},
     "output_type": "display_data"
    },
    {
     "name": "stdout",
     "output_type": "stream",
     "text": [
      "F1-score (weighted):\t 0.7591523318073435\n",
      "Точность:\t\t 0.7622463619594179\n",
      "===Модель сохранена===\n"
     ]
    },
    {
     "data": {
      "application/vnd.jupyter.widget-view+json": {
       "model_id": "e62863f4ac44419cbb8d88058f9bf0dc",
       "version_major": 2,
       "version_minor": 0
      },
      "text/plain": [
       "Эпоха 5:   0%|          | 0/440 [00:00<?, ?it/s]"
      ]
     },
     "metadata": {},
     "output_type": "display_data"
    },
    {
     "name": "stdout",
     "output_type": "stream",
     "text": [
      "F1-score (weighted):\t 0.758277330430149\n",
      "Точность:\t\t 0.7616314818610371\n"
     ]
    }
   ],
   "source": [
    "# w2v\n",
    "train_ensemble(\n",
    "    data_train=w2v_data_train,\n",
    "    data_test=w2v_data_test,\n",
    "    name_model='w2v_cnn_and_lstm_ensemble'\n",
    ")"
   ]
  },
  {
   "cell_type": "code",
   "execution_count": 5,
   "metadata": {},
   "outputs": [
    {
     "data": {
      "application/vnd.jupyter.widget-view+json": {
       "model_id": "cd09174ff54a405ab336cab7e203487d",
       "version_major": 2,
       "version_minor": 0
      },
      "text/plain": [
       "Эпоха 1:   0%|          | 0/440 [00:00<?, ?it/s]"
      ]
     },
     "metadata": {},
     "output_type": "display_data"
    },
    {
     "name": "stdout",
     "output_type": "stream",
     "text": [
      "F1-score (weighted):\t 0.7367301038441715\n",
      "Точность:\t\t 0.7610166017626563\n",
      "===Модель сохранена===\n"
     ]
    },
    {
     "data": {
      "application/vnd.jupyter.widget-view+json": {
       "model_id": "d5dd3b4b28c94481a6be4c4ce7a13b46",
       "version_major": 2,
       "version_minor": 0
      },
      "text/plain": [
       "Эпоха 2:   0%|          | 0/440 [00:00<?, ?it/s]"
      ]
     },
     "metadata": {},
     "output_type": "display_data"
    },
    {
     "name": "stdout",
     "output_type": "stream",
     "text": [
      "F1-score (weighted):\t 0.7498853623588304\n",
      "Точность:\t\t 0.7542529206804673\n",
      "===Модель сохранена===\n"
     ]
    },
    {
     "data": {
      "application/vnd.jupyter.widget-view+json": {
       "model_id": "69ca9fd33e74471ab4947b8f0e018547",
       "version_major": 2,
       "version_minor": 0
      },
      "text/plain": [
       "Эпоха 3:   0%|          | 0/440 [00:00<?, ?it/s]"
      ]
     },
     "metadata": {},
     "output_type": "display_data"
    },
    {
     "name": "stdout",
     "output_type": "stream",
     "text": [
      "F1-score (weighted):\t 0.7513329193956761\n",
      "Точность:\t\t 0.7530231604837057\n",
      "===Модель сохранена===\n"
     ]
    },
    {
     "data": {
      "application/vnd.jupyter.widget-view+json": {
       "model_id": "8da56fe8fe224972ab9312608bce8505",
       "version_major": 2,
       "version_minor": 0
      },
      "text/plain": [
       "Эпоха 4:   0%|          | 0/440 [00:00<?, ?it/s]"
      ]
     },
     "metadata": {},
     "output_type": "display_data"
    },
    {
     "name": "stdout",
     "output_type": "stream",
     "text": [
      "F1-score (weighted):\t 0.7517870032611008\n",
      "Точность:\t\t 0.7554826808772289\n",
      "===Модель сохранена===\n"
     ]
    },
    {
     "data": {
      "application/vnd.jupyter.widget-view+json": {
       "model_id": "87519796611a4fd0b35493e91aff9854",
       "version_major": 2,
       "version_minor": 0
      },
      "text/plain": [
       "Эпоха 5:   0%|          | 0/440 [00:00<?, ?it/s]"
      ]
     },
     "metadata": {},
     "output_type": "display_data"
    },
    {
     "name": "stdout",
     "output_type": "stream",
     "text": [
      "F1-score (weighted):\t 0.7512876370404143\n",
      "Точность:\t\t 0.7534330805492929\n"
     ]
    }
   ],
   "source": [
    "# fasttext\n",
    "train_ensemble(\n",
    "    data_train=fasttext_data_train,\n",
    "    data_test=fasttext_data_test,\n",
    "    name_model='fasttext_cnn_and_lstm_ensemble'\n",
    ")"
   ]
  },
  {
   "cell_type": "markdown",
   "metadata": {},
   "source": [
    "### Обучение ансамбля состоящего из LSTM_CNN моделей"
   ]
  },
  {
   "cell_type": "code",
   "execution_count": 6,
   "metadata": {},
   "outputs": [
    {
     "data": {
      "application/vnd.jupyter.widget-view+json": {
       "model_id": "21b81ce25ae34b458c7cf66cc6e30564",
       "version_major": 2,
       "version_minor": 0
      },
      "text/plain": [
       "Эпоха 1:   0%|          | 0/440 [00:00<?, ?it/s]"
      ]
     },
     "metadata": {},
     "output_type": "display_data"
    },
    {
     "name": "stdout",
     "output_type": "stream",
     "text": [
      "F1-score (weighted):\t 0.7636135979098875\n",
      "Точность:\t\t 0.7661406025824964\n",
      "===Модель сохранена===\n"
     ]
    },
    {
     "data": {
      "application/vnd.jupyter.widget-view+json": {
       "model_id": "2b7289e0fbba47beada76223a1d6118f",
       "version_major": 2,
       "version_minor": 0
      },
      "text/plain": [
       "Эпоха 2:   0%|          | 0/440 [00:00<?, ?it/s]"
      ]
     },
     "metadata": {},
     "output_type": "display_data"
    },
    {
     "name": "stdout",
     "output_type": "stream",
     "text": [
      "F1-score (weighted):\t 0.7629252599892978\n",
      "Точность:\t\t 0.7628612420577987\n"
     ]
    },
    {
     "data": {
      "application/vnd.jupyter.widget-view+json": {
       "model_id": "d242baa1642f416f86d646c3919ebcad",
       "version_major": 2,
       "version_minor": 0
      },
      "text/plain": [
       "Эпоха 3:   0%|          | 0/440 [00:00<?, ?it/s]"
      ]
     },
     "metadata": {},
     "output_type": "display_data"
    },
    {
     "name": "stdout",
     "output_type": "stream",
     "text": [
      "F1-score (weighted):\t 0.763615944196096\n",
      "Точность:\t\t 0.7640910022545604\n",
      "===Модель сохранена===\n"
     ]
    },
    {
     "data": {
      "application/vnd.jupyter.widget-view+json": {
       "model_id": "860a9e53aa0c4584b47c7afb077b4c65",
       "version_major": 2,
       "version_minor": 0
      },
      "text/plain": [
       "Эпоха 4:   0%|          | 0/440 [00:00<?, ?it/s]"
      ]
     },
     "metadata": {},
     "output_type": "display_data"
    },
    {
     "name": "stdout",
     "output_type": "stream",
     "text": [
      "F1-score (weighted):\t 0.7624271416805869\n",
      "Точность:\t\t 0.7628612420577987\n"
     ]
    },
    {
     "data": {
      "application/vnd.jupyter.widget-view+json": {
       "model_id": "c72eacc5a3814ebdac22f4acdd2fbd3f",
       "version_major": 2,
       "version_minor": 0
      },
      "text/plain": [
       "Эпоха 5:   0%|          | 0/440 [00:00<?, ?it/s]"
      ]
     },
     "metadata": {},
     "output_type": "display_data"
    },
    {
     "name": "stdout",
     "output_type": "stream",
     "text": [
      "F1-score (weighted):\t 0.7612316499132574\n",
      "Точность:\t\t 0.7622463619594179\n"
     ]
    }
   ],
   "source": [
    "# w2v\n",
    "train_ensemble(\n",
    "    data_train=w2v_data_train,\n",
    "    data_test=w2v_data_test,\n",
    "    name_model='w2v_ensemble_of_lstm_cnn'\n",
    ")"
   ]
  },
  {
   "cell_type": "code",
   "execution_count": 7,
   "metadata": {},
   "outputs": [
    {
     "data": {
      "application/vnd.jupyter.widget-view+json": {
       "model_id": "87c5f56e3c6f42758437beeaec394bef",
       "version_major": 2,
       "version_minor": 0
      },
      "text/plain": [
       "Эпоха 1:   0%|          | 0/440 [00:00<?, ?it/s]"
      ]
     },
     "metadata": {},
     "output_type": "display_data"
    },
    {
     "name": "stdout",
     "output_type": "stream",
     "text": [
      "F1-score (weighted):\t 0.7592468219477383\n",
      "Точность:\t\t 0.7700348432055749\n",
      "===Модель сохранена===\n"
     ]
    },
    {
     "data": {
      "application/vnd.jupyter.widget-view+json": {
       "model_id": "54bac51a63524c90ac428b49fad919c6",
       "version_major": 2,
       "version_minor": 0
      },
      "text/plain": [
       "Эпоха 2:   0%|          | 0/440 [00:00<?, ?it/s]"
      ]
     },
     "metadata": {},
     "output_type": "display_data"
    },
    {
     "name": "stdout",
     "output_type": "stream",
     "text": [
      "F1-score (weighted):\t 0.7621043974930682\n",
      "Точность:\t\t 0.7704447632711621\n",
      "===Модель сохранена===\n"
     ]
    },
    {
     "data": {
      "application/vnd.jupyter.widget-view+json": {
       "model_id": "4c43bcdfd9134fcba7f129b5e424714e",
       "version_major": 2,
       "version_minor": 0
      },
      "text/plain": [
       "Эпоха 3:   0%|          | 0/440 [00:00<?, ?it/s]"
      ]
     },
     "metadata": {},
     "output_type": "display_data"
    },
    {
     "name": "stdout",
     "output_type": "stream",
     "text": [
      "F1-score (weighted):\t 0.7616600506907638\n",
      "Точность:\t\t 0.7702398032383685\n"
     ]
    },
    {
     "data": {
      "application/vnd.jupyter.widget-view+json": {
       "model_id": "377840dd718e4e18b0078e34b668458a",
       "version_major": 2,
       "version_minor": 0
      },
      "text/plain": [
       "Эпоха 4:   0%|          | 0/440 [00:00<?, ?it/s]"
      ]
     },
     "metadata": {},
     "output_type": "display_data"
    },
    {
     "name": "stdout",
     "output_type": "stream",
     "text": [
      "F1-score (weighted):\t 0.7597710502795881\n",
      "Точность:\t\t 0.7688050830088132\n"
     ]
    },
    {
     "data": {
      "application/vnd.jupyter.widget-view+json": {
       "model_id": "1ffb1415d6f4482d94a2f280b788cb20",
       "version_major": 2,
       "version_minor": 0
      },
      "text/plain": [
       "Эпоха 5:   0%|          | 0/440 [00:00<?, ?it/s]"
      ]
     },
     "metadata": {},
     "output_type": "display_data"
    },
    {
     "name": "stdout",
     "output_type": "stream",
     "text": [
      "F1-score (weighted):\t 0.7607508655694215\n",
      "Точность:\t\t 0.7716745234679238\n"
     ]
    }
   ],
   "source": [
    "# fasttext\n",
    "train_ensemble(\n",
    "    data_train=fasttext_data_train,\n",
    "    data_test=fasttext_data_test,\n",
    "    name_model='fasttext_ensemble_of_lstm_cnn'\n",
    ")"
   ]
  },
  {
   "cell_type": "markdown",
   "metadata": {},
   "source": [
    "## Результаты"
   ]
  },
  {
   "cell_type": "markdown",
   "metadata": {},
   "source": [
    "Были обучены и сохранены надстройки над ансаблями на текстах, обработанных Word2Vec и FastText."
   ]
  }
 ],
 "metadata": {
  "kernelspec": {
   "display_name": "venv",
   "language": "python",
   "name": "python3"
  },
  "language_info": {
   "codemirror_mode": {
    "name": "ipython",
    "version": 3
   },
   "file_extension": ".py",
   "mimetype": "text/x-python",
   "name": "python",
   "nbconvert_exporter": "python",
   "pygments_lexer": "ipython3",
   "version": "3.10.9"
  }
 },
 "nbformat": 4,
 "nbformat_minor": 2
}
