{
 "cells": [
  {
   "cell_type": "markdown",
   "metadata": {},
   "source": [
    "# Обработка естественного языка"
   ]
  },
  {
   "cell_type": "markdown",
   "metadata": {},
   "source": [
    "## Задача"
   ]
  },
  {
   "cell_type": "markdown",
   "metadata": {},
   "source": [
    "Преобразовать текстовую информацию в цифровую, для дальнейшей обработки.  \n",
    "Методы обработки: \n",
    "* Bag of Words\n",
    "* TF-IDF \n",
    "* Word2Vec\n",
    "* FastText\n",
    "* Doc2Vec"
   ]
  },
  {
   "cell_type": "markdown",
   "metadata": {},
   "source": [
    "## Данные"
   ]
  },
  {
   "cell_type": "markdown",
   "metadata": {},
   "source": [
    "Более 48 тысяч отзывов, записанные в *data/reviews_2020_2023.csv*"
   ]
  },
  {
   "cell_type": "markdown",
   "metadata": {},
   "source": [
    "## Расчёты"
   ]
  },
  {
   "cell_type": "code",
   "execution_count": 1,
   "metadata": {},
   "outputs": [],
   "source": [
    "from nltk.corpus import stopwords\n",
    "import pymorphy2\n",
    "import re\n",
    "import pandas as pd\n",
    "import numpy as np\n",
    "from tqdm.notebook import tqdm\n",
    "from scipy import sparse\n",
    "from sklearn.model_selection import train_test_split\n",
    "from gensim.corpora import Dictionary\n",
    "from gensim.matutils import corpus2csc\n",
    "from gensim.models import TfidfModel, Word2Vec, FastText\n",
    "from gensim.models.doc2vec import Doc2Vec, TaggedDocument\n",
    "import os\n",
    "import matplotlib.pyplot as plt"
   ]
  },
  {
   "cell_type": "code",
   "execution_count": 2,
   "metadata": {},
   "outputs": [],
   "source": [
    "# стопслова\n",
    "stopwords = list(stopwords.words('russian'))\n",
    "\n",
    "# объект для получения лемм (лкмма - начальная, словарная форма слова)\n",
    "morph = pymorphy2.MorphAnalyzer(lang='ru')\n",
    "\n",
    "# функция лемматизации слов и удаления стопслов\n",
    "def get_lemma_without_stopwords(row):\n",
    "    row = re.findall('[a-zа-яё]+', ' '.join(row).lower())\n",
    "    output = []\n",
    "    for word in row:\n",
    "        lemma = morph.parse(word)[0].normal_form\n",
    "        if lemma not in stopwords:\n",
    "            output.append(lemma)\n",
    "    return output\n",
    "\n",
    "\n",
    "# функция для подсчёта слов в текстах\n",
    "def word_count(column, unique=False):\n",
    "    if unique:\n",
    "        unique_words = set()\n",
    "        for row in column:   \n",
    "            unique_words |= set(row)\n",
    "        count = len(unique_words)\n",
    "    else:\n",
    "        count = column.apply(lambda x: len(x)).sum()\n",
    "    return count"
   ]
  },
  {
   "cell_type": "code",
   "execution_count": 3,
   "metadata": {},
   "outputs": [
    {
     "data": {
      "text/html": [
       "<div>\n",
       "<style scoped>\n",
       "    .dataframe tbody tr th:only-of-type {\n",
       "        vertical-align: middle;\n",
       "    }\n",
       "\n",
       "    .dataframe tbody tr th {\n",
       "        vertical-align: top;\n",
       "    }\n",
       "\n",
       "    .dataframe thead th {\n",
       "        text-align: right;\n",
       "    }\n",
       "</style>\n",
       "<table border=\"1\" class=\"dataframe\">\n",
       "  <thead>\n",
       "    <tr style=\"text-align: right;\">\n",
       "      <th></th>\n",
       "      <th>type</th>\n",
       "      <th>review</th>\n",
       "    </tr>\n",
       "  </thead>\n",
       "  <tbody>\n",
       "    <tr>\n",
       "      <th>0</th>\n",
       "      <td>bad</td>\n",
       "      <td>Действие фильма происходят в 1944 году на терр...</td>\n",
       "    </tr>\n",
       "    <tr>\n",
       "      <th>1</th>\n",
       "      <td>good</td>\n",
       "      <td>Очередная обошедшая зрителя картина. Люблю так...</td>\n",
       "    </tr>\n",
       "    <tr>\n",
       "      <th>2</th>\n",
       "      <td>bad</td>\n",
       "      <td>Нереально растянутая анимация ни о чем..Вот се...</td>\n",
       "    </tr>\n",
       "    <tr>\n",
       "      <th>3</th>\n",
       "      <td>good</td>\n",
       "      <td>Про то, какая жизнь приятная и красочная, когд...</td>\n",
       "    </tr>\n",
       "    <tr>\n",
       "      <th>4</th>\n",
       "      <td>good</td>\n",
       "      <td>В переводе с английского “Entergalactic” значи...</td>\n",
       "    </tr>\n",
       "    <tr>\n",
       "      <th>...</th>\n",
       "      <td>...</td>\n",
       "      <td>...</td>\n",
       "    </tr>\n",
       "    <tr>\n",
       "      <th>48785</th>\n",
       "      <td>neutral</td>\n",
       "      <td>Не имею ни малейшего представления о том как я...</td>\n",
       "    </tr>\n",
       "    <tr>\n",
       "      <th>48786</th>\n",
       "      <td>neutral</td>\n",
       "      <td>Что-то среднее между арт-хоррором и трешем. Не...</td>\n",
       "    </tr>\n",
       "    <tr>\n",
       "      <th>48787</th>\n",
       "      <td>good</td>\n",
       "      <td>Четверо друзей – бородатый оператор Робби с бр...</td>\n",
       "    </tr>\n",
       "    <tr>\n",
       "      <th>48788</th>\n",
       "      <td>neutral</td>\n",
       "      <td>Инди-хоррор в жанре «найденной плёнки» о столк...</td>\n",
       "    </tr>\n",
       "    <tr>\n",
       "      <th>48789</th>\n",
       "      <td>neutral</td>\n",
       "      <td>Сказ о том как четверо ребят поехали в пустыню...</td>\n",
       "    </tr>\n",
       "  </tbody>\n",
       "</table>\n",
       "<p>48790 rows × 2 columns</p>\n",
       "</div>"
      ],
      "text/plain": [
       "          type                                             review\n",
       "0          bad  Действие фильма происходят в 1944 году на терр...\n",
       "1         good  Очередная обошедшая зрителя картина. Люблю так...\n",
       "2          bad  Нереально растянутая анимация ни о чем..Вот се...\n",
       "3         good  Про то, какая жизнь приятная и красочная, когд...\n",
       "4         good  В переводе с английского “Entergalactic” значи...\n",
       "...        ...                                                ...\n",
       "48785  neutral  Не имею ни малейшего представления о том как я...\n",
       "48786  neutral  Что-то среднее между арт-хоррором и трешем. Не...\n",
       "48787     good  Четверо друзей – бородатый оператор Робби с бр...\n",
       "48788  neutral  Инди-хоррор в жанре «найденной плёнки» о столк...\n",
       "48789  neutral  Сказ о том как четверо ребят поехали в пустыню...\n",
       "\n",
       "[48790 rows x 2 columns]"
      ]
     },
     "execution_count": 3,
     "metadata": {},
     "output_type": "execute_result"
    }
   ],
   "source": [
    "# запись всех текстов в DataFrame\n",
    "df = pd.read_csv('data/reviews_2020_2023.csv', sep='|', encoding='utf-8')\n",
    "df"
   ]
  },
  {
   "cell_type": "code",
   "execution_count": 4,
   "metadata": {},
   "outputs": [
    {
     "name": "stdout",
     "output_type": "stream",
     "text": [
      "good\t 60.08 %\n",
      "bad\t 20.69 %\n",
      "neutral\t 19.22 %\n"
     ]
    }
   ],
   "source": [
    "# подсчёт процентного соотношения отзывов каждого типа\n",
    "temp = df['type'].value_counts() / df.shape[0] * 100\n",
    "for i, j in zip(temp.index, temp.values):\n",
    "    print(f\"{i}\\t {j:.2f} %\")"
   ]
  },
  {
   "cell_type": "code",
   "execution_count": 5,
   "metadata": {},
   "outputs": [
    {
     "data": {
      "text/html": [
       "<div>\n",
       "<style scoped>\n",
       "    .dataframe tbody tr th:only-of-type {\n",
       "        vertical-align: middle;\n",
       "    }\n",
       "\n",
       "    .dataframe tbody tr th {\n",
       "        vertical-align: top;\n",
       "    }\n",
       "\n",
       "    .dataframe thead th {\n",
       "        text-align: right;\n",
       "    }\n",
       "</style>\n",
       "<table border=\"1\" class=\"dataframe\">\n",
       "  <thead>\n",
       "    <tr style=\"text-align: right;\">\n",
       "      <th></th>\n",
       "      <th>type</th>\n",
       "      <th>review</th>\n",
       "    </tr>\n",
       "  </thead>\n",
       "  <tbody>\n",
       "    <tr>\n",
       "      <th>0</th>\n",
       "      <td>bad</td>\n",
       "      <td>[Действие, фильма, происходят, в, 1944, году, ...</td>\n",
       "    </tr>\n",
       "    <tr>\n",
       "      <th>1</th>\n",
       "      <td>good</td>\n",
       "      <td>[Очередная, обошедшая, зрителя, картина., Любл...</td>\n",
       "    </tr>\n",
       "    <tr>\n",
       "      <th>2</th>\n",
       "      <td>bad</td>\n",
       "      <td>[Нереально, растянутая, анимация, ни, о, чем.....</td>\n",
       "    </tr>\n",
       "    <tr>\n",
       "      <th>3</th>\n",
       "      <td>good</td>\n",
       "      <td>[Про, то,, какая, жизнь, приятная, и, красочна...</td>\n",
       "    </tr>\n",
       "    <tr>\n",
       "      <th>4</th>\n",
       "      <td>good</td>\n",
       "      <td>[В, переводе, с, английского, “Entergalactic”,...</td>\n",
       "    </tr>\n",
       "    <tr>\n",
       "      <th>...</th>\n",
       "      <td>...</td>\n",
       "      <td>...</td>\n",
       "    </tr>\n",
       "    <tr>\n",
       "      <th>48785</th>\n",
       "      <td>neutral</td>\n",
       "      <td>[Не, имею, ни, малейшего, представления, о, то...</td>\n",
       "    </tr>\n",
       "    <tr>\n",
       "      <th>48786</th>\n",
       "      <td>neutral</td>\n",
       "      <td>[Что-то, среднее, между, арт-хоррором, и, треш...</td>\n",
       "    </tr>\n",
       "    <tr>\n",
       "      <th>48787</th>\n",
       "      <td>good</td>\n",
       "      <td>[Четверо, друзей, –, бородатый, оператор, Робб...</td>\n",
       "    </tr>\n",
       "    <tr>\n",
       "      <th>48788</th>\n",
       "      <td>neutral</td>\n",
       "      <td>[Инди-хоррор, в, жанре, «найденной, плёнки», о...</td>\n",
       "    </tr>\n",
       "    <tr>\n",
       "      <th>48789</th>\n",
       "      <td>neutral</td>\n",
       "      <td>[Сказ, о, том, как, четверо, ребят, поехали, в...</td>\n",
       "    </tr>\n",
       "  </tbody>\n",
       "</table>\n",
       "<p>48790 rows × 2 columns</p>\n",
       "</div>"
      ],
      "text/plain": [
       "          type                                             review\n",
       "0          bad  [Действие, фильма, происходят, в, 1944, году, ...\n",
       "1         good  [Очередная, обошедшая, зрителя, картина., Любл...\n",
       "2          bad  [Нереально, растянутая, анимация, ни, о, чем.....\n",
       "3         good  [Про, то,, какая, жизнь, приятная, и, красочна...\n",
       "4         good  [В, переводе, с, английского, “Entergalactic”,...\n",
       "...        ...                                                ...\n",
       "48785  neutral  [Не, имею, ни, малейшего, представления, о, то...\n",
       "48786  neutral  [Что-то, среднее, между, арт-хоррором, и, треш...\n",
       "48787     good  [Четверо, друзей, –, бородатый, оператор, Робб...\n",
       "48788  neutral  [Инди-хоррор, в, жанре, «найденной, плёнки», о...\n",
       "48789  neutral  [Сказ, о, том, как, четверо, ребят, поехали, в...\n",
       "\n",
       "[48790 rows x 2 columns]"
      ]
     },
     "execution_count": 5,
     "metadata": {},
     "output_type": "execute_result"
    }
   ],
   "source": [
    "# Каждый текст представляем в виде списка слов\n",
    "df['review'] = df['review'].apply(lambda x: x.split(' '))\n",
    "df"
   ]
  },
  {
   "cell_type": "code",
   "execution_count": 6,
   "metadata": {},
   "outputs": [
    {
     "name": "stdout",
     "output_type": "stream",
     "text": [
      "Слов до предобработки: 18834935\n",
      "Уникальных слов до предобработки: 1050026\n"
     ]
    }
   ],
   "source": [
    "# подсчёт количества слов до лемматизации\n",
    "print(f\"Слов до предобработки: {word_count(column=df['review'], unique=False)}\")\n",
    "print(f\"Уникальных слов до предобработки: {word_count(column=df['review'], unique=True)}\")"
   ]
  },
  {
   "cell_type": "code",
   "execution_count": 7,
   "metadata": {},
   "outputs": [
    {
     "data": {
      "application/vnd.jupyter.widget-view+json": {
       "model_id": "859d96cf42e74373a295feb04a0e769c",
       "version_major": 2,
       "version_minor": 0
      },
      "text/plain": [
       "  0%|          | 0/48790 [00:00<?, ?it/s]"
      ]
     },
     "metadata": {},
     "output_type": "display_data"
    },
    {
     "data": {
      "text/html": [
       "<div>\n",
       "<style scoped>\n",
       "    .dataframe tbody tr th:only-of-type {\n",
       "        vertical-align: middle;\n",
       "    }\n",
       "\n",
       "    .dataframe tbody tr th {\n",
       "        vertical-align: top;\n",
       "    }\n",
       "\n",
       "    .dataframe thead th {\n",
       "        text-align: right;\n",
       "    }\n",
       "</style>\n",
       "<table border=\"1\" class=\"dataframe\">\n",
       "  <thead>\n",
       "    <tr style=\"text-align: right;\">\n",
       "      <th></th>\n",
       "      <th>type</th>\n",
       "      <th>review</th>\n",
       "    </tr>\n",
       "  </thead>\n",
       "  <tbody>\n",
       "    <tr>\n",
       "      <th>0</th>\n",
       "      <td>bad</td>\n",
       "      <td>[действие, фильм, происходить, год, территория...</td>\n",
       "    </tr>\n",
       "    <tr>\n",
       "      <th>1</th>\n",
       "      <td>good</td>\n",
       "      <td>[очередной, обойти, зритель, картина, любить, ...</td>\n",
       "    </tr>\n",
       "    <tr>\n",
       "      <th>2</th>\n",
       "      <td>bad</td>\n",
       "      <td>[нереально, растянутый, анимация, серьёзно, пр...</td>\n",
       "    </tr>\n",
       "    <tr>\n",
       "      <th>3</th>\n",
       "      <td>good</td>\n",
       "      <td>[жизнь, приятный, красочный, творческий, лёгки...</td>\n",
       "    </tr>\n",
       "    <tr>\n",
       "      <th>4</th>\n",
       "      <td>good</td>\n",
       "      <td>[перевод, английский, entergalactic, значит, в...</td>\n",
       "    </tr>\n",
       "    <tr>\n",
       "      <th>...</th>\n",
       "      <td>...</td>\n",
       "      <td>...</td>\n",
       "    </tr>\n",
       "    <tr>\n",
       "      <th>48785</th>\n",
       "      <td>neutral</td>\n",
       "      <td>[иметь, малый, представление, узнать, это, фил...</td>\n",
       "    </tr>\n",
       "    <tr>\n",
       "      <th>48786</th>\n",
       "      <td>neutral</td>\n",
       "      <td>[средний, арт, хоррор, трехать, неудобный, мок...</td>\n",
       "    </tr>\n",
       "    <tr>\n",
       "      <th>48787</th>\n",
       "      <td>good</td>\n",
       "      <td>[четверо, друг, бородатый, оператор, робби, бр...</td>\n",
       "    </tr>\n",
       "    <tr>\n",
       "      <th>48788</th>\n",
       "      <td>neutral</td>\n",
       "      <td>[инди, хоррор, жанр, найти, плёнка, столкновен...</td>\n",
       "    </tr>\n",
       "    <tr>\n",
       "      <th>48789</th>\n",
       "      <td>neutral</td>\n",
       "      <td>[сказ, четверо, ребята, поехать, пустыня, сним...</td>\n",
       "    </tr>\n",
       "  </tbody>\n",
       "</table>\n",
       "<p>48790 rows × 2 columns</p>\n",
       "</div>"
      ],
      "text/plain": [
       "          type                                             review\n",
       "0          bad  [действие, фильм, происходить, год, территория...\n",
       "1         good  [очередной, обойти, зритель, картина, любить, ...\n",
       "2          bad  [нереально, растянутый, анимация, серьёзно, пр...\n",
       "3         good  [жизнь, приятный, красочный, творческий, лёгки...\n",
       "4         good  [перевод, английский, entergalactic, значит, в...\n",
       "...        ...                                                ...\n",
       "48785  neutral  [иметь, малый, представление, узнать, это, фил...\n",
       "48786  neutral  [средний, арт, хоррор, трехать, неудобный, мок...\n",
       "48787     good  [четверо, друг, бородатый, оператор, робби, бр...\n",
       "48788  neutral  [инди, хоррор, жанр, найти, плёнка, столкновен...\n",
       "48789  neutral  [сказ, четверо, ребята, поехать, пустыня, сним...\n",
       "\n",
       "[48790 rows x 2 columns]"
      ]
     },
     "execution_count": 7,
     "metadata": {},
     "output_type": "execute_result"
    }
   ],
   "source": [
    "# лемматизация текстов\n",
    "tqdm.pandas()\n",
    "\n",
    "df.review = df['review'].progress_apply(get_lemma_without_stopwords)\n",
    "df"
   ]
  },
  {
   "cell_type": "code",
   "execution_count": 8,
   "metadata": {},
   "outputs": [
    {
     "name": "stdout",
     "output_type": "stream",
     "text": [
      "Слов после предобработки: 12123985\n",
      "Уникальных слов после предобработки: 142511\n"
     ]
    }
   ],
   "source": [
    "# подсчёт количества слов после лемматизации\n",
    "print(f\"Слов после предобработки: {word_count(column=df['review'], unique=False)}\")\n",
    "print(f\"Уникальных слов после предобработки: {word_count(column=df['review'], unique=True)}\")"
   ]
  },
  {
   "cell_type": "code",
   "execution_count": 9,
   "metadata": {},
   "outputs": [
    {
     "name": "stdout",
     "output_type": "stream",
     "text": [
      "Размер тестовой выборки:\t43911\n",
      "Размер валидационной выборки:\t4879\n"
     ]
    }
   ],
   "source": [
    "# составление выборки для обучения и для теста\n",
    "df_train, df_test = train_test_split(df, train_size=0.9, shuffle=True)\n",
    "\n",
    "print(f\"Размер тестовой выборки:\\t{len(df_train)}\")\n",
    "print(f\"Размер валидационной выборки:\\t{len(df_test)}\")"
   ]
  },
  {
   "cell_type": "code",
   "execution_count": 10,
   "metadata": {},
   "outputs": [],
   "source": [
    "# сохранение лемматизированных текстов\n",
    "df_train.to_pickle('data/train/df.pkl')\n",
    "df_test.to_pickle('data/test/df.pkl')"
   ]
  },
  {
   "cell_type": "code",
   "execution_count": 11,
   "metadata": {},
   "outputs": [
    {
     "name": "stdout",
     "output_type": "stream",
     "text": [
      "99% текстов состоит из 451 слов или меньше\n"
     ]
    },
    {
     "data": {
      "image/png": "[encoded data removed]",
      "text/plain": [
       "<Figure size 640x480 with 1 Axes>"
      ]
     },
     "metadata": {},
     "output_type": "display_data"
    }
   ],
   "source": [
    "# количесвто слов в текстах из обучающей выборки\n",
    "number_of_words = int(df_train.review.apply(lambda x: len(set(x))).quantile(0.99))\n",
    "print(f\"99% текстов состоит из {number_of_words} слов или меньше\")\n",
    "\n",
    "df_train.review.apply(lambda x: len(set(x))).hist(bins=50)\n",
    "plt.xlabel(\"Количество слов в тексте\")\n",
    "plt.ylabel(\"Число текстов\")\n",
    "plt.show()"
   ]
  },
  {
   "cell_type": "code",
   "execution_count": 12,
   "metadata": {},
   "outputs": [],
   "source": [
    "# составление словаря для дальнейшей обработки\n",
    "dictionary = Dictionary(df_train['review'])\n",
    "\n",
    "# фильтрация слов по частоте\n",
    "# слово должно быть как минимум в трёх текстах\n",
    "# максимально возможная величина словаря = числу всех уникальных слов\n",
    "dictionary.filter_extremes(\n",
    "    no_below=3,\n",
    "    keep_n=word_count(column=df_train['review'], unique=True)\n",
    ")"
   ]
  },
  {
   "cell_type": "code",
   "execution_count": 13,
   "metadata": {},
   "outputs": [
    {
     "data": {
      "text/plain": [
       "((43911, 60784), (4879, 60784))"
      ]
     },
     "execution_count": 13,
     "metadata": {},
     "output_type": "execute_result"
    }
   ],
   "source": [
    "# составляем Bag of Words для обучающей выборки\n",
    "bow_train = corpus2csc(\n",
    "    [dictionary.doc2bow(doc) for doc in df_train['review']], \n",
    "    num_terms=len(dictionary)\n",
    ").T\n",
    "\n",
    "# составляем Bag of Words для тестовой выборки\n",
    "bow_test = corpus2csc(\n",
    "    [dictionary.doc2bow(doc) for doc in df_test['review']], \n",
    "    num_terms=len(dictionary)\n",
    ").T\n",
    "\n",
    "bow_train.shape, bow_test.shape"
   ]
  },
  {
   "cell_type": "code",
   "execution_count": 14,
   "metadata": {},
   "outputs": [],
   "source": [
    "# сохранение\n",
    "dictionary.save('data/dictionary')\n",
    "sparse.save_npz('data/train/bow.npz', matrix=bow_train)\n",
    "sparse.save_npz('data/test/bow.npz', matrix=bow_test)"
   ]
  },
  {
   "cell_type": "code",
   "execution_count": 15,
   "metadata": {},
   "outputs": [
    {
     "data": {
      "text/plain": [
       "((43911, 60784), (4879, 60784))"
      ]
     },
     "execution_count": 15,
     "metadata": {},
     "output_type": "execute_result"
    }
   ],
   "source": [
    "# составление TF-IDF для обучающей выборки\n",
    "tf_idf = TfidfModel(\n",
    "    corpus=[dictionary.doc2bow(document=doc) for doc in df_train['review']]\n",
    ")\n",
    "\n",
    "# составление TF-IDF для тестовой выборки\n",
    "tf_idf_train = corpus2csc(\n",
    "    tf_idf[[dictionary.doc2bow(doc) for doc in df_train['review']]], \n",
    "    num_terms=len(dictionary)\n",
    ").T\n",
    "\n",
    "tf_idf_test = corpus2csc(\n",
    "    tf_idf[[dictionary.doc2bow(doc) for doc in df_test['review']]], \n",
    "    num_terms=len(dictionary)\n",
    ").T\n",
    "\n",
    "tf_idf_train.shape, tf_idf_test.shape"
   ]
  },
  {
   "cell_type": "code",
   "execution_count": 16,
   "metadata": {},
   "outputs": [],
   "source": [
    "# сохранение\n",
    "sparse.save_npz('data/train/tf_idf.npz', matrix=tf_idf_train)\n",
    "sparse.save_npz('data/test/tf_idf.npz', matrix=tf_idf_test)"
   ]
  },
  {
   "cell_type": "code",
   "execution_count": 17,
   "metadata": {},
   "outputs": [],
   "source": [
    "# устанавливаем размер векторов для Word2Vec, FastText, Doc2Vec\n",
    "VECTOR_SIZE = 100"
   ]
  },
  {
   "cell_type": "code",
   "execution_count": 18,
   "metadata": {},
   "outputs": [],
   "source": [
    "# обучение Word2Vec модели\n",
    "w2v = Word2Vec(\n",
    "    sentences=df_train['review'], \n",
    "    vector_size=VECTOR_SIZE, \n",
    "    window=5, \n",
    "    min_count=3, \n",
    "    epochs=10, \n",
    "    sg=1, \n",
    "    workers=os.cpu_count()\n",
    ")"
   ]
  },
  {
   "cell_type": "code",
   "execution_count": 19,
   "metadata": {},
   "outputs": [
    {
     "data": {
      "application/vnd.jupyter.widget-view+json": {
       "model_id": "858d1be3ebc54a19a52e2511d62eb7d1",
       "version_major": 2,
       "version_minor": 0
      },
      "text/plain": [
       "  0%|          | 0/43911 [00:00<?, ?it/s]"
      ]
     },
     "metadata": {},
     "output_type": "display_data"
    },
    {
     "data": {
      "application/vnd.jupyter.widget-view+json": {
       "model_id": "4e0be323256f41c68d2862b12ceefbee",
       "version_major": 2,
       "version_minor": 0
      },
      "text/plain": [
       "  0%|          | 0/4879 [00:00<?, ?it/s]"
      ]
     },
     "metadata": {},
     "output_type": "display_data"
    },
    {
     "data": {
      "text/plain": [
       "((43911, 100), (4879, 100))"
      ]
     },
     "execution_count": 19,
     "metadata": {},
     "output_type": "execute_result"
    }
   ],
   "source": [
    "# преобразование обучающих текстов в векторы\n",
    "w2v_train = np.stack(\n",
    "    df_train['review'].progress_apply(lambda x: w2v.wv.get_mean_vector(keys=x, pre_normalize=False))\n",
    ")\n",
    "\n",
    "# преобразование тестовых текстов в векторы\n",
    "w2v_test = np.stack(\n",
    "    df_test['review'].progress_apply(lambda x: w2v.wv.get_mean_vector(keys=x, pre_normalize=False))\n",
    ")\n",
    "\n",
    "w2v_train.shape, w2v_test.shape"
   ]
  },
  {
   "cell_type": "code",
   "execution_count": 20,
   "metadata": {},
   "outputs": [],
   "source": [
    "# сохранение\n",
    "w2v.save('data/word2vec.model')\n",
    "np.save('data/train/w2v.npy', arr=w2v_train)\n",
    "np.save('data/test/w2v.npy', arr=w2v_test)"
   ]
  },
  {
   "cell_type": "code",
   "execution_count": 21,
   "metadata": {},
   "outputs": [],
   "source": [
    "# обучение FastText модели\n",
    "fasttext = FastText(\n",
    "    sentences=df_train['review'], \n",
    "    vector_size=VECTOR_SIZE, \n",
    "    window=5, \n",
    "    min_count=3, \n",
    "    epochs=10, \n",
    "    sg=1, \n",
    "    workers=os.cpu_count(), \n",
    "    min_n=2, \n",
    "    max_n=6\n",
    ")"
   ]
  },
  {
   "cell_type": "code",
   "execution_count": 22,
   "metadata": {},
   "outputs": [
    {
     "data": {
      "application/vnd.jupyter.widget-view+json": {
       "model_id": "826c5721ad2d4506a046b5527bd50965",
       "version_major": 2,
       "version_minor": 0
      },
      "text/plain": [
       "  0%|          | 0/43911 [00:00<?, ?it/s]"
      ]
     },
     "metadata": {},
     "output_type": "display_data"
    },
    {
     "data": {
      "application/vnd.jupyter.widget-view+json": {
       "model_id": "1d97b1a6169f44a58adf9e1693872602",
       "version_major": 2,
       "version_minor": 0
      },
      "text/plain": [
       "  0%|          | 0/4879 [00:00<?, ?it/s]"
      ]
     },
     "metadata": {},
     "output_type": "display_data"
    },
    {
     "data": {
      "text/plain": [
       "((43911, 100), (4879, 100))"
      ]
     },
     "execution_count": 22,
     "metadata": {},
     "output_type": "execute_result"
    }
   ],
   "source": [
    "# преобразование обучающих текстов в векторы\n",
    "fasttext_train = np.stack(\n",
    "    df_train['review'].progress_apply(lambda x: fasttext.wv.get_mean_vector(keys=x, pre_normalize=False))\n",
    ")\n",
    "\n",
    "# преобразование тестовых текстов в векторы\n",
    "fasttext_test = np.stack(\n",
    "    df_test['review'].progress_apply(lambda x: fasttext.wv.get_mean_vector(keys=x, pre_normalize=False))\n",
    ")\n",
    "\n",
    "fasttext_train.shape, fasttext_test.shape"
   ]
  },
  {
   "cell_type": "code",
   "execution_count": 23,
   "metadata": {},
   "outputs": [],
   "source": [
    "# сохранение\n",
    "fasttext.save('data/fasttext.model')\n",
    "np.save('data/train/fasttext.npy', arr=fasttext_train)\n",
    "np.save('data/test/fasttext.npy', arr=fasttext_test)"
   ]
  },
  {
   "cell_type": "code",
   "execution_count": 24,
   "metadata": {},
   "outputs": [],
   "source": [
    "# маркеруем каждый текст обучающей выборки уникальным номером\n",
    "documents = [TaggedDocument(doc, [i]) for i, doc in enumerate(df_train['review'])]\n",
    "\n",
    "# обучение Doc2Vec модели\n",
    "d2v = Doc2Vec(\n",
    "    documents=documents, \n",
    "    vector_size=VECTOR_SIZE, \n",
    "    window=5, \n",
    "    min_count=3, \n",
    "    epochs=10, \n",
    "    workers=os.cpu_count()\n",
    ")"
   ]
  },
  {
   "cell_type": "code",
   "execution_count": 25,
   "metadata": {},
   "outputs": [
    {
     "data": {
      "application/vnd.jupyter.widget-view+json": {
       "model_id": "463a23d547bd4b1a910e4e38835aebb8",
       "version_major": 2,
       "version_minor": 0
      },
      "text/plain": [
       "  0%|          | 0/4879 [00:00<?, ?it/s]"
      ]
     },
     "metadata": {},
     "output_type": "display_data"
    },
    {
     "data": {
      "text/plain": [
       "((43911, 100), (4879, 100))"
      ]
     },
     "execution_count": 25,
     "metadata": {},
     "output_type": "execute_result"
    }
   ],
   "source": [
    "# преобразование обучающих текстов в векторы\n",
    "d2v_train = np.stack([d2v.dv[i] for i in range(len(df_train))])\n",
    "\n",
    "# преобразование тестовых текстов в векторы\n",
    "d2v_test = np.stack(df_test['review'].progress_apply(lambda x: d2v.infer_vector(x, epochs=50)))\n",
    "\n",
    "d2v_train.shape, d2v_test.shape"
   ]
  },
  {
   "cell_type": "code",
   "execution_count": 26,
   "metadata": {},
   "outputs": [],
   "source": [
    "# сохранение\n",
    "d2v.save('data/doc2vec.model')\n",
    "np.save('data/train/d2v.npy', arr=d2v_train)\n",
    "np.save('data/test/d2v.npy', arr=d2v_test)"
   ]
  },
  {
   "cell_type": "markdown",
   "metadata": {},
   "source": [
    "## Результаты"
   ]
  },
  {
   "cell_type": "markdown",
   "metadata": {},
   "source": [
    "Была проведена лемматизация текстов, обучение Word2Vec и FastText моделей.  \n",
    "Каждый текст был представлен в виде вектора пятью разными способами (BOW, TF-IDF, Word2Vec, FastText, Doc2Vec)"
   ]
  }
 ],
 "metadata": {
  "kernelspec": {
   "display_name": "venv",
   "language": "python",
   "name": "python3"
  },
  "language_info": {
   "codemirror_mode": {
    "name": "ipython",
    "version": 3
   },
   "file_extension": ".py",
   "mimetype": "text/x-python",
   "name": "python",
   "nbconvert_exporter": "python",
   "pygments_lexer": "ipython3",
   "version": "3.10.9"
  },
  "orig_nbformat": 4
 },
 "nbformat": 4,
 "nbformat_minor": 2
}
