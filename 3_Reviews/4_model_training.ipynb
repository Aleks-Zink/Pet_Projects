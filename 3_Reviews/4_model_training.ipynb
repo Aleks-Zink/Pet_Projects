{
 "cells": [
  {
   "cell_type": "markdown",
   "metadata": {},
   "source": [
    "# Обучение моделей нейронных сетей"
   ]
  },
  {
   "cell_type": "markdown",
   "metadata": {},
   "source": [
    "## Задача"
   ]
  },
  {
   "cell_type": "markdown",
   "metadata": {},
   "source": [
    "Обучение CNN, LSTM, LSTM_CNN моделей текстах обработанных при помощи Word2Vec и FastText."
   ]
  },
  {
   "cell_type": "markdown",
   "metadata": {},
   "source": [
    "## Данные"
   ]
  },
  {
   "cell_type": "markdown",
   "metadata": {},
   "source": [
    "Классы с архитектурами нейронных сетей и данные для обучения и теста взяты из файла *dataset_and_models.py*,  \n",
    "гиперпараметры для сетей записаны в файле *data/best_hyperparameters.pkl*"
   ]
  },
  {
   "cell_type": "markdown",
   "metadata": {},
   "source": [
    "## Расчёты"
   ]
  },
  {
   "cell_type": "code",
   "execution_count": 1,
   "metadata": {},
   "outputs": [],
   "source": [
    "import pickle\n",
    "import torch\n",
    "from torch import nn, optim\n",
    "from sklearn.metrics import f1_score, accuracy_score\n",
    "from dataset_and_models import CNN, LSTM, LSTM_CNN\n",
    "from dataset_and_models import w2v_data_train, w2v_data_test\n",
    "from dataset_and_models import fasttext_data_train, fasttext_data_test\n",
    "from tqdm.notebook import tqdm"
   ]
  },
  {
   "cell_type": "code",
   "execution_count": 2,
   "metadata": {},
   "outputs": [],
   "source": [
    "# чтение файла, содержащего лучшие гиперпараметры\n",
    "with open('data/best_hyperparameters.pkl', 'rb') as f:\n",
    "    best_hyperparameters = pickle.load(f)"
   ]
  },
  {
   "cell_type": "code",
   "execution_count": 3,
   "metadata": {},
   "outputs": [],
   "source": [
    "# установка устройва для расчётов\n",
    "DEVICE = \"cuda:0\" if torch.cuda.is_available() else \"cpu\""
   ]
  },
  {
   "cell_type": "code",
   "execution_count": 4,
   "metadata": {},
   "outputs": [],
   "source": [
    "def train(\n",
    "        model_class, \n",
    "        hyperparameters, \n",
    "        data_train, \n",
    "        data_test, \n",
    "        indicators_switch=True, \n",
    "        epochs=30, \n",
    "        device=DEVICE, \n",
    "        name_model=None\n",
    "):\n",
    "    \"\"\"\n",
    "    Функция для обучения модели\n",
    "    :param model_class: класс модели нейронной сети\n",
    "    :param hyperparameters: гиперпараметры модели\n",
    "    :param data_train: данные для обучения\n",
    "    :param data_test: данные для теста\n",
    "    :param indicator_switch: отображать информацию об обучение каждую эпоху или нет\n",
    "    :param epochs: количество эпох обучения\n",
    "    :param device: устройво для основных расчётов\n",
    "    :param name_model: имя подели для сохранения\n",
    "    \"\"\"\n",
    "    # получение коэффициента скорости обучения\n",
    "    lr = hyperparameters.pop('lr')\n",
    "    # создание объекта модели нейронной сети\n",
    "    model = model_class(**hyperparameters, p=0.25)\n",
    "    \n",
    "    # установка функции ошибки и оптимизатора\n",
    "    loss_fn = nn.CrossEntropyLoss()\n",
    "    optimizer = optim.Adam(model.parameters(), lr=lr)\n",
    "    # установка планировщика, для умножения lr на коэффициент 0.5 если F1-score не будет улучшаться в течении 3 эпох\n",
    "    scheduler = optim.lr_scheduler.ReduceLROnPlateau(\n",
    "        optimizer, \n",
    "        mode='max', \n",
    "        factor=0.5,\n",
    "        patience=2\n",
    "    )\n",
    "\n",
    "    # хранит лучший F1-score\n",
    "    best_f1_score = 0\n",
    "\n",
    "    # цикл обучения\n",
    "    for epoch in range(epochs):\n",
    "\n",
    "        model.to(device)\n",
    "        model.train()\n",
    "\n",
    "        progress_bar = tqdm(data_train, desc=f'Эпоха {epoch+1}') if indicators_switch else data_train\n",
    "\n",
    "        # обучение модели в пределах одной эпохи\n",
    "        for x, y in progress_bar:\n",
    "\n",
    "            x, y = x.to(device), y.to(device)\n",
    "            y_hat = model(x)\n",
    "\n",
    "            optimizer.zero_grad()\n",
    "            loss = loss_fn(y_hat, y)\n",
    "            loss.backward()\n",
    "            optimizer.step()\n",
    "\n",
    "        # оценка модели после эпохи обучения    \n",
    "        model.eval()\n",
    "        \n",
    "        output_model = torch.Tensor([]).to(device)\n",
    "        output_y = torch.Tensor([]).to(device)\n",
    "        \n",
    "        with torch.no_grad():\n",
    "            for x, y in data_test:\n",
    "                x, y = x.to(device), y.to(device)\n",
    "                output_model = torch.concat([output_model, model(x).argmax(axis=1)])\n",
    "                    \n",
    "                output_y = torch.concat([output_y, y])\n",
    "        \n",
    "        output_y = output_y.to('cpu')\n",
    "        output_model = output_model.to('cpu')\n",
    "        f1 = f1_score(y_true=output_y.numpy(),\n",
    "                      y_pred=output_model.numpy(),\n",
    "                      average='weighted')\n",
    "        \n",
    "        scheduler.step(f1)\n",
    "\n",
    "        # вывод информации об оценках модели по итогу эпохи\n",
    "        if indicators_switch:\n",
    "\n",
    "            print('F1-score (weighted):\\t', f1)\n",
    "            print('Точность:\\t\\t', accuracy_score(y_true=output_y.numpy(),\n",
    "                                                  y_pred=output_model.numpy()))\n",
    "        \n",
    "        # сохранение модели с наилучшим F1-score\n",
    "        if best_f1_score < f1:\n",
    "            \n",
    "            best_f1_score = f1\n",
    "            torch.save(model, f'{name_model}.pt')\n",
    "\n",
    "            if indicators_switch:\n",
    "                print('===Модель сохранена===')"
   ]
  },
  {
   "cell_type": "markdown",
   "metadata": {},
   "source": [
    "### Обучение CNN моделей"
   ]
  },
  {
   "cell_type": "code",
   "execution_count": 5,
   "metadata": {},
   "outputs": [
    {
     "data": {
      "application/vnd.jupyter.widget-view+json": {
       "model_id": "b88f99edfa8943ea9a0fb3eb95065327",
       "version_major": 2,
       "version_minor": 0
      },
      "text/plain": [
       "Эпоха 1:   0%|          | 0/440 [00:00<?, ?it/s]"
      ]
     },
     "metadata": {},
     "output_type": "display_data"
    },
    {
     "name": "stdout",
     "output_type": "stream",
     "text": [
      "F1-score (weighted):\t 0.669712503722155\n",
      "Точность:\t\t 0.7247386759581882\n",
      "===Модель сохранена===\n"
     ]
    },
    {
     "data": {
      "application/vnd.jupyter.widget-view+json": {
       "model_id": "85f0c701f5a04b6291841d5678df6503",
       "version_major": 2,
       "version_minor": 0
      },
      "text/plain": [
       "Эпоха 2:   0%|          | 0/440 [00:00<?, ?it/s]"
      ]
     },
     "metadata": {},
     "output_type": "display_data"
    },
    {
     "name": "stdout",
     "output_type": "stream",
     "text": [
      "F1-score (weighted):\t 0.7219501993229656\n",
      "Точность:\t\t 0.7456445993031359\n",
      "===Модель сохранена===\n"
     ]
    },
    {
     "data": {
      "application/vnd.jupyter.widget-view+json": {
       "model_id": "c648579a439c49939465ecd1ef91778a",
       "version_major": 2,
       "version_minor": 0
      },
      "text/plain": [
       "Эпоха 3:   0%|          | 0/440 [00:00<?, ?it/s]"
      ]
     },
     "metadata": {},
     "output_type": "display_data"
    },
    {
     "name": "stdout",
     "output_type": "stream",
     "text": [
      "F1-score (weighted):\t 0.7207812551219264\n",
      "Точность:\t\t 0.7481041196966591\n"
     ]
    },
    {
     "data": {
      "application/vnd.jupyter.widget-view+json": {
       "model_id": "360659992f484c1faf8ae80699972ab9",
       "version_major": 2,
       "version_minor": 0
      },
      "text/plain": [
       "Эпоха 4:   0%|          | 0/440 [00:00<?, ?it/s]"
      ]
     },
     "metadata": {},
     "output_type": "display_data"
    },
    {
     "name": "stdout",
     "output_type": "stream",
     "text": [
      "F1-score (weighted):\t 0.7277814000385328\n",
      "Точность:\t\t 0.7468743594998976\n",
      "===Модель сохранена===\n"
     ]
    },
    {
     "data": {
      "application/vnd.jupyter.widget-view+json": {
       "model_id": "6e6518c8823040a18d0f4374adc57b2a",
       "version_major": 2,
       "version_minor": 0
      },
      "text/plain": [
       "Эпоха 5:   0%|          | 0/440 [00:00<?, ?it/s]"
      ]
     },
     "metadata": {},
     "output_type": "display_data"
    },
    {
     "name": "stdout",
     "output_type": "stream",
     "text": [
      "F1-score (weighted):\t 0.726331426260542\n",
      "Точность:\t\t 0.741955318712851\n"
     ]
    },
    {
     "data": {
      "application/vnd.jupyter.widget-view+json": {
       "model_id": "0145477bf49841ebae524b8c0f9e031f",
       "version_major": 2,
       "version_minor": 0
      },
      "text/plain": [
       "Эпоха 6:   0%|          | 0/440 [00:00<?, ?it/s]"
      ]
     },
     "metadata": {},
     "output_type": "display_data"
    },
    {
     "name": "stdout",
     "output_type": "stream",
     "text": [
      "F1-score (weighted):\t 0.7290845465736754\n",
      "Точность:\t\t 0.7329370772699324\n",
      "===Модель сохранена===\n"
     ]
    },
    {
     "data": {
      "application/vnd.jupyter.widget-view+json": {
       "model_id": "f8eca9118e804ddd9b282bbf78698601",
       "version_major": 2,
       "version_minor": 0
      },
      "text/plain": [
       "Эпоха 7:   0%|          | 0/440 [00:00<?, ?it/s]"
      ]
     },
     "metadata": {},
     "output_type": "display_data"
    },
    {
     "name": "stdout",
     "output_type": "stream",
     "text": [
      "F1-score (weighted):\t 0.7356305112950613\n",
      "Точность:\t\t 0.7437999590079934\n",
      "===Модель сохранена===\n"
     ]
    },
    {
     "data": {
      "application/vnd.jupyter.widget-view+json": {
       "model_id": "43f9d91656314de387b5c9e1d3f54523",
       "version_major": 2,
       "version_minor": 0
      },
      "text/plain": [
       "Эпоха 8:   0%|          | 0/440 [00:00<?, ?it/s]"
      ]
     },
     "metadata": {},
     "output_type": "display_data"
    },
    {
     "name": "stdout",
     "output_type": "stream",
     "text": [
      "F1-score (weighted):\t 0.7277646793649951\n",
      "Точность:\t\t 0.7241237958598074\n"
     ]
    },
    {
     "data": {
      "application/vnd.jupyter.widget-view+json": {
       "model_id": "ad7f65cac0804b32ab9bc44fb153c124",
       "version_major": 2,
       "version_minor": 0
      },
      "text/plain": [
       "Эпоха 9:   0%|          | 0/440 [00:00<?, ?it/s]"
      ]
     },
     "metadata": {},
     "output_type": "display_data"
    },
    {
     "name": "stdout",
     "output_type": "stream",
     "text": [
      "F1-score (weighted):\t 0.7092223395733576\n",
      "Точность:\t\t 0.7003484320557491\n"
     ]
    },
    {
     "data": {
      "application/vnd.jupyter.widget-view+json": {
       "model_id": "c50c194c12aa401d886fb3de2cba7f37",
       "version_major": 2,
       "version_minor": 0
      },
      "text/plain": [
       "Эпоха 10:   0%|          | 0/440 [00:00<?, ?it/s]"
      ]
     },
     "metadata": {},
     "output_type": "display_data"
    },
    {
     "name": "stdout",
     "output_type": "stream",
     "text": [
      "F1-score (weighted):\t 0.7256417327177987\n",
      "Точность:\t\t 0.7335519573683131\n"
     ]
    },
    {
     "data": {
      "application/vnd.jupyter.widget-view+json": {
       "model_id": "2de4d974904649fd84f137a47f996052",
       "version_major": 2,
       "version_minor": 0
      },
      "text/plain": [
       "Эпоха 11:   0%|          | 0/440 [00:00<?, ?it/s]"
      ]
     },
     "metadata": {},
     "output_type": "display_data"
    },
    {
     "name": "stdout",
     "output_type": "stream",
     "text": [
      "F1-score (weighted):\t 0.7190155165134534\n",
      "Точность:\t\t 0.7356015576962492\n"
     ]
    },
    {
     "data": {
      "application/vnd.jupyter.widget-view+json": {
       "model_id": "bfee4050e2e3474b98efaa7c209131aa",
       "version_major": 2,
       "version_minor": 0
      },
      "text/plain": [
       "Эпоха 12:   0%|          | 0/440 [00:00<?, ?it/s]"
      ]
     },
     "metadata": {},
     "output_type": "display_data"
    },
    {
     "name": "stdout",
     "output_type": "stream",
     "text": [
      "F1-score (weighted):\t 0.7202538707947006\n",
      "Точность:\t\t 0.7292477966796475\n"
     ]
    },
    {
     "data": {
      "application/vnd.jupyter.widget-view+json": {
       "model_id": "d9d385555a594e138ee262bf09754d11",
       "version_major": 2,
       "version_minor": 0
      },
      "text/plain": [
       "Эпоха 13:   0%|          | 0/440 [00:00<?, ?it/s]"
      ]
     },
     "metadata": {},
     "output_type": "display_data"
    },
    {
     "name": "stdout",
     "output_type": "stream",
     "text": [
      "F1-score (weighted):\t 0.7200776752639881\n",
      "Точность:\t\t 0.7233039557286329\n"
     ]
    },
    {
     "data": {
      "application/vnd.jupyter.widget-view+json": {
       "model_id": "82856b45e96040e1a92ac2330fe99839",
       "version_major": 2,
       "version_minor": 0
      },
      "text/plain": [
       "Эпоха 14:   0%|          | 0/440 [00:00<?, ?it/s]"
      ]
     },
     "metadata": {},
     "output_type": "display_data"
    },
    {
     "name": "stdout",
     "output_type": "stream",
     "text": [
      "F1-score (weighted):\t 0.7183183941072698\n",
      "Точность:\t\t 0.7233039557286329\n"
     ]
    },
    {
     "data": {
      "application/vnd.jupyter.widget-view+json": {
       "model_id": "6fe402a7f6e54ab0a0c8e4a47ad725cb",
       "version_major": 2,
       "version_minor": 0
      },
      "text/plain": [
       "Эпоха 15:   0%|          | 0/440 [00:00<?, ?it/s]"
      ]
     },
     "metadata": {},
     "output_type": "display_data"
    },
    {
     "name": "stdout",
     "output_type": "stream",
     "text": [
      "F1-score (weighted):\t 0.7164987659699871\n",
      "Точность:\t\t 0.7243287558926009\n"
     ]
    },
    {
     "data": {
      "application/vnd.jupyter.widget-view+json": {
       "model_id": "5e6e829654b04dad95bfebe7a6efdbe5",
       "version_major": 2,
       "version_minor": 0
      },
      "text/plain": [
       "Эпоха 16:   0%|          | 0/440 [00:00<?, ?it/s]"
      ]
     },
     "metadata": {},
     "output_type": "display_data"
    },
    {
     "name": "stdout",
     "output_type": "stream",
     "text": [
      "F1-score (weighted):\t 0.7127964292272249\n",
      "Точность:\t\t 0.7247386759581882\n"
     ]
    },
    {
     "data": {
      "application/vnd.jupyter.widget-view+json": {
       "model_id": "7dd80e899d794207bb4d113bac6674f5",
       "version_major": 2,
       "version_minor": 0
      },
      "text/plain": [
       "Эпоха 17:   0%|          | 0/440 [00:00<?, ?it/s]"
      ]
     },
     "metadata": {},
     "output_type": "display_data"
    },
    {
     "name": "stdout",
     "output_type": "stream",
     "text": [
      "F1-score (weighted):\t 0.7186508408988553\n",
      "Точность:\t\t 0.7243287558926009\n"
     ]
    },
    {
     "data": {
      "application/vnd.jupyter.widget-view+json": {
       "model_id": "ca652c04e05846ba9290461511a0e8ef",
       "version_major": 2,
       "version_minor": 0
      },
      "text/plain": [
       "Эпоха 18:   0%|          | 0/440 [00:00<?, ?it/s]"
      ]
     },
     "metadata": {},
     "output_type": "display_data"
    },
    {
     "name": "stdout",
     "output_type": "stream",
     "text": [
      "F1-score (weighted):\t 0.7207834420427435\n",
      "Точность:\t\t 0.7247386759581882\n"
     ]
    },
    {
     "data": {
      "application/vnd.jupyter.widget-view+json": {
       "model_id": "c7df9661dd164335a69bca5565f35c4e",
       "version_major": 2,
       "version_minor": 0
      },
      "text/plain": [
       "Эпоха 19:   0%|          | 0/440 [00:00<?, ?it/s]"
      ]
     },
     "metadata": {},
     "output_type": "display_data"
    },
    {
     "name": "stdout",
     "output_type": "stream",
     "text": [
      "F1-score (weighted):\t 0.7171926591828537\n",
      "Точность:\t\t 0.7261733961877433\n"
     ]
    },
    {
     "data": {
      "application/vnd.jupyter.widget-view+json": {
       "model_id": "43767083ff764bffbbe81398c5dd6ae2",
       "version_major": 2,
       "version_minor": 0
      },
      "text/plain": [
       "Эпоха 20:   0%|          | 0/440 [00:00<?, ?it/s]"
      ]
     },
     "metadata": {},
     "output_type": "display_data"
    },
    {
     "name": "stdout",
     "output_type": "stream",
     "text": [
      "F1-score (weighted):\t 0.7182092537111608\n",
      "Точность:\t\t 0.7224841155974585\n"
     ]
    },
    {
     "data": {
      "application/vnd.jupyter.widget-view+json": {
       "model_id": "e46ba7115a2b40d3b8094abb5fd29ffb",
       "version_major": 2,
       "version_minor": 0
      },
      "text/plain": [
       "Эпоха 21:   0%|          | 0/440 [00:00<?, ?it/s]"
      ]
     },
     "metadata": {},
     "output_type": "display_data"
    },
    {
     "name": "stdout",
     "output_type": "stream",
     "text": [
      "F1-score (weighted):\t 0.7162149966435658\n",
      "Точность:\t\t 0.71858987497438\n"
     ]
    },
    {
     "data": {
      "application/vnd.jupyter.widget-view+json": {
       "model_id": "d1446fa2e7bc40d7b627a591d05aca42",
       "version_major": 2,
       "version_minor": 0
      },
      "text/plain": [
       "Эпоха 22:   0%|          | 0/440 [00:00<?, ?it/s]"
      ]
     },
     "metadata": {},
     "output_type": "display_data"
    },
    {
     "name": "stdout",
     "output_type": "stream",
     "text": [
      "F1-score (weighted):\t 0.7170277769316408\n",
      "Точность:\t\t 0.7208444353351097\n"
     ]
    },
    {
     "data": {
      "application/vnd.jupyter.widget-view+json": {
       "model_id": "3af8a619deb149ac9650f731726e071b",
       "version_major": 2,
       "version_minor": 0
      },
      "text/plain": [
       "Эпоха 23:   0%|          | 0/440 [00:00<?, ?it/s]"
      ]
     },
     "metadata": {},
     "output_type": "display_data"
    },
    {
     "name": "stdout",
     "output_type": "stream",
     "text": [
      "F1-score (weighted):\t 0.7156863403371515\n",
      "Точность:\t\t 0.7204345152695224\n"
     ]
    },
    {
     "data": {
      "application/vnd.jupyter.widget-view+json": {
       "model_id": "5dca4de1894a4f90ac6652c1020db239",
       "version_major": 2,
       "version_minor": 0
      },
      "text/plain": [
       "Эпоха 24:   0%|          | 0/440 [00:00<?, ?it/s]"
      ]
     },
     "metadata": {},
     "output_type": "display_data"
    },
    {
     "name": "stdout",
     "output_type": "stream",
     "text": [
      "F1-score (weighted):\t 0.7156250985200892\n",
      "Точность:\t\t 0.7226890756302521\n"
     ]
    },
    {
     "data": {
      "application/vnd.jupyter.widget-view+json": {
       "model_id": "2d154ced2e62409192152a7f81a20f7a",
       "version_major": 2,
       "version_minor": 0
      },
      "text/plain": [
       "Эпоха 25:   0%|          | 0/440 [00:00<?, ?it/s]"
      ]
     },
     "metadata": {},
     "output_type": "display_data"
    },
    {
     "name": "stdout",
     "output_type": "stream",
     "text": [
      "F1-score (weighted):\t 0.7165052618227725\n",
      "Точность:\t\t 0.7206394753023161\n"
     ]
    },
    {
     "data": {
      "application/vnd.jupyter.widget-view+json": {
       "model_id": "25f3bfd16eec4eff9135e32107f0237c",
       "version_major": 2,
       "version_minor": 0
      },
      "text/plain": [
       "Эпоха 26:   0%|          | 0/440 [00:00<?, ?it/s]"
      ]
     },
     "metadata": {},
     "output_type": "display_data"
    },
    {
     "name": "stdout",
     "output_type": "stream",
     "text": [
      "F1-score (weighted):\t 0.7159760067721789\n",
      "Точность:\t\t 0.7206394753023161\n"
     ]
    },
    {
     "data": {
      "application/vnd.jupyter.widget-view+json": {
       "model_id": "bb15ab05ca384f12b834d53921a59e5e",
       "version_major": 2,
       "version_minor": 0
      },
      "text/plain": [
       "Эпоха 27:   0%|          | 0/440 [00:00<?, ?it/s]"
      ]
     },
     "metadata": {},
     "output_type": "display_data"
    },
    {
     "name": "stdout",
     "output_type": "stream",
     "text": [
      "F1-score (weighted):\t 0.7163482998948482\n",
      "Точность:\t\t 0.7222791555646649\n"
     ]
    },
    {
     "data": {
      "application/vnd.jupyter.widget-view+json": {
       "model_id": "ca1ee3f55a604601b3e41502011d26fa",
       "version_major": 2,
       "version_minor": 0
      },
      "text/plain": [
       "Эпоха 28:   0%|          | 0/440 [00:00<?, ?it/s]"
      ]
     },
     "metadata": {},
     "output_type": "display_data"
    },
    {
     "name": "stdout",
     "output_type": "stream",
     "text": [
      "F1-score (weighted):\t 0.7164233318899298\n",
      "Точность:\t\t 0.7202295552367288\n"
     ]
    },
    {
     "data": {
      "application/vnd.jupyter.widget-view+json": {
       "model_id": "3752c5ea8e63439a9134d1af0d1d9aeb",
       "version_major": 2,
       "version_minor": 0
      },
      "text/plain": [
       "Эпоха 29:   0%|          | 0/440 [00:00<?, ?it/s]"
      ]
     },
     "metadata": {},
     "output_type": "display_data"
    },
    {
     "name": "stdout",
     "output_type": "stream",
     "text": [
      "F1-score (weighted):\t 0.7152114489616587\n",
      "Точность:\t\t 0.7202295552367288\n"
     ]
    },
    {
     "data": {
      "application/vnd.jupyter.widget-view+json": {
       "model_id": "b18abc4395574db685345ec55d1e517d",
       "version_major": 2,
       "version_minor": 0
      },
      "text/plain": [
       "Эпоха 30:   0%|          | 0/440 [00:00<?, ?it/s]"
      ]
     },
     "metadata": {},
     "output_type": "display_data"
    },
    {
     "name": "stdout",
     "output_type": "stream",
     "text": [
      "F1-score (weighted):\t 0.7154793378554313\n",
      "Точность:\t\t 0.7202295552367288\n"
     ]
    }
   ],
   "source": [
    "# w2v CNN\n",
    "train(\n",
    "    model_class=CNN,\n",
    "    hyperparameters=best_hyperparameters['w2v_CNN'].copy(),\n",
    "    data_train=w2v_data_train,\n",
    "    data_test=w2v_data_test,\n",
    "    name_model='models/w2v_cnn'\n",
    ")"
   ]
  },
  {
   "cell_type": "code",
   "execution_count": 6,
   "metadata": {},
   "outputs": [
    {
     "data": {
      "application/vnd.jupyter.widget-view+json": {
       "model_id": "6084584988704632ae9449b504d64123",
       "version_major": 2,
       "version_minor": 0
      },
      "text/plain": [
       "Эпоха 1:   0%|          | 0/440 [00:00<?, ?it/s]"
      ]
     },
     "metadata": {},
     "output_type": "display_data"
    },
    {
     "name": "stdout",
     "output_type": "stream",
     "text": [
      "F1-score (weighted):\t 0.6067739349233938\n",
      "Точность:\t\t 0.6870260299241648\n",
      "===Модель сохранена===\n"
     ]
    },
    {
     "data": {
      "application/vnd.jupyter.widget-view+json": {
       "model_id": "a7c7539139dc4a2e88c4447f8979dbd4",
       "version_major": 2,
       "version_minor": 0
      },
      "text/plain": [
       "Эпоха 2:   0%|          | 0/440 [00:00<?, ?it/s]"
      ]
     },
     "metadata": {},
     "output_type": "display_data"
    },
    {
     "name": "stdout",
     "output_type": "stream",
     "text": [
      "F1-score (weighted):\t 0.6640789982666838\n",
      "Точность:\t\t 0.7286329165812666\n",
      "===Модель сохранена===\n"
     ]
    },
    {
     "data": {
      "application/vnd.jupyter.widget-view+json": {
       "model_id": "9169be3084af47ab8166f698cb39eee9",
       "version_major": 2,
       "version_minor": 0
      },
      "text/plain": [
       "Эпоха 3:   0%|          | 0/440 [00:00<?, ?it/s]"
      ]
     },
     "metadata": {},
     "output_type": "display_data"
    },
    {
     "name": "stdout",
     "output_type": "stream",
     "text": [
      "F1-score (weighted):\t 0.6893208342854498\n",
      "Точность:\t\t 0.7245337159253945\n",
      "===Модель сохранена===\n"
     ]
    },
    {
     "data": {
      "application/vnd.jupyter.widget-view+json": {
       "model_id": "0dc1dfbb4c3741c39eaea571ae9f498a",
       "version_major": 2,
       "version_minor": 0
      },
      "text/plain": [
       "Эпоха 4:   0%|          | 0/440 [00:00<?, ?it/s]"
      ]
     },
     "metadata": {},
     "output_type": "display_data"
    },
    {
     "name": "stdout",
     "output_type": "stream",
     "text": [
      "F1-score (weighted):\t 0.6895129236411145\n",
      "Точность:\t\t 0.7356015576962492\n",
      "===Модель сохранена===\n"
     ]
    },
    {
     "data": {
      "application/vnd.jupyter.widget-view+json": {
       "model_id": "fc9a2f30ba4745e8944b94d723e64430",
       "version_major": 2,
       "version_minor": 0
      },
      "text/plain": [
       "Эпоха 5:   0%|          | 0/440 [00:00<?, ?it/s]"
      ]
     },
     "metadata": {},
     "output_type": "display_data"
    },
    {
     "name": "stdout",
     "output_type": "stream",
     "text": [
      "F1-score (weighted):\t 0.7022829875216531\n",
      "Точность:\t\t 0.7323221971715516\n",
      "===Модель сохранена===\n"
     ]
    },
    {
     "data": {
      "application/vnd.jupyter.widget-view+json": {
       "model_id": "0b3a394f480d474e94e55e3d6e042eb8",
       "version_major": 2,
       "version_minor": 0
      },
      "text/plain": [
       "Эпоха 6:   0%|          | 0/440 [00:00<?, ?it/s]"
      ]
     },
     "metadata": {},
     "output_type": "display_data"
    },
    {
     "name": "stdout",
     "output_type": "stream",
     "text": [
      "F1-score (weighted):\t 0.7269543300979374\n",
      "Точность:\t\t 0.7470793195326911\n",
      "===Модель сохранена===\n"
     ]
    },
    {
     "data": {
      "application/vnd.jupyter.widget-view+json": {
       "model_id": "cd41d602fd3347d3a97e944593616f74",
       "version_major": 2,
       "version_minor": 0
      },
      "text/plain": [
       "Эпоха 7:   0%|          | 0/440 [00:00<?, ?it/s]"
      ]
     },
     "metadata": {},
     "output_type": "display_data"
    },
    {
     "name": "stdout",
     "output_type": "stream",
     "text": [
      "F1-score (weighted):\t 0.697009644977993\n",
      "Точность:\t\t 0.7376511580241852\n"
     ]
    },
    {
     "data": {
      "application/vnd.jupyter.widget-view+json": {
       "model_id": "584bb3453f0240a8a6c88ca378aacfc7",
       "version_major": 2,
       "version_minor": 0
      },
      "text/plain": [
       "Эпоха 8:   0%|          | 0/440 [00:00<?, ?it/s]"
      ]
     },
     "metadata": {},
     "output_type": "display_data"
    },
    {
     "name": "stdout",
     "output_type": "stream",
     "text": [
      "F1-score (weighted):\t 0.7194606262796667\n",
      "Точность:\t\t 0.741955318712851\n"
     ]
    },
    {
     "data": {
      "application/vnd.jupyter.widget-view+json": {
       "model_id": "6718fea688a04beabfdebc5e6570971c",
       "version_major": 2,
       "version_minor": 0
      },
      "text/plain": [
       "Эпоха 9:   0%|          | 0/440 [00:00<?, ?it/s]"
      ]
     },
     "metadata": {},
     "output_type": "display_data"
    },
    {
     "name": "stdout",
     "output_type": "stream",
     "text": [
      "F1-score (weighted):\t 0.7093127159653744\n",
      "Точность:\t\t 0.7366263578602172\n"
     ]
    },
    {
     "data": {
      "application/vnd.jupyter.widget-view+json": {
       "model_id": "25de6fd413ea4667b6c086312ad07137",
       "version_major": 2,
       "version_minor": 0
      },
      "text/plain": [
       "Эпоха 10:   0%|          | 0/440 [00:00<?, ?it/s]"
      ]
     },
     "metadata": {},
     "output_type": "display_data"
    },
    {
     "name": "stdout",
     "output_type": "stream",
     "text": [
      "F1-score (weighted):\t 0.7239885720405239\n",
      "Точность:\t\t 0.7374461979913917\n"
     ]
    },
    {
     "data": {
      "application/vnd.jupyter.widget-view+json": {
       "model_id": "ea8b145306ac4ccab5486975b9658f6a",
       "version_major": 2,
       "version_minor": 0
      },
      "text/plain": [
       "Эпоха 11:   0%|          | 0/440 [00:00<?, ?it/s]"
      ]
     },
     "metadata": {},
     "output_type": "display_data"
    },
    {
     "name": "stdout",
     "output_type": "stream",
     "text": [
      "F1-score (weighted):\t 0.7250927217102179\n",
      "Точность:\t\t 0.7413404386144702\n"
     ]
    },
    {
     "data": {
      "application/vnd.jupyter.widget-view+json": {
       "model_id": "7251bbe941c149b69e9fd1efa3e7414a",
       "version_major": 2,
       "version_minor": 0
      },
      "text/plain": [
       "Эпоха 12:   0%|          | 0/440 [00:00<?, ?it/s]"
      ]
     },
     "metadata": {},
     "output_type": "display_data"
    },
    {
     "name": "stdout",
     "output_type": "stream",
     "text": [
      "F1-score (weighted):\t 0.7060948586839867\n",
      "Точность:\t\t 0.7339618774339004\n"
     ]
    },
    {
     "data": {
      "application/vnd.jupyter.widget-view+json": {
       "model_id": "040c81dab9c24cf9854a4d770eb8d279",
       "version_major": 2,
       "version_minor": 0
      },
      "text/plain": [
       "Эпоха 13:   0%|          | 0/440 [00:00<?, ?it/s]"
      ]
     },
     "metadata": {},
     "output_type": "display_data"
    },
    {
     "name": "stdout",
     "output_type": "stream",
     "text": [
      "F1-score (weighted):\t 0.7236334820513033\n",
      "Точность:\t\t 0.7360114777618364\n"
     ]
    },
    {
     "data": {
      "application/vnd.jupyter.widget-view+json": {
       "model_id": "ce32e3fb037a4712a9c7feb0905c034d",
       "version_major": 2,
       "version_minor": 0
      },
      "text/plain": [
       "Эпоха 14:   0%|          | 0/440 [00:00<?, ?it/s]"
      ]
     },
     "metadata": {},
     "output_type": "display_data"
    },
    {
     "name": "stdout",
     "output_type": "stream",
     "text": [
      "F1-score (weighted):\t 0.7221335583655996\n",
      "Точность:\t\t 0.7356015576962492\n"
     ]
    },
    {
     "data": {
      "application/vnd.jupyter.widget-view+json": {
       "model_id": "5ddbaa22a7614647ba8674cb1b8f8883",
       "version_major": 2,
       "version_minor": 0
      },
      "text/plain": [
       "Эпоха 15:   0%|          | 0/440 [00:00<?, ?it/s]"
      ]
     },
     "metadata": {},
     "output_type": "display_data"
    },
    {
     "name": "stdout",
     "output_type": "stream",
     "text": [
      "F1-score (weighted):\t 0.7268966321499177\n",
      "Точность:\t\t 0.7339618774339004\n"
     ]
    },
    {
     "data": {
      "application/vnd.jupyter.widget-view+json": {
       "model_id": "e5bfbc7ed3b34198a9e4672cc9d09a6a",
       "version_major": 2,
       "version_minor": 0
      },
      "text/plain": [
       "Эпоха 16:   0%|          | 0/440 [00:00<?, ?it/s]"
      ]
     },
     "metadata": {},
     "output_type": "display_data"
    },
    {
     "name": "stdout",
     "output_type": "stream",
     "text": [
      "F1-score (weighted):\t 0.731622921792584\n",
      "Точность:\t\t 0.7370362779258045\n",
      "===Модель сохранена===\n"
     ]
    },
    {
     "data": {
      "application/vnd.jupyter.widget-view+json": {
       "model_id": "98977f45f48448dd89a6ddad49a3aeb4",
       "version_major": 2,
       "version_minor": 0
      },
      "text/plain": [
       "Эпоха 17:   0%|          | 0/440 [00:00<?, ?it/s]"
      ]
     },
     "metadata": {},
     "output_type": "display_data"
    },
    {
     "name": "stdout",
     "output_type": "stream",
     "text": [
      "F1-score (weighted):\t 0.7293211237226673\n",
      "Точность:\t\t 0.7349866775978684\n"
     ]
    },
    {
     "data": {
      "application/vnd.jupyter.widget-view+json": {
       "model_id": "1c39119f2a9a4b16908d544dc300e5f9",
       "version_major": 2,
       "version_minor": 0
      },
      "text/plain": [
       "Эпоха 18:   0%|          | 0/440 [00:00<?, ?it/s]"
      ]
     },
     "metadata": {},
     "output_type": "display_data"
    },
    {
     "name": "stdout",
     "output_type": "stream",
     "text": [
      "F1-score (weighted):\t 0.7259927332347624\n",
      "Точность:\t\t 0.7345767575322812\n"
     ]
    },
    {
     "data": {
      "application/vnd.jupyter.widget-view+json": {
       "model_id": "2515fc66e9d247c7ba6bfa0b0386824b",
       "version_major": 2,
       "version_minor": 0
      },
      "text/plain": [
       "Эпоха 19:   0%|          | 0/440 [00:00<?, ?it/s]"
      ]
     },
     "metadata": {},
     "output_type": "display_data"
    },
    {
     "name": "stdout",
     "output_type": "stream",
     "text": [
      "F1-score (weighted):\t 0.7262283658368583\n",
      "Точность:\t\t 0.733142037302726\n"
     ]
    },
    {
     "data": {
      "application/vnd.jupyter.widget-view+json": {
       "model_id": "ff8001bdf75d42e383fa867fb205adb5",
       "version_major": 2,
       "version_minor": 0
      },
      "text/plain": [
       "Эпоха 20:   0%|          | 0/440 [00:00<?, ?it/s]"
      ]
     },
     "metadata": {},
     "output_type": "display_data"
    },
    {
     "name": "stdout",
     "output_type": "stream",
     "text": [
      "F1-score (weighted):\t 0.7272748655368535\n",
      "Точность:\t\t 0.7325271572043451\n"
     ]
    },
    {
     "data": {
      "application/vnd.jupyter.widget-view+json": {
       "model_id": "b7575e2612cd446bb88569a371e4f78a",
       "version_major": 2,
       "version_minor": 0
      },
      "text/plain": [
       "Эпоха 21:   0%|          | 0/440 [00:00<?, ?it/s]"
      ]
     },
     "metadata": {},
     "output_type": "display_data"
    },
    {
     "name": "stdout",
     "output_type": "stream",
     "text": [
      "F1-score (weighted):\t 0.7275379784704289\n",
      "Точность:\t\t 0.7312973970075836\n"
     ]
    },
    {
     "data": {
      "application/vnd.jupyter.widget-view+json": {
       "model_id": "03436064f2194755915e24f5b7d11e34",
       "version_major": 2,
       "version_minor": 0
      },
      "text/plain": [
       "Эпоха 22:   0%|          | 0/440 [00:00<?, ?it/s]"
      ]
     },
     "metadata": {},
     "output_type": "display_data"
    },
    {
     "name": "stdout",
     "output_type": "stream",
     "text": [
      "F1-score (weighted):\t 0.7246892479142665\n",
      "Точность:\t\t 0.7319122771059643\n"
     ]
    },
    {
     "data": {
      "application/vnd.jupyter.widget-view+json": {
       "model_id": "5ac2d3d9b4bf49199f5bdeb9aec6a81a",
       "version_major": 2,
       "version_minor": 0
      },
      "text/plain": [
       "Эпоха 23:   0%|          | 0/440 [00:00<?, ?it/s]"
      ]
     },
     "metadata": {},
     "output_type": "display_data"
    },
    {
     "name": "stdout",
     "output_type": "stream",
     "text": [
      "F1-score (weighted):\t 0.7270658392841681\n",
      "Точность:\t\t 0.7310924369747899\n"
     ]
    },
    {
     "data": {
      "application/vnd.jupyter.widget-view+json": {
       "model_id": "471ccaee2c5a4027a74f9d720318c362",
       "version_major": 2,
       "version_minor": 0
      },
      "text/plain": [
       "Эпоха 24:   0%|          | 0/440 [00:00<?, ?it/s]"
      ]
     },
     "metadata": {},
     "output_type": "display_data"
    },
    {
     "name": "stdout",
     "output_type": "stream",
     "text": [
      "F1-score (weighted):\t 0.7292050673880519\n",
      "Точность:\t\t 0.7337569174011068\n"
     ]
    },
    {
     "data": {
      "application/vnd.jupyter.widget-view+json": {
       "model_id": "307e8037b660408ea30567f9548adf86",
       "version_major": 2,
       "version_minor": 0
      },
      "text/plain": [
       "Эпоха 25:   0%|          | 0/440 [00:00<?, ?it/s]"
      ]
     },
     "metadata": {},
     "output_type": "display_data"
    },
    {
     "name": "stdout",
     "output_type": "stream",
     "text": [
      "F1-score (weighted):\t 0.7271944089571238\n",
      "Точность:\t\t 0.7319122771059643\n"
     ]
    },
    {
     "data": {
      "application/vnd.jupyter.widget-view+json": {
       "model_id": "ed6c1728b8d3404fac19d255d43b294e",
       "version_major": 2,
       "version_minor": 0
      },
      "text/plain": [
       "Эпоха 26:   0%|          | 0/440 [00:00<?, ?it/s]"
      ]
     },
     "metadata": {},
     "output_type": "display_data"
    },
    {
     "name": "stdout",
     "output_type": "stream",
     "text": [
      "F1-score (weighted):\t 0.7265686285529632\n",
      "Точность:\t\t 0.7327321172371387\n"
     ]
    },
    {
     "data": {
      "application/vnd.jupyter.widget-view+json": {
       "model_id": "4825d59a24b64b82a03bd18978b8839a",
       "version_major": 2,
       "version_minor": 0
      },
      "text/plain": [
       "Эпоха 27:   0%|          | 0/440 [00:00<?, ?it/s]"
      ]
     },
     "metadata": {},
     "output_type": "display_data"
    },
    {
     "name": "stdout",
     "output_type": "stream",
     "text": [
      "F1-score (weighted):\t 0.7264244053169995\n",
      "Точность:\t\t 0.7308874769419963\n"
     ]
    },
    {
     "data": {
      "application/vnd.jupyter.widget-view+json": {
       "model_id": "636201c556ff47509be797b58dc8de5a",
       "version_major": 2,
       "version_minor": 0
      },
      "text/plain": [
       "Эпоха 28:   0%|          | 0/440 [00:00<?, ?it/s]"
      ]
     },
     "metadata": {},
     "output_type": "display_data"
    },
    {
     "name": "stdout",
     "output_type": "stream",
     "text": [
      "F1-score (weighted):\t 0.7275976482823444\n",
      "Точность:\t\t 0.7323221971715516\n"
     ]
    },
    {
     "data": {
      "application/vnd.jupyter.widget-view+json": {
       "model_id": "55612b3df2934316b8d414136c3bd13c",
       "version_major": 2,
       "version_minor": 0
      },
      "text/plain": [
       "Эпоха 29:   0%|          | 0/440 [00:00<?, ?it/s]"
      ]
     },
     "metadata": {},
     "output_type": "display_data"
    },
    {
     "name": "stdout",
     "output_type": "stream",
     "text": [
      "F1-score (weighted):\t 0.7280868925988653\n",
      "Точность:\t\t 0.7329370772699324\n"
     ]
    },
    {
     "data": {
      "application/vnd.jupyter.widget-view+json": {
       "model_id": "93b2784564bc40eabdccf54058859627",
       "version_major": 2,
       "version_minor": 0
      },
      "text/plain": [
       "Эпоха 30:   0%|          | 0/440 [00:00<?, ?it/s]"
      ]
     },
     "metadata": {},
     "output_type": "display_data"
    },
    {
     "name": "stdout",
     "output_type": "stream",
     "text": [
      "F1-score (weighted):\t 0.7276969259354683\n",
      "Точность:\t\t 0.7319122771059643\n"
     ]
    }
   ],
   "source": [
    "# fasttext CNN\n",
    "train(\n",
    "    model_class=CNN,\n",
    "    hyperparameters=best_hyperparameters['fasttext_CNN'].copy(),\n",
    "    data_train=fasttext_data_train,\n",
    "    data_test=fasttext_data_test,\n",
    "    name_model='models/fasttext_cnn'\n",
    ")"
   ]
  },
  {
   "cell_type": "markdown",
   "metadata": {},
   "source": [
    "### Обучение LSTM моделей"
   ]
  },
  {
   "cell_type": "code",
   "execution_count": 7,
   "metadata": {},
   "outputs": [
    {
     "data": {
      "application/vnd.jupyter.widget-view+json": {
       "model_id": "93453d1c6dd94a16bad5e52011d7d724",
       "version_major": 2,
       "version_minor": 0
      },
      "text/plain": [
       "Эпоха 1:   0%|          | 0/440 [00:00<?, ?it/s]"
      ]
     },
     "metadata": {},
     "output_type": "display_data"
    },
    {
     "name": "stdout",
     "output_type": "stream",
     "text": [
      "F1-score (weighted):\t 0.6019555431348209\n",
      "Точность:\t\t 0.6894855503176881\n",
      "===Модель сохранена===\n"
     ]
    },
    {
     "data": {
      "application/vnd.jupyter.widget-view+json": {
       "model_id": "947ba617174b419abf0460a4c7d205db",
       "version_major": 2,
       "version_minor": 0
      },
      "text/plain": [
       "Эпоха 2:   0%|          | 0/440 [00:00<?, ?it/s]"
      ]
     },
     "metadata": {},
     "output_type": "display_data"
    },
    {
     "name": "stdout",
     "output_type": "stream",
     "text": [
      "F1-score (weighted):\t 0.643226501963163\n",
      "Точность:\t\t 0.7230989956958394\n",
      "===Модель сохранена===\n"
     ]
    },
    {
     "data": {
      "application/vnd.jupyter.widget-view+json": {
       "model_id": "0c2ef0a0fbc34c21870e432e8a6041b0",
       "version_major": 2,
       "version_minor": 0
      },
      "text/plain": [
       "Эпоха 3:   0%|          | 0/440 [00:00<?, ?it/s]"
      ]
     },
     "metadata": {},
     "output_type": "display_data"
    },
    {
     "name": "stdout",
     "output_type": "stream",
     "text": [
      "F1-score (weighted):\t 0.7156980430885301\n",
      "Точность:\t\t 0.7245337159253945\n",
      "===Модель сохранена===\n"
     ]
    },
    {
     "data": {
      "application/vnd.jupyter.widget-view+json": {
       "model_id": "30859a20a3274f30b0efe9f2479912ad",
       "version_major": 2,
       "version_minor": 0
      },
      "text/plain": [
       "Эпоха 4:   0%|          | 0/440 [00:00<?, ?it/s]"
      ]
     },
     "metadata": {},
     "output_type": "display_data"
    },
    {
     "name": "stdout",
     "output_type": "stream",
     "text": [
      "F1-score (weighted):\t 0.7050018888735414\n",
      "Точность:\t\t 0.7368313178930108\n"
     ]
    },
    {
     "data": {
      "application/vnd.jupyter.widget-view+json": {
       "model_id": "7771dffaf5ed4b769f2c192c8523db86",
       "version_major": 2,
       "version_minor": 0
      },
      "text/plain": [
       "Эпоха 5:   0%|          | 0/440 [00:00<?, ?it/s]"
      ]
     },
     "metadata": {},
     "output_type": "display_data"
    },
    {
     "name": "stdout",
     "output_type": "stream",
     "text": [
      "F1-score (weighted):\t 0.678286016896219\n",
      "Точность:\t\t 0.729452756712441\n"
     ]
    },
    {
     "data": {
      "application/vnd.jupyter.widget-view+json": {
       "model_id": "bccba3ba880d4475893beae6528e3d5a",
       "version_major": 2,
       "version_minor": 0
      },
      "text/plain": [
       "Эпоха 6:   0%|          | 0/440 [00:00<?, ?it/s]"
      ]
     },
     "metadata": {},
     "output_type": "display_data"
    },
    {
     "name": "stdout",
     "output_type": "stream",
     "text": [
      "F1-score (weighted):\t 0.7143061571267022\n",
      "Точность:\t\t 0.74871899979504\n"
     ]
    },
    {
     "data": {
      "application/vnd.jupyter.widget-view+json": {
       "model_id": "8464f370a4ef4c91b3c9588697cddfd3",
       "version_major": 2,
       "version_minor": 0
      },
      "text/plain": [
       "Эпоха 7:   0%|          | 0/440 [00:00<?, ?it/s]"
      ]
     },
     "metadata": {},
     "output_type": "display_data"
    },
    {
     "name": "stdout",
     "output_type": "stream",
     "text": [
      "F1-score (weighted):\t 0.7244444343056167\n",
      "Точность:\t\t 0.7468743594998976\n",
      "===Модель сохранена===\n"
     ]
    },
    {
     "data": {
      "application/vnd.jupyter.widget-view+json": {
       "model_id": "70f40e82f9bc489e81c8fef11c218abd",
       "version_major": 2,
       "version_minor": 0
      },
      "text/plain": [
       "Эпоха 8:   0%|          | 0/440 [00:00<?, ?it/s]"
      ]
     },
     "metadata": {},
     "output_type": "display_data"
    },
    {
     "name": "stdout",
     "output_type": "stream",
     "text": [
      "F1-score (weighted):\t 0.7261747065077183\n",
      "Точность:\t\t 0.747694199631072\n",
      "===Модель сохранена===\n"
     ]
    },
    {
     "data": {
      "application/vnd.jupyter.widget-view+json": {
       "model_id": "937f2572e4674c408c4b3b8391d55ffe",
       "version_major": 2,
       "version_minor": 0
      },
      "text/plain": [
       "Эпоха 9:   0%|          | 0/440 [00:00<?, ?it/s]"
      ]
     },
     "metadata": {},
     "output_type": "display_data"
    },
    {
     "name": "stdout",
     "output_type": "stream",
     "text": [
      "F1-score (weighted):\t 0.7185697707754028\n",
      "Точность:\t\t 0.7304775568764091\n"
     ]
    },
    {
     "data": {
      "application/vnd.jupyter.widget-view+json": {
       "model_id": "a7a2eada7cb64bc09030d68201cb2585",
       "version_major": 2,
       "version_minor": 0
      },
      "text/plain": [
       "Эпоха 10:   0%|          | 0/440 [00:00<?, ?it/s]"
      ]
     },
     "metadata": {},
     "output_type": "display_data"
    },
    {
     "name": "stdout",
     "output_type": "stream",
     "text": [
      "F1-score (weighted):\t 0.7165771203783832\n",
      "Точность:\t\t 0.7425701988112318\n"
     ]
    },
    {
     "data": {
      "application/vnd.jupyter.widget-view+json": {
       "model_id": "96068e30e49c49b8a550bbd7aeb7b047",
       "version_major": 2,
       "version_minor": 0
      },
      "text/plain": [
       "Эпоха 11:   0%|          | 0/440 [00:00<?, ?it/s]"
      ]
     },
     "metadata": {},
     "output_type": "display_data"
    },
    {
     "name": "stdout",
     "output_type": "stream",
     "text": [
      "F1-score (weighted):\t 0.7091727975301884\n",
      "Точность:\t\t 0.7335519573683131\n"
     ]
    },
    {
     "data": {
      "application/vnd.jupyter.widget-view+json": {
       "model_id": "6d2bb0779cc342259a67f99f3a3c68c1",
       "version_major": 2,
       "version_minor": 0
      },
      "text/plain": [
       "Эпоха 12:   0%|          | 0/440 [00:00<?, ?it/s]"
      ]
     },
     "metadata": {},
     "output_type": "display_data"
    },
    {
     "name": "stdout",
     "output_type": "stream",
     "text": [
      "F1-score (weighted):\t 0.7170870770624957\n",
      "Точность:\t\t 0.7288378766140603\n"
     ]
    },
    {
     "data": {
      "application/vnd.jupyter.widget-view+json": {
       "model_id": "da3ec655be464bd0aa0a380355ae5b85",
       "version_major": 2,
       "version_minor": 0
      },
      "text/plain": [
       "Эпоха 13:   0%|          | 0/440 [00:00<?, ?it/s]"
      ]
     },
     "metadata": {},
     "output_type": "display_data"
    },
    {
     "name": "stdout",
     "output_type": "stream",
     "text": [
      "F1-score (weighted):\t 0.7214655052601633\n",
      "Точность:\t\t 0.7368313178930108\n"
     ]
    },
    {
     "data": {
      "application/vnd.jupyter.widget-view+json": {
       "model_id": "d2438b143e7b454abd7b17cd2044405b",
       "version_major": 2,
       "version_minor": 0
      },
      "text/plain": [
       "Эпоха 14:   0%|          | 0/440 [00:00<?, ?it/s]"
      ]
     },
     "metadata": {},
     "output_type": "display_data"
    },
    {
     "name": "stdout",
     "output_type": "stream",
     "text": [
      "F1-score (weighted):\t 0.7224150364384926\n",
      "Точность:\t\t 0.7312973970075836\n"
     ]
    },
    {
     "data": {
      "application/vnd.jupyter.widget-view+json": {
       "model_id": "94faab5b6675420088bba4e7b95b41a6",
       "version_major": 2,
       "version_minor": 0
      },
      "text/plain": [
       "Эпоха 15:   0%|          | 0/440 [00:00<?, ?it/s]"
      ]
     },
     "metadata": {},
     "output_type": "display_data"
    },
    {
     "name": "stdout",
     "output_type": "stream",
     "text": [
      "F1-score (weighted):\t 0.7224487908945062\n",
      "Точность:\t\t 0.7364213978274237\n"
     ]
    },
    {
     "data": {
      "application/vnd.jupyter.widget-view+json": {
       "model_id": "7f3a20afdc984a46b6b16d8240f25968",
       "version_major": 2,
       "version_minor": 0
      },
      "text/plain": [
       "Эпоха 16:   0%|          | 0/440 [00:00<?, ?it/s]"
      ]
     },
     "metadata": {},
     "output_type": "display_data"
    },
    {
     "name": "stdout",
     "output_type": "stream",
     "text": [
      "F1-score (weighted):\t 0.7254238683188287\n",
      "Точность:\t\t 0.7345767575322812\n"
     ]
    },
    {
     "data": {
      "application/vnd.jupyter.widget-view+json": {
       "model_id": "42f3713417ce49ceaefc27d248c8aa03",
       "version_major": 2,
       "version_minor": 0
      },
      "text/plain": [
       "Эпоха 17:   0%|          | 0/440 [00:00<?, ?it/s]"
      ]
     },
     "metadata": {},
     "output_type": "display_data"
    },
    {
     "name": "stdout",
     "output_type": "stream",
     "text": [
      "F1-score (weighted):\t 0.7213948522702548\n",
      "Точность:\t\t 0.7265833162533306\n"
     ]
    },
    {
     "data": {
      "application/vnd.jupyter.widget-view+json": {
       "model_id": "0cd742e129f643ec9e84742544e33b84",
       "version_major": 2,
       "version_minor": 0
      },
      "text/plain": [
       "Эпоха 18:   0%|          | 0/440 [00:00<?, ?it/s]"
      ]
     },
     "metadata": {},
     "output_type": "display_data"
    },
    {
     "name": "stdout",
     "output_type": "stream",
     "text": [
      "F1-score (weighted):\t 0.7219883770061515\n",
      "Точность:\t\t 0.728427956548473\n"
     ]
    },
    {
     "data": {
      "application/vnd.jupyter.widget-view+json": {
       "model_id": "4ff64ff19e8141038a0ab96fe39f6eb4",
       "version_major": 2,
       "version_minor": 0
      },
      "text/plain": [
       "Эпоха 19:   0%|          | 0/440 [00:00<?, ?it/s]"
      ]
     },
     "metadata": {},
     "output_type": "display_data"
    },
    {
     "name": "stdout",
     "output_type": "stream",
     "text": [
      "F1-score (weighted):\t 0.7256644947971614\n",
      "Точность:\t\t 0.7319122771059643\n"
     ]
    },
    {
     "data": {
      "application/vnd.jupyter.widget-view+json": {
       "model_id": "ed358e5f0f95423982107f36dc1680a6",
       "version_major": 2,
       "version_minor": 0
      },
      "text/plain": [
       "Эпоха 20:   0%|          | 0/440 [00:00<?, ?it/s]"
      ]
     },
     "metadata": {},
     "output_type": "display_data"
    },
    {
     "name": "stdout",
     "output_type": "stream",
     "text": [
      "F1-score (weighted):\t 0.720983283037906\n",
      "Точность:\t\t 0.7288378766140603\n"
     ]
    },
    {
     "data": {
      "application/vnd.jupyter.widget-view+json": {
       "model_id": "bceeb2aebde54f5fa20d7ead0d4805d2",
       "version_major": 2,
       "version_minor": 0
      },
      "text/plain": [
       "Эпоха 21:   0%|          | 0/440 [00:00<?, ?it/s]"
      ]
     },
     "metadata": {},
     "output_type": "display_data"
    },
    {
     "name": "stdout",
     "output_type": "stream",
     "text": [
      "F1-score (weighted):\t 0.723086967115549\n",
      "Точность:\t\t 0.7300676368108219\n"
     ]
    },
    {
     "data": {
      "application/vnd.jupyter.widget-view+json": {
       "model_id": "db0cd0f965194f72bcb4934d97d0a010",
       "version_major": 2,
       "version_minor": 0
      },
      "text/plain": [
       "Эпоха 22:   0%|          | 0/440 [00:00<?, ?it/s]"
      ]
     },
     "metadata": {},
     "output_type": "display_data"
    },
    {
     "name": "stdout",
     "output_type": "stream",
     "text": [
      "F1-score (weighted):\t 0.7216864468551746\n",
      "Точность:\t\t 0.7253535560565689\n"
     ]
    },
    {
     "data": {
      "application/vnd.jupyter.widget-view+json": {
       "model_id": "cc68bf0a10d847d8b3ac1f89e42a467c",
       "version_major": 2,
       "version_minor": 0
      },
      "text/plain": [
       "Эпоха 23:   0%|          | 0/440 [00:00<?, ?it/s]"
      ]
     },
     "metadata": {},
     "output_type": "display_data"
    },
    {
     "name": "stdout",
     "output_type": "stream",
     "text": [
      "F1-score (weighted):\t 0.7237413540970191\n",
      "Точность:\t\t 0.7298626767780283\n"
     ]
    },
    {
     "data": {
      "application/vnd.jupyter.widget-view+json": {
       "model_id": "c47ebad79bbb40efb1b7b052193b2b0c",
       "version_major": 2,
       "version_minor": 0
      },
      "text/plain": [
       "Эпоха 24:   0%|          | 0/440 [00:00<?, ?it/s]"
      ]
     },
     "metadata": {},
     "output_type": "display_data"
    },
    {
     "name": "stdout",
     "output_type": "stream",
     "text": [
      "F1-score (weighted):\t 0.7207714727629024\n",
      "Точность:\t\t 0.7265833162533306\n"
     ]
    },
    {
     "data": {
      "application/vnd.jupyter.widget-view+json": {
       "model_id": "06f8af5f574a49e0927683a85690aad6",
       "version_major": 2,
       "version_minor": 0
      },
      "text/plain": [
       "Эпоха 25:   0%|          | 0/440 [00:00<?, ?it/s]"
      ]
     },
     "metadata": {},
     "output_type": "display_data"
    },
    {
     "name": "stdout",
     "output_type": "stream",
     "text": [
      "F1-score (weighted):\t 0.7198702028694308\n",
      "Точность:\t\t 0.7241237958598074\n"
     ]
    },
    {
     "data": {
      "application/vnd.jupyter.widget-view+json": {
       "model_id": "d135fe8696ea4db49638f27051c29332",
       "version_major": 2,
       "version_minor": 0
      },
      "text/plain": [
       "Эпоха 26:   0%|          | 0/440 [00:00<?, ?it/s]"
      ]
     },
     "metadata": {},
     "output_type": "display_data"
    },
    {
     "name": "stdout",
     "output_type": "stream",
     "text": [
      "F1-score (weighted):\t 0.7200311008675633\n",
      "Точность:\t\t 0.7259684361549498\n"
     ]
    },
    {
     "data": {
      "application/vnd.jupyter.widget-view+json": {
       "model_id": "00fa6a2ed896417690c0c2a33753547f",
       "version_major": 2,
       "version_minor": 0
      },
      "text/plain": [
       "Эпоха 27:   0%|          | 0/440 [00:00<?, ?it/s]"
      ]
     },
     "metadata": {},
     "output_type": "display_data"
    },
    {
     "name": "stdout",
     "output_type": "stream",
     "text": [
      "F1-score (weighted):\t 0.7210363720697153\n",
      "Точность:\t\t 0.7269932363189178\n"
     ]
    },
    {
     "data": {
      "application/vnd.jupyter.widget-view+json": {
       "model_id": "1d2285dd0fff4a889d034ced4482aa80",
       "version_major": 2,
       "version_minor": 0
      },
      "text/plain": [
       "Эпоха 28:   0%|          | 0/440 [00:00<?, ?it/s]"
      ]
     },
     "metadata": {},
     "output_type": "display_data"
    },
    {
     "name": "stdout",
     "output_type": "stream",
     "text": [
      "F1-score (weighted):\t 0.7202674583163496\n",
      "Точность:\t\t 0.7255585160893626\n"
     ]
    },
    {
     "data": {
      "application/vnd.jupyter.widget-view+json": {
       "model_id": "55ac6a4424eb49a5a1515503047315b1",
       "version_major": 2,
       "version_minor": 0
      },
      "text/plain": [
       "Эпоха 29:   0%|          | 0/440 [00:00<?, ?it/s]"
      ]
     },
     "metadata": {},
     "output_type": "display_data"
    },
    {
     "name": "stdout",
     "output_type": "stream",
     "text": [
      "F1-score (weighted):\t 0.7213643773721308\n",
      "Точность:\t\t 0.7267882762861242\n"
     ]
    },
    {
     "data": {
      "application/vnd.jupyter.widget-view+json": {
       "model_id": "9d5d3e6b679842e4baa2249c534177aa",
       "version_major": 2,
       "version_minor": 0
      },
      "text/plain": [
       "Эпоха 30:   0%|          | 0/440 [00:00<?, ?it/s]"
      ]
     },
     "metadata": {},
     "output_type": "display_data"
    },
    {
     "name": "stdout",
     "output_type": "stream",
     "text": [
      "F1-score (weighted):\t 0.7198570380873437\n",
      "Точность:\t\t 0.7245337159253945\n"
     ]
    }
   ],
   "source": [
    "# w2v LSTM\n",
    "train(\n",
    "    model_class=LSTM,\n",
    "    hyperparameters=best_hyperparameters['w2v_LSTM'].copy(),\n",
    "    data_train=w2v_data_train,\n",
    "    data_test=w2v_data_test,\n",
    "    name_model='models/w2v_lstm'\n",
    ")"
   ]
  },
  {
   "cell_type": "code",
   "execution_count": 8,
   "metadata": {},
   "outputs": [
    {
     "data": {
      "application/vnd.jupyter.widget-view+json": {
       "model_id": "78ae2e79c5b94d31a6fce1c9fd3dffbb",
       "version_major": 2,
       "version_minor": 0
      },
      "text/plain": [
       "Эпоха 1:   0%|          | 0/440 [00:00<?, ?it/s]"
      ]
     },
     "metadata": {},
     "output_type": "display_data"
    },
    {
     "name": "stdout",
     "output_type": "stream",
     "text": [
      "F1-score (weighted):\t 0.4426738226189907\n",
      "Точность:\t\t 0.593974175035868\n",
      "===Модель сохранена===\n"
     ]
    },
    {
     "data": {
      "application/vnd.jupyter.widget-view+json": {
       "model_id": "9899015a8fb94c8abf5b6e41186ad4a4",
       "version_major": 2,
       "version_minor": 0
      },
      "text/plain": [
       "Эпоха 2:   0%|          | 0/440 [00:00<?, ?it/s]"
      ]
     },
     "metadata": {},
     "output_type": "display_data"
    },
    {
     "name": "stdout",
     "output_type": "stream",
     "text": [
      "F1-score (weighted):\t 0.6292840179528574\n",
      "Точность:\t\t 0.7073170731707317\n",
      "===Модель сохранена===\n"
     ]
    },
    {
     "data": {
      "application/vnd.jupyter.widget-view+json": {
       "model_id": "aff823f2eb974598a214dfc82542287a",
       "version_major": 2,
       "version_minor": 0
      },
      "text/plain": [
       "Эпоха 3:   0%|          | 0/440 [00:00<?, ?it/s]"
      ]
     },
     "metadata": {},
     "output_type": "display_data"
    },
    {
     "name": "stdout",
     "output_type": "stream",
     "text": [
      "F1-score (weighted):\t 0.6359707923194293\n",
      "Точность:\t\t 0.7159253945480631\n",
      "===Модель сохранена===\n"
     ]
    },
    {
     "data": {
      "application/vnd.jupyter.widget-view+json": {
       "model_id": "ef3a14888ba64d78b32142df030f47f5",
       "version_major": 2,
       "version_minor": 0
      },
      "text/plain": [
       "Эпоха 4:   0%|          | 0/440 [00:00<?, ?it/s]"
      ]
     },
     "metadata": {},
     "output_type": "display_data"
    },
    {
     "name": "stdout",
     "output_type": "stream",
     "text": [
      "F1-score (weighted):\t 0.6376972072435511\n",
      "Точность:\t\t 0.7216642754662841\n",
      "===Модель сохранена===\n"
     ]
    },
    {
     "data": {
      "application/vnd.jupyter.widget-view+json": {
       "model_id": "9c0e6fbc71dc403895bb359928e96999",
       "version_major": 2,
       "version_minor": 0
      },
      "text/plain": [
       "Эпоха 5:   0%|          | 0/440 [00:00<?, ?it/s]"
      ]
     },
     "metadata": {},
     "output_type": "display_data"
    },
    {
     "name": "stdout",
     "output_type": "stream",
     "text": [
      "F1-score (weighted):\t 0.6443966953646616\n",
      "Точность:\t\t 0.7015781922525107\n",
      "===Модель сохранена===\n"
     ]
    },
    {
     "data": {
      "application/vnd.jupyter.widget-view+json": {
       "model_id": "70f1e44a27114f35ab0df2316a26acf2",
       "version_major": 2,
       "version_minor": 0
      },
      "text/plain": [
       "Эпоха 6:   0%|          | 0/440 [00:00<?, ?it/s]"
      ]
     },
     "metadata": {},
     "output_type": "display_data"
    },
    {
     "name": "stdout",
     "output_type": "stream",
     "text": [
      "F1-score (weighted):\t 0.6860120087678281\n",
      "Точность:\t\t 0.7337569174011068\n",
      "===Модель сохранена===\n"
     ]
    },
    {
     "data": {
      "application/vnd.jupyter.widget-view+json": {
       "model_id": "c53086d6857d4d19916203ee1da9abfa",
       "version_major": 2,
       "version_minor": 0
      },
      "text/plain": [
       "Эпоха 7:   0%|          | 0/440 [00:00<?, ?it/s]"
      ]
     },
     "metadata": {},
     "output_type": "display_data"
    },
    {
     "name": "stdout",
     "output_type": "stream",
     "text": [
      "F1-score (weighted):\t 0.6911120501501966\n",
      "Точность:\t\t 0.7189997950399672\n",
      "===Модель сохранена===\n"
     ]
    },
    {
     "data": {
      "application/vnd.jupyter.widget-view+json": {
       "model_id": "23a66032a26c40bfb7b211e0c46379b2",
       "version_major": 2,
       "version_minor": 0
      },
      "text/plain": [
       "Эпоха 8:   0%|          | 0/440 [00:00<?, ?it/s]"
      ]
     },
     "metadata": {},
     "output_type": "display_data"
    },
    {
     "name": "stdout",
     "output_type": "stream",
     "text": [
      "F1-score (weighted):\t 0.6626834001796066\n",
      "Точность:\t\t 0.7077269932363189\n"
     ]
    },
    {
     "data": {
      "application/vnd.jupyter.widget-view+json": {
       "model_id": "0fab6974b799409cbe923bb67201c548",
       "version_major": 2,
       "version_minor": 0
      },
      "text/plain": [
       "Эпоха 9:   0%|          | 0/440 [00:00<?, ?it/s]"
      ]
     },
     "metadata": {},
     "output_type": "display_data"
    },
    {
     "name": "stdout",
     "output_type": "stream",
     "text": [
      "F1-score (weighted):\t 0.6836020746197569\n",
      "Точность:\t\t 0.7374461979913917\n"
     ]
    },
    {
     "data": {
      "application/vnd.jupyter.widget-view+json": {
       "model_id": "93f3f67f6b864a90ba778bed1f92b379",
       "version_major": 2,
       "version_minor": 0
      },
      "text/plain": [
       "Эпоха 10:   0%|          | 0/440 [00:00<?, ?it/s]"
      ]
     },
     "metadata": {},
     "output_type": "display_data"
    },
    {
     "name": "stdout",
     "output_type": "stream",
     "text": [
      "F1-score (weighted):\t 0.7092016401528568\n",
      "Точность:\t\t 0.7399057183849149\n",
      "===Модель сохранена===\n"
     ]
    },
    {
     "data": {
      "application/vnd.jupyter.widget-view+json": {
       "model_id": "c0d4bf8c1bba4329b0aafd621a7e67af",
       "version_major": 2,
       "version_minor": 0
      },
      "text/plain": [
       "Эпоха 11:   0%|          | 0/440 [00:00<?, ?it/s]"
      ]
     },
     "metadata": {},
     "output_type": "display_data"
    },
    {
     "name": "stdout",
     "output_type": "stream",
     "text": [
      "F1-score (weighted):\t 0.707907489970881\n",
      "Точность:\t\t 0.7081369133019061\n"
     ]
    },
    {
     "data": {
      "application/vnd.jupyter.widget-view+json": {
       "model_id": "208157c8a8664556adb6e9cf03349b11",
       "version_major": 2,
       "version_minor": 0
      },
      "text/plain": [
       "Эпоха 12:   0%|          | 0/440 [00:00<?, ?it/s]"
      ]
     },
     "metadata": {},
     "output_type": "display_data"
    },
    {
     "name": "stdout",
     "output_type": "stream",
     "text": [
      "F1-score (weighted):\t 0.6848356995386581\n",
      "Точность:\t\t 0.7345767575322812\n"
     ]
    },
    {
     "data": {
      "application/vnd.jupyter.widget-view+json": {
       "model_id": "f5e833f0a9bc4eda8c04f4c446108360",
       "version_major": 2,
       "version_minor": 0
      },
      "text/plain": [
       "Эпоха 13:   0%|          | 0/440 [00:00<?, ?it/s]"
      ]
     },
     "metadata": {},
     "output_type": "display_data"
    },
    {
     "name": "stdout",
     "output_type": "stream",
     "text": [
      "F1-score (weighted):\t 0.7037899577822705\n",
      "Точность:\t\t 0.7380610780897725\n"
     ]
    },
    {
     "data": {
      "application/vnd.jupyter.widget-view+json": {
       "model_id": "6d5474548df5485eba70ab2000557e25",
       "version_major": 2,
       "version_minor": 0
      },
      "text/plain": [
       "Эпоха 14:   0%|          | 0/440 [00:00<?, ?it/s]"
      ]
     },
     "metadata": {},
     "output_type": "display_data"
    },
    {
     "name": "stdout",
     "output_type": "stream",
     "text": [
      "F1-score (weighted):\t 0.6943156088291236\n",
      "Точность:\t\t 0.729452756712441\n"
     ]
    },
    {
     "data": {
      "application/vnd.jupyter.widget-view+json": {
       "model_id": "006c632598634ac7820a7ff94848a16a",
       "version_major": 2,
       "version_minor": 0
      },
      "text/plain": [
       "Эпоха 15:   0%|          | 0/440 [00:00<?, ?it/s]"
      ]
     },
     "metadata": {},
     "output_type": "display_data"
    },
    {
     "name": "stdout",
     "output_type": "stream",
     "text": [
      "F1-score (weighted):\t 0.6965337407146655\n",
      "Точность:\t\t 0.7329370772699324\n"
     ]
    },
    {
     "data": {
      "application/vnd.jupyter.widget-view+json": {
       "model_id": "0e3c3cf48b4241e08cf93a9371044654",
       "version_major": 2,
       "version_minor": 0
      },
      "text/plain": [
       "Эпоха 16:   0%|          | 0/440 [00:00<?, ?it/s]"
      ]
     },
     "metadata": {},
     "output_type": "display_data"
    },
    {
     "name": "stdout",
     "output_type": "stream",
     "text": [
      "F1-score (weighted):\t 0.7120468812560758\n",
      "Точность:\t\t 0.7403156384505022\n",
      "===Модель сохранена===\n"
     ]
    },
    {
     "data": {
      "application/vnd.jupyter.widget-view+json": {
       "model_id": "eb780e951d6e4b3284ec47fd12e7ca90",
       "version_major": 2,
       "version_minor": 0
      },
      "text/plain": [
       "Эпоха 17:   0%|          | 0/440 [00:00<?, ?it/s]"
      ]
     },
     "metadata": {},
     "output_type": "display_data"
    },
    {
     "name": "stdout",
     "output_type": "stream",
     "text": [
      "F1-score (weighted):\t 0.6913954578028273\n",
      "Точность:\t\t 0.7347817175650748\n"
     ]
    },
    {
     "data": {
      "application/vnd.jupyter.widget-view+json": {
       "model_id": "0595759a099a49a2927659df7e67c341",
       "version_major": 2,
       "version_minor": 0
      },
      "text/plain": [
       "Эпоха 18:   0%|          | 0/440 [00:00<?, ?it/s]"
      ]
     },
     "metadata": {},
     "output_type": "display_data"
    },
    {
     "name": "stdout",
     "output_type": "stream",
     "text": [
      "F1-score (weighted):\t 0.7009078740828085\n",
      "Точность:\t\t 0.7364213978274237\n"
     ]
    },
    {
     "data": {
      "application/vnd.jupyter.widget-view+json": {
       "model_id": "fefc293c0aae40e5b1c89665775a96b8",
       "version_major": 2,
       "version_minor": 0
      },
      "text/plain": [
       "Эпоха 19:   0%|          | 0/440 [00:00<?, ?it/s]"
      ]
     },
     "metadata": {},
     "output_type": "display_data"
    },
    {
     "name": "stdout",
     "output_type": "stream",
     "text": [
      "F1-score (weighted):\t 0.697906528227322\n",
      "Точность:\t\t 0.7300676368108219\n"
     ]
    },
    {
     "data": {
      "application/vnd.jupyter.widget-view+json": {
       "model_id": "25f0fbd400f94feba41f2a63b14fe755",
       "version_major": 2,
       "version_minor": 0
      },
      "text/plain": [
       "Эпоха 20:   0%|          | 0/440 [00:00<?, ?it/s]"
      ]
     },
     "metadata": {},
     "output_type": "display_data"
    },
    {
     "name": "stdout",
     "output_type": "stream",
     "text": [
      "F1-score (weighted):\t 0.720855165066251\n",
      "Точность:\t\t 0.7407255585160893\n",
      "===Модель сохранена===\n"
     ]
    },
    {
     "data": {
      "application/vnd.jupyter.widget-view+json": {
       "model_id": "299d686d2a99484c8df864b27271f7c7",
       "version_major": 2,
       "version_minor": 0
      },
      "text/plain": [
       "Эпоха 21:   0%|          | 0/440 [00:00<?, ?it/s]"
      ]
     },
     "metadata": {},
     "output_type": "display_data"
    },
    {
     "name": "stdout",
     "output_type": "stream",
     "text": [
      "F1-score (weighted):\t 0.7177547463168964\n",
      "Точность:\t\t 0.7358065177290428\n"
     ]
    },
    {
     "data": {
      "application/vnd.jupyter.widget-view+json": {
       "model_id": "3a4805a0d602437bb0706c125f5d8731",
       "version_major": 2,
       "version_minor": 0
      },
      "text/plain": [
       "Эпоха 22:   0%|          | 0/440 [00:00<?, ?it/s]"
      ]
     },
     "metadata": {},
     "output_type": "display_data"
    },
    {
     "name": "stdout",
     "output_type": "stream",
     "text": [
      "F1-score (weighted):\t 0.714891724461819\n",
      "Точность:\t\t 0.7370362779258045\n"
     ]
    },
    {
     "data": {
      "application/vnd.jupyter.widget-view+json": {
       "model_id": "157befd7fb7f4751964023769f2bcbe1",
       "version_major": 2,
       "version_minor": 0
      },
      "text/plain": [
       "Эпоха 23:   0%|          | 0/440 [00:00<?, ?it/s]"
      ]
     },
     "metadata": {},
     "output_type": "display_data"
    },
    {
     "name": "stdout",
     "output_type": "stream",
     "text": [
      "F1-score (weighted):\t 0.7215590612456451\n",
      "Точность:\t\t 0.7323221971715516\n",
      "===Модель сохранена===\n"
     ]
    },
    {
     "data": {
      "application/vnd.jupyter.widget-view+json": {
       "model_id": "466c6370f12443569640ece8f9c43f56",
       "version_major": 2,
       "version_minor": 0
      },
      "text/plain": [
       "Эпоха 24:   0%|          | 0/440 [00:00<?, ?it/s]"
      ]
     },
     "metadata": {},
     "output_type": "display_data"
    },
    {
     "name": "stdout",
     "output_type": "stream",
     "text": [
      "F1-score (weighted):\t 0.7176000610026932\n",
      "Точность:\t\t 0.7360114777618364\n"
     ]
    },
    {
     "data": {
      "application/vnd.jupyter.widget-view+json": {
       "model_id": "55c337b026fb4feebe8414ee4bdf784d",
       "version_major": 2,
       "version_minor": 0
      },
      "text/plain": [
       "Эпоха 25:   0%|          | 0/440 [00:00<?, ?it/s]"
      ]
     },
     "metadata": {},
     "output_type": "display_data"
    },
    {
     "name": "stdout",
     "output_type": "stream",
     "text": [
      "F1-score (weighted):\t 0.7082846629788259\n",
      "Точность:\t\t 0.7349866775978684\n"
     ]
    },
    {
     "data": {
      "application/vnd.jupyter.widget-view+json": {
       "model_id": "d641b1f834b5406ca989cc6c3d9dd620",
       "version_major": 2,
       "version_minor": 0
      },
      "text/plain": [
       "Эпоха 26:   0%|          | 0/440 [00:00<?, ?it/s]"
      ]
     },
     "metadata": {},
     "output_type": "display_data"
    },
    {
     "name": "stdout",
     "output_type": "stream",
     "text": [
      "F1-score (weighted):\t 0.7122950826459079\n",
      "Точность:\t\t 0.7335519573683131\n"
     ]
    },
    {
     "data": {
      "application/vnd.jupyter.widget-view+json": {
       "model_id": "4ba190d919024f01a95febc080310ed6",
       "version_major": 2,
       "version_minor": 0
      },
      "text/plain": [
       "Эпоха 27:   0%|          | 0/440 [00:00<?, ?it/s]"
      ]
     },
     "metadata": {},
     "output_type": "display_data"
    },
    {
     "name": "stdout",
     "output_type": "stream",
     "text": [
      "F1-score (weighted):\t 0.7195905379411992\n",
      "Точность:\t\t 0.7358065177290428\n"
     ]
    },
    {
     "data": {
      "application/vnd.jupyter.widget-view+json": {
       "model_id": "52830bcb8953462f9a426e2d7f0f11cf",
       "version_major": 2,
       "version_minor": 0
      },
      "text/plain": [
       "Эпоха 28:   0%|          | 0/440 [00:00<?, ?it/s]"
      ]
     },
     "metadata": {},
     "output_type": "display_data"
    },
    {
     "name": "stdout",
     "output_type": "stream",
     "text": [
      "F1-score (weighted):\t 0.7100359512161554\n",
      "Точность:\t\t 0.7345767575322812\n"
     ]
    },
    {
     "data": {
      "application/vnd.jupyter.widget-view+json": {
       "model_id": "75800f64b76d426cba87aaf41b6f8415",
       "version_major": 2,
       "version_minor": 0
      },
      "text/plain": [
       "Эпоха 29:   0%|          | 0/440 [00:00<?, ?it/s]"
      ]
     },
     "metadata": {},
     "output_type": "display_data"
    },
    {
     "name": "stdout",
     "output_type": "stream",
     "text": [
      "F1-score (weighted):\t 0.7109631697674313\n",
      "Точность:\t\t 0.7349866775978684\n"
     ]
    },
    {
     "data": {
      "application/vnd.jupyter.widget-view+json": {
       "model_id": "0fec666b28424bb6b3b5b9deaa9858fa",
       "version_major": 2,
       "version_minor": 0
      },
      "text/plain": [
       "Эпоха 30:   0%|          | 0/440 [00:00<?, ?it/s]"
      ]
     },
     "metadata": {},
     "output_type": "display_data"
    },
    {
     "name": "stdout",
     "output_type": "stream",
     "text": [
      "F1-score (weighted):\t 0.7206272332854265\n",
      "Точность:\t\t 0.7333469973355196\n"
     ]
    }
   ],
   "source": [
    "# fasttext LSTM\n",
    "train(\n",
    "    model_class=LSTM,\n",
    "    hyperparameters=best_hyperparameters['fasttext_LSTM'].copy(),\n",
    "    data_train=fasttext_data_train,\n",
    "    data_test=fasttext_data_test,\n",
    "    name_model='models/fasttext_lstm'\n",
    ")"
   ]
  },
  {
   "cell_type": "markdown",
   "metadata": {},
   "source": [
    "### Обучение LSTM_CNN моделей"
   ]
  },
  {
   "cell_type": "code",
   "execution_count": 9,
   "metadata": {},
   "outputs": [
    {
     "data": {
      "application/vnd.jupyter.widget-view+json": {
       "model_id": "015ea9b326644938bb66758a6847480f",
       "version_major": 2,
       "version_minor": 0
      },
      "text/plain": [
       "Эпоха 1:   0%|          | 0/440 [00:00<?, ?it/s]"
      ]
     },
     "metadata": {},
     "output_type": "display_data"
    },
    {
     "name": "stdout",
     "output_type": "stream",
     "text": [
      "F1-score (weighted):\t 0.6813714266836717\n",
      "Точность:\t\t 0.7237138757942201\n",
      "===Модель сохранена===\n"
     ]
    },
    {
     "data": {
      "application/vnd.jupyter.widget-view+json": {
       "model_id": "e879083a4ceb4c3ea10fdd4685bbb294",
       "version_major": 2,
       "version_minor": 0
      },
      "text/plain": [
       "Эпоха 2:   0%|          | 0/440 [00:00<?, ?it/s]"
      ]
     },
     "metadata": {},
     "output_type": "display_data"
    },
    {
     "name": "stdout",
     "output_type": "stream",
     "text": [
      "F1-score (weighted):\t 0.6884577927954262\n",
      "Точность:\t\t 0.7302725968436155\n",
      "===Модель сохранена===\n"
     ]
    },
    {
     "data": {
      "application/vnd.jupyter.widget-view+json": {
       "model_id": "4ffd276c7cc44f24943e900716028a58",
       "version_major": 2,
       "version_minor": 0
      },
      "text/plain": [
       "Эпоха 3:   0%|          | 0/440 [00:00<?, ?it/s]"
      ]
     },
     "metadata": {},
     "output_type": "display_data"
    },
    {
     "name": "stdout",
     "output_type": "stream",
     "text": [
      "F1-score (weighted):\t 0.7240363444661025\n",
      "Точность:\t\t 0.7397007583521213\n",
      "===Модель сохранена===\n"
     ]
    },
    {
     "data": {
      "application/vnd.jupyter.widget-view+json": {
       "model_id": "d17956bacff8416b99bfd418bac84dc1",
       "version_major": 2,
       "version_minor": 0
      },
      "text/plain": [
       "Эпоха 4:   0%|          | 0/440 [00:00<?, ?it/s]"
      ]
     },
     "metadata": {},
     "output_type": "display_data"
    },
    {
     "name": "stdout",
     "output_type": "stream",
     "text": [
      "F1-score (weighted):\t 0.7358542472114891\n",
      "Точность:\t\t 0.7509735601557697\n",
      "===Модель сохранена===\n"
     ]
    },
    {
     "data": {
      "application/vnd.jupyter.widget-view+json": {
       "model_id": "1c76c0d9bc6f4bb4b3944ce172477072",
       "version_major": 2,
       "version_minor": 0
      },
      "text/plain": [
       "Эпоха 5:   0%|          | 0/440 [00:00<?, ?it/s]"
      ]
     },
     "metadata": {},
     "output_type": "display_data"
    },
    {
     "name": "stdout",
     "output_type": "stream",
     "text": [
      "F1-score (weighted):\t 0.7217654836789541\n",
      "Точность:\t\t 0.7267882762861242\n"
     ]
    },
    {
     "data": {
      "application/vnd.jupyter.widget-view+json": {
       "model_id": "4af56740442f4a40b98626034ae20e3d",
       "version_major": 2,
       "version_minor": 0
      },
      "text/plain": [
       "Эпоха 6:   0%|          | 0/440 [00:00<?, ?it/s]"
      ]
     },
     "metadata": {},
     "output_type": "display_data"
    },
    {
     "name": "stdout",
     "output_type": "stream",
     "text": [
      "F1-score (weighted):\t 0.7146088476730997\n",
      "Точность:\t\t 0.7534330805492929\n"
     ]
    },
    {
     "data": {
      "application/vnd.jupyter.widget-view+json": {
       "model_id": "4ef27213773846578b7253e8be64cd0f",
       "version_major": 2,
       "version_minor": 0
      },
      "text/plain": [
       "Эпоха 7:   0%|          | 0/440 [00:00<?, ?it/s]"
      ]
     },
     "metadata": {},
     "output_type": "display_data"
    },
    {
     "name": "stdout",
     "output_type": "stream",
     "text": [
      "F1-score (weighted):\t 0.7411275708452263\n",
      "Точность:\t\t 0.7618364418938307\n",
      "===Модель сохранена===\n"
     ]
    },
    {
     "data": {
      "application/vnd.jupyter.widget-view+json": {
       "model_id": "ffced20ef202439994ff949eef214eba",
       "version_major": 2,
       "version_minor": 0
      },
      "text/plain": [
       "Эпоха 8:   0%|          | 0/440 [00:00<?, ?it/s]"
      ]
     },
     "metadata": {},
     "output_type": "display_data"
    },
    {
     "name": "stdout",
     "output_type": "stream",
     "text": [
      "F1-score (weighted):\t 0.725334040558846\n",
      "Точность:\t\t 0.7581471613035458\n"
     ]
    },
    {
     "data": {
      "application/vnd.jupyter.widget-view+json": {
       "model_id": "a866e158f2444facbca4dab39916e411",
       "version_major": 2,
       "version_minor": 0
      },
      "text/plain": [
       "Эпоха 9:   0%|          | 0/440 [00:00<?, ?it/s]"
      ]
     },
     "metadata": {},
     "output_type": "display_data"
    },
    {
     "name": "stdout",
     "output_type": "stream",
     "text": [
      "F1-score (weighted):\t 0.7147049296181509\n",
      "Точность:\t\t 0.7505636400901824\n"
     ]
    },
    {
     "data": {
      "application/vnd.jupyter.widget-view+json": {
       "model_id": "4e4d36083a2e4f41afaf9d7275d2631c",
       "version_major": 2,
       "version_minor": 0
      },
      "text/plain": [
       "Эпоха 10:   0%|          | 0/440 [00:00<?, ?it/s]"
      ]
     },
     "metadata": {},
     "output_type": "display_data"
    },
    {
     "name": "stdout",
     "output_type": "stream",
     "text": [
      "F1-score (weighted):\t 0.7384537373337405\n",
      "Точность:\t\t 0.7583521213363394\n"
     ]
    },
    {
     "data": {
      "application/vnd.jupyter.widget-view+json": {
       "model_id": "e311f1e5f26d47ff8fb3b35b3de7df2a",
       "version_major": 2,
       "version_minor": 0
      },
      "text/plain": [
       "Эпоха 11:   0%|          | 0/440 [00:00<?, ?it/s]"
      ]
     },
     "metadata": {},
     "output_type": "display_data"
    },
    {
     "name": "stdout",
     "output_type": "stream",
     "text": [
      "F1-score (weighted):\t 0.7406984614722458\n",
      "Точность:\t\t 0.7628612420577987\n"
     ]
    },
    {
     "data": {
      "application/vnd.jupyter.widget-view+json": {
       "model_id": "e0514f6d1f5f4df283c73eea211026c2",
       "version_major": 2,
       "version_minor": 0
      },
      "text/plain": [
       "Эпоха 12:   0%|          | 0/440 [00:00<?, ?it/s]"
      ]
     },
     "metadata": {},
     "output_type": "display_data"
    },
    {
     "name": "stdout",
     "output_type": "stream",
     "text": [
      "F1-score (weighted):\t 0.7538514410187088\n",
      "Точность:\t\t 0.7593769215003074\n",
      "===Модель сохранена===\n"
     ]
    },
    {
     "data": {
      "application/vnd.jupyter.widget-view+json": {
       "model_id": "7c794171867b4eb4878bcff147301392",
       "version_major": 2,
       "version_minor": 0
      },
      "text/plain": [
       "Эпоха 13:   0%|          | 0/440 [00:00<?, ?it/s]"
      ]
     },
     "metadata": {},
     "output_type": "display_data"
    },
    {
     "name": "stdout",
     "output_type": "stream",
     "text": [
      "F1-score (weighted):\t 0.7439968111432873\n",
      "Точность:\t\t 0.7501537200245952\n"
     ]
    },
    {
     "data": {
      "application/vnd.jupyter.widget-view+json": {
       "model_id": "e9594efef3974d8898fd2ffa8d9ca478",
       "version_major": 2,
       "version_minor": 0
      },
      "text/plain": [
       "Эпоха 14:   0%|          | 0/440 [00:00<?, ?it/s]"
      ]
     },
     "metadata": {},
     "output_type": "display_data"
    },
    {
     "name": "stdout",
     "output_type": "stream",
     "text": [
      "F1-score (weighted):\t 0.7414208286711452\n",
      "Точность:\t\t 0.7577372412379586\n"
     ]
    },
    {
     "data": {
      "application/vnd.jupyter.widget-view+json": {
       "model_id": "937b2b73a1044b1990b83a4b9fb9fa68",
       "version_major": 2,
       "version_minor": 0
      },
      "text/plain": [
       "Эпоха 15:   0%|          | 0/440 [00:00<?, ?it/s]"
      ]
     },
     "metadata": {},
     "output_type": "display_data"
    },
    {
     "name": "stdout",
     "output_type": "stream",
     "text": [
      "F1-score (weighted):\t 0.7461183643004725\n",
      "Точность:\t\t 0.7589670014347202\n"
     ]
    },
    {
     "data": {
      "application/vnd.jupyter.widget-view+json": {
       "model_id": "4bf08b2d90d4475cbb8ef76498c211fe",
       "version_major": 2,
       "version_minor": 0
      },
      "text/plain": [
       "Эпоха 16:   0%|          | 0/440 [00:00<?, ?it/s]"
      ]
     },
     "metadata": {},
     "output_type": "display_data"
    },
    {
     "name": "stdout",
     "output_type": "stream",
     "text": [
      "F1-score (weighted):\t 0.7410738595965817\n",
      "Точность:\t\t 0.7481041196966591\n"
     ]
    },
    {
     "data": {
      "application/vnd.jupyter.widget-view+json": {
       "model_id": "77570b5d32d24dbdb1eb5974c545fb99",
       "version_major": 2,
       "version_minor": 0
      },
      "text/plain": [
       "Эпоха 17:   0%|          | 0/440 [00:00<?, ?it/s]"
      ]
     },
     "metadata": {},
     "output_type": "display_data"
    },
    {
     "name": "stdout",
     "output_type": "stream",
     "text": [
      "F1-score (weighted):\t 0.7424800450154813\n",
      "Точность:\t\t 0.7548678007788481\n"
     ]
    },
    {
     "data": {
      "application/vnd.jupyter.widget-view+json": {
       "model_id": "94143923c035430787a82c31e7279105",
       "version_major": 2,
       "version_minor": 0
      },
      "text/plain": [
       "Эпоха 18:   0%|          | 0/440 [00:00<?, ?it/s]"
      ]
     },
     "metadata": {},
     "output_type": "display_data"
    },
    {
     "name": "stdout",
     "output_type": "stream",
     "text": [
      "F1-score (weighted):\t 0.742567093999384\n",
      "Точность:\t\t 0.7485140397622464\n"
     ]
    },
    {
     "data": {
      "application/vnd.jupyter.widget-view+json": {
       "model_id": "1c177b54d7ab4832ac6f7eee1d520b6b",
       "version_major": 2,
       "version_minor": 0
      },
      "text/plain": [
       "Эпоха 19:   0%|          | 0/440 [00:00<?, ?it/s]"
      ]
     },
     "metadata": {},
     "output_type": "display_data"
    },
    {
     "name": "stdout",
     "output_type": "stream",
     "text": [
      "F1-score (weighted):\t 0.7435915784752529\n",
      "Точность:\t\t 0.7573273211723713\n"
     ]
    },
    {
     "data": {
      "application/vnd.jupyter.widget-view+json": {
       "model_id": "1ed4aba2ba494c7aae2e15f7abfc4e69",
       "version_major": 2,
       "version_minor": 0
      },
      "text/plain": [
       "Эпоха 20:   0%|          | 0/440 [00:00<?, ?it/s]"
      ]
     },
     "metadata": {},
     "output_type": "display_data"
    },
    {
     "name": "stdout",
     "output_type": "stream",
     "text": [
      "F1-score (weighted):\t 0.7442833892053048\n",
      "Точность:\t\t 0.7495388399262144\n"
     ]
    },
    {
     "data": {
      "application/vnd.jupyter.widget-view+json": {
       "model_id": "d4fbe52ff2a04a51a090634670d3898d",
       "version_major": 2,
       "version_minor": 0
      },
      "text/plain": [
       "Эпоха 21:   0%|          | 0/440 [00:00<?, ?it/s]"
      ]
     },
     "metadata": {},
     "output_type": "display_data"
    },
    {
     "name": "stdout",
     "output_type": "stream",
     "text": [
      "F1-score (weighted):\t 0.7360850703893822\n",
      "Точность:\t\t 0.7489239598278336\n"
     ]
    },
    {
     "data": {
      "application/vnd.jupyter.widget-view+json": {
       "model_id": "b7f72ec28c0c4b98a2b20e7c9a12199d",
       "version_major": 2,
       "version_minor": 0
      },
      "text/plain": [
       "Эпоха 22:   0%|          | 0/440 [00:00<?, ?it/s]"
      ]
     },
     "metadata": {},
     "output_type": "display_data"
    },
    {
     "name": "stdout",
     "output_type": "stream",
     "text": [
      "F1-score (weighted):\t 0.741409551250479\n",
      "Точность:\t\t 0.7446197991391679\n"
     ]
    },
    {
     "data": {
      "application/vnd.jupyter.widget-view+json": {
       "model_id": "87ceb3908521461b9f40d7acdf8080ab",
       "version_major": 2,
       "version_minor": 0
      },
      "text/plain": [
       "Эпоха 23:   0%|          | 0/440 [00:00<?, ?it/s]"
      ]
     },
     "metadata": {},
     "output_type": "display_data"
    },
    {
     "name": "stdout",
     "output_type": "stream",
     "text": [
      "F1-score (weighted):\t 0.7453667674933151\n",
      "Точность:\t\t 0.749743799959008\n"
     ]
    },
    {
     "data": {
      "application/vnd.jupyter.widget-view+json": {
       "model_id": "4b8f2b7516794d29aad55cab70687a8b",
       "version_major": 2,
       "version_minor": 0
      },
      "text/plain": [
       "Эпоха 24:   0%|          | 0/440 [00:00<?, ?it/s]"
      ]
     },
     "metadata": {},
     "output_type": "display_data"
    },
    {
     "name": "stdout",
     "output_type": "stream",
     "text": [
      "F1-score (weighted):\t 0.7437844432840823\n",
      "Точность:\t\t 0.749743799959008\n"
     ]
    },
    {
     "data": {
      "application/vnd.jupyter.widget-view+json": {
       "model_id": "320d33ca758044c99e741a7a998b0f7f",
       "version_major": 2,
       "version_minor": 0
      },
      "text/plain": [
       "Эпоха 25:   0%|          | 0/440 [00:00<?, ?it/s]"
      ]
     },
     "metadata": {},
     "output_type": "display_data"
    },
    {
     "name": "stdout",
     "output_type": "stream",
     "text": [
      "F1-score (weighted):\t 0.7436645757011494\n",
      "Точность:\t\t 0.7493338798934208\n"
     ]
    },
    {
     "data": {
      "application/vnd.jupyter.widget-view+json": {
       "model_id": "95b6caf5552145a4a8565d7122a9d62a",
       "version_major": 2,
       "version_minor": 0
      },
      "text/plain": [
       "Эпоха 26:   0%|          | 0/440 [00:00<?, ?it/s]"
      ]
     },
     "metadata": {},
     "output_type": "display_data"
    },
    {
     "name": "stdout",
     "output_type": "stream",
     "text": [
      "F1-score (weighted):\t 0.7435562029015766\n",
      "Точность:\t\t 0.749743799959008\n"
     ]
    },
    {
     "data": {
      "application/vnd.jupyter.widget-view+json": {
       "model_id": "026b17c5b59c43deb4ae1bd8d6cb9ba9",
       "version_major": 2,
       "version_minor": 0
      },
      "text/plain": [
       "Эпоха 27:   0%|          | 0/440 [00:00<?, ?it/s]"
      ]
     },
     "metadata": {},
     "output_type": "display_data"
    },
    {
     "name": "stdout",
     "output_type": "stream",
     "text": [
      "F1-score (weighted):\t 0.7419156886310837\n",
      "Точность:\t\t 0.74871899979504\n"
     ]
    },
    {
     "data": {
      "application/vnd.jupyter.widget-view+json": {
       "model_id": "fb85be3ac7d94c988e2ee58f5a1493de",
       "version_major": 2,
       "version_minor": 0
      },
      "text/plain": [
       "Эпоха 28:   0%|          | 0/440 [00:00<?, ?it/s]"
      ]
     },
     "metadata": {},
     "output_type": "display_data"
    },
    {
     "name": "stdout",
     "output_type": "stream",
     "text": [
      "F1-score (weighted):\t 0.7440169396536029\n",
      "Точность:\t\t 0.7501537200245952\n"
     ]
    },
    {
     "data": {
      "application/vnd.jupyter.widget-view+json": {
       "model_id": "8e96a639781d47828bc38754670c2f80",
       "version_major": 2,
       "version_minor": 0
      },
      "text/plain": [
       "Эпоха 29:   0%|          | 0/440 [00:00<?, ?it/s]"
      ]
     },
     "metadata": {},
     "output_type": "display_data"
    },
    {
     "name": "stdout",
     "output_type": "stream",
     "text": [
      "F1-score (weighted):\t 0.7434516518084021\n",
      "Точность:\t\t 0.749743799959008\n"
     ]
    },
    {
     "data": {
      "application/vnd.jupyter.widget-view+json": {
       "model_id": "66029e605273429ba1b288260e13affb",
       "version_major": 2,
       "version_minor": 0
      },
      "text/plain": [
       "Эпоха 30:   0%|          | 0/440 [00:00<?, ?it/s]"
      ]
     },
     "metadata": {},
     "output_type": "display_data"
    },
    {
     "name": "stdout",
     "output_type": "stream",
     "text": [
      "F1-score (weighted):\t 0.7423593970574923\n",
      "Точность:\t\t 0.74871899979504\n"
     ]
    }
   ],
   "source": [
    "# w2v LSTM_CNN\n",
    "train(\n",
    "    model_class=LSTM_CNN,\n",
    "    hyperparameters=best_hyperparameters['w2v_LSTM_CNN'].copy(),\n",
    "    data_train=w2v_data_train,\n",
    "    data_test=w2v_data_test,\n",
    "    name_model='models/w2v_lstm_cnn'\n",
    ")"
   ]
  },
  {
   "cell_type": "code",
   "execution_count": 10,
   "metadata": {},
   "outputs": [
    {
     "data": {
      "application/vnd.jupyter.widget-view+json": {
       "model_id": "8e1631a940384d1fb81b3fa2708a1c69",
       "version_major": 2,
       "version_minor": 0
      },
      "text/plain": [
       "Эпоха 1:   0%|          | 0/440 [00:00<?, ?it/s]"
      ]
     },
     "metadata": {},
     "output_type": "display_data"
    },
    {
     "name": "stdout",
     "output_type": "stream",
     "text": [
      "F1-score (weighted):\t 0.6348867627024964\n",
      "Точность:\t\t 0.7103914736626358\n",
      "===Модель сохранена===\n"
     ]
    },
    {
     "data": {
      "application/vnd.jupyter.widget-view+json": {
       "model_id": "08805a18eb4a4fc7873797c5772669dc",
       "version_major": 2,
       "version_minor": 0
      },
      "text/plain": [
       "Эпоха 2:   0%|          | 0/440 [00:00<?, ?it/s]"
      ]
     },
     "metadata": {},
     "output_type": "display_data"
    },
    {
     "name": "stdout",
     "output_type": "stream",
     "text": [
      "F1-score (weighted):\t 0.6336874436314082\n",
      "Точность:\t\t 0.7136708341873335\n"
     ]
    },
    {
     "data": {
      "application/vnd.jupyter.widget-view+json": {
       "model_id": "924a259a80244456a4ddb6d738d8a902",
       "version_major": 2,
       "version_minor": 0
      },
      "text/plain": [
       "Эпоха 3:   0%|          | 0/440 [00:00<?, ?it/s]"
      ]
     },
     "metadata": {},
     "output_type": "display_data"
    },
    {
     "name": "stdout",
     "output_type": "stream",
     "text": [
      "F1-score (weighted):\t 0.7182813949928832\n",
      "Точность:\t\t 0.7382660381225661\n",
      "===Модель сохранена===\n"
     ]
    },
    {
     "data": {
      "application/vnd.jupyter.widget-view+json": {
       "model_id": "58bf84f3952a4a00a590f6715a315fb5",
       "version_major": 2,
       "version_minor": 0
      },
      "text/plain": [
       "Эпоха 4:   0%|          | 0/440 [00:00<?, ?it/s]"
      ]
     },
     "metadata": {},
     "output_type": "display_data"
    },
    {
     "name": "stdout",
     "output_type": "stream",
     "text": [
      "F1-score (weighted):\t 0.6589340879026593\n",
      "Точность:\t\t 0.6919450707112114\n"
     ]
    },
    {
     "data": {
      "application/vnd.jupyter.widget-view+json": {
       "model_id": "972174a970e14e2999d3389a65904364",
       "version_major": 2,
       "version_minor": 0
      },
      "text/plain": [
       "Эпоха 5:   0%|          | 0/440 [00:00<?, ?it/s]"
      ]
     },
     "metadata": {},
     "output_type": "display_data"
    },
    {
     "name": "stdout",
     "output_type": "stream",
     "text": [
      "F1-score (weighted):\t 0.6774120847419537\n",
      "Точность:\t\t 0.7390858782537405\n"
     ]
    },
    {
     "data": {
      "application/vnd.jupyter.widget-view+json": {
       "model_id": "870e153ee8104c2489dc861ae4685e20",
       "version_major": 2,
       "version_minor": 0
      },
      "text/plain": [
       "Эпоха 6:   0%|          | 0/440 [00:00<?, ?it/s]"
      ]
     },
     "metadata": {},
     "output_type": "display_data"
    },
    {
     "name": "stdout",
     "output_type": "stream",
     "text": [
      "F1-score (weighted):\t 0.6893239022246359\n",
      "Точность:\t\t 0.7163353146136503\n"
     ]
    },
    {
     "data": {
      "application/vnd.jupyter.widget-view+json": {
       "model_id": "3f42d32e83f94e29bb8331597c1ee0c2",
       "version_major": 2,
       "version_minor": 0
      },
      "text/plain": [
       "Эпоха 7:   0%|          | 0/440 [00:00<?, ?it/s]"
      ]
     },
     "metadata": {},
     "output_type": "display_data"
    },
    {
     "name": "stdout",
     "output_type": "stream",
     "text": [
      "F1-score (weighted):\t 0.7410859887592747\n",
      "Точность:\t\t 0.7569174011067842\n",
      "===Модель сохранена===\n"
     ]
    },
    {
     "data": {
      "application/vnd.jupyter.widget-view+json": {
       "model_id": "5f370bb45a50450f807a447096912547",
       "version_major": 2,
       "version_minor": 0
      },
      "text/plain": [
       "Эпоха 8:   0%|          | 0/440 [00:00<?, ?it/s]"
      ]
     },
     "metadata": {},
     "output_type": "display_data"
    },
    {
     "name": "stdout",
     "output_type": "stream",
     "text": [
      "F1-score (weighted):\t 0.7327119360454828\n",
      "Точность:\t\t 0.7567124410739906\n"
     ]
    },
    {
     "data": {
      "application/vnd.jupyter.widget-view+json": {
       "model_id": "d278521a848a4ac3bef78c6a0ab56ba2",
       "version_major": 2,
       "version_minor": 0
      },
      "text/plain": [
       "Эпоха 9:   0%|          | 0/440 [00:00<?, ?it/s]"
      ]
     },
     "metadata": {},
     "output_type": "display_data"
    },
    {
     "name": "stdout",
     "output_type": "stream",
     "text": [
      "F1-score (weighted):\t 0.7353757927329165\n",
      "Точность:\t\t 0.7610166017626563\n"
     ]
    },
    {
     "data": {
      "application/vnd.jupyter.widget-view+json": {
       "model_id": "eb310705d4054cf6b7d13a51a2dfcab0",
       "version_major": 2,
       "version_minor": 0
      },
      "text/plain": [
       "Эпоха 10:   0%|          | 0/440 [00:00<?, ?it/s]"
      ]
     },
     "metadata": {},
     "output_type": "display_data"
    },
    {
     "name": "stdout",
     "output_type": "stream",
     "text": [
      "F1-score (weighted):\t 0.7395192661551959\n",
      "Точность:\t\t 0.7634761221561795\n"
     ]
    },
    {
     "data": {
      "application/vnd.jupyter.widget-view+json": {
       "model_id": "5bfc325a25484640bb01688144f2ccb1",
       "version_major": 2,
       "version_minor": 0
      },
      "text/plain": [
       "Эпоха 11:   0%|          | 0/440 [00:00<?, ?it/s]"
      ]
     },
     "metadata": {},
     "output_type": "display_data"
    },
    {
     "name": "stdout",
     "output_type": "stream",
     "text": [
      "F1-score (weighted):\t 0.7425633796877481\n",
      "Точность:\t\t 0.7640910022545604\n",
      "===Модель сохранена===\n"
     ]
    },
    {
     "data": {
      "application/vnd.jupyter.widget-view+json": {
       "model_id": "6926bcbca7fe436b996a4f8fecd3276e",
       "version_major": 2,
       "version_minor": 0
      },
      "text/plain": [
       "Эпоха 12:   0%|          | 0/440 [00:00<?, ?it/s]"
      ]
     },
     "metadata": {},
     "output_type": "display_data"
    },
    {
     "name": "stdout",
     "output_type": "stream",
     "text": [
      "F1-score (weighted):\t 0.7421507146072244\n",
      "Точность:\t\t 0.7567124410739906\n"
     ]
    },
    {
     "data": {
      "application/vnd.jupyter.widget-view+json": {
       "model_id": "078ecbc02c3d49aa99942fca192c8a5b",
       "version_major": 2,
       "version_minor": 0
      },
      "text/plain": [
       "Эпоха 13:   0%|          | 0/440 [00:00<?, ?it/s]"
      ]
     },
     "metadata": {},
     "output_type": "display_data"
    },
    {
     "name": "stdout",
     "output_type": "stream",
     "text": [
      "F1-score (weighted):\t 0.7385908350962445\n",
      "Точность:\t\t 0.7626562820250051\n"
     ]
    },
    {
     "data": {
      "application/vnd.jupyter.widget-view+json": {
       "model_id": "0f4baf8920814541960a57806a4cab17",
       "version_major": 2,
       "version_minor": 0
      },
      "text/plain": [
       "Эпоха 14:   0%|          | 0/440 [00:00<?, ?it/s]"
      ]
     },
     "metadata": {},
     "output_type": "display_data"
    },
    {
     "name": "stdout",
     "output_type": "stream",
     "text": [
      "F1-score (weighted):\t 0.7423862862688093\n",
      "Точность:\t\t 0.7565074810411969\n"
     ]
    },
    {
     "data": {
      "application/vnd.jupyter.widget-view+json": {
       "model_id": "f2988601179f4be292d8f8b6cb723357",
       "version_major": 2,
       "version_minor": 0
      },
      "text/plain": [
       "Эпоха 15:   0%|          | 0/440 [00:00<?, ?it/s]"
      ]
     },
     "metadata": {},
     "output_type": "display_data"
    },
    {
     "name": "stdout",
     "output_type": "stream",
     "text": [
      "F1-score (weighted):\t 0.7484521660645927\n",
      "Точность:\t\t 0.7673703627792581\n",
      "===Модель сохранена===\n"
     ]
    },
    {
     "data": {
      "application/vnd.jupyter.widget-view+json": {
       "model_id": "7939520ae639451b9e439ccd9e73ee97",
       "version_major": 2,
       "version_minor": 0
      },
      "text/plain": [
       "Эпоха 16:   0%|          | 0/440 [00:00<?, ?it/s]"
      ]
     },
     "metadata": {},
     "output_type": "display_data"
    },
    {
     "name": "stdout",
     "output_type": "stream",
     "text": [
      "F1-score (weighted):\t 0.7439587896498089\n",
      "Точность:\t\t 0.7599918015986883\n"
     ]
    },
    {
     "data": {
      "application/vnd.jupyter.widget-view+json": {
       "model_id": "db727bd498db40858e81817507d076f8",
       "version_major": 2,
       "version_minor": 0
      },
      "text/plain": [
       "Эпоха 17:   0%|          | 0/440 [00:00<?, ?it/s]"
      ]
     },
     "metadata": {},
     "output_type": "display_data"
    },
    {
     "name": "stdout",
     "output_type": "stream",
     "text": [
      "F1-score (weighted):\t 0.7442867557692253\n",
      "Точность:\t\t 0.7577372412379586\n"
     ]
    },
    {
     "data": {
      "application/vnd.jupyter.widget-view+json": {
       "model_id": "0017db01a71d41b38a0adce5638b797d",
       "version_major": 2,
       "version_minor": 0
      },
      "text/plain": [
       "Эпоха 18:   0%|          | 0/440 [00:00<?, ?it/s]"
      ]
     },
     "metadata": {},
     "output_type": "display_data"
    },
    {
     "name": "stdout",
     "output_type": "stream",
     "text": [
      "F1-score (weighted):\t 0.752019439222467\n",
      "Точность:\t\t 0.7610166017626563\n",
      "===Модель сохранена===\n"
     ]
    },
    {
     "data": {
      "application/vnd.jupyter.widget-view+json": {
       "model_id": "062e4e1bb4504f77827b0aeab92ad78a",
       "version_major": 2,
       "version_minor": 0
      },
      "text/plain": [
       "Эпоха 19:   0%|          | 0/440 [00:00<?, ?it/s]"
      ]
     },
     "metadata": {},
     "output_type": "display_data"
    },
    {
     "name": "stdout",
     "output_type": "stream",
     "text": [
      "F1-score (weighted):\t 0.7459821380992716\n",
      "Точность:\t\t 0.7661406025824964\n"
     ]
    },
    {
     "data": {
      "application/vnd.jupyter.widget-view+json": {
       "model_id": "f8d6329bb93f4fc0bfcd25f68fa4c279",
       "version_major": 2,
       "version_minor": 0
      },
      "text/plain": [
       "Эпоха 20:   0%|          | 0/440 [00:00<?, ?it/s]"
      ]
     },
     "metadata": {},
     "output_type": "display_data"
    },
    {
     "name": "stdout",
     "output_type": "stream",
     "text": [
      "F1-score (weighted):\t 0.7446264530029119\n",
      "Точность:\t\t 0.7610166017626563\n"
     ]
    },
    {
     "data": {
      "application/vnd.jupyter.widget-view+json": {
       "model_id": "9e78cbf6a1bb4a9daafafa43d46c0db0",
       "version_major": 2,
       "version_minor": 0
      },
      "text/plain": [
       "Эпоха 21:   0%|          | 0/440 [00:00<?, ?it/s]"
      ]
     },
     "metadata": {},
     "output_type": "display_data"
    },
    {
     "name": "stdout",
     "output_type": "stream",
     "text": [
      "F1-score (weighted):\t 0.7489901053923722\n",
      "Точность:\t\t 0.7647058823529411\n"
     ]
    },
    {
     "data": {
      "application/vnd.jupyter.widget-view+json": {
       "model_id": "042e94bd03524c41968a7c8e59d2ab28",
       "version_major": 2,
       "version_minor": 0
      },
      "text/plain": [
       "Эпоха 22:   0%|          | 0/440 [00:00<?, ?it/s]"
      ]
     },
     "metadata": {},
     "output_type": "display_data"
    },
    {
     "name": "stdout",
     "output_type": "stream",
     "text": [
      "F1-score (weighted):\t 0.748376949989631\n",
      "Точность:\t\t 0.7628612420577987\n"
     ]
    },
    {
     "data": {
      "application/vnd.jupyter.widget-view+json": {
       "model_id": "89d2c7e26ffb40a5a65c1c28d90cbc20",
       "version_major": 2,
       "version_minor": 0
      },
      "text/plain": [
       "Эпоха 23:   0%|          | 0/440 [00:00<?, ?it/s]"
      ]
     },
     "metadata": {},
     "output_type": "display_data"
    },
    {
     "name": "stdout",
     "output_type": "stream",
     "text": [
      "F1-score (weighted):\t 0.7453271788184348\n",
      "Точность:\t\t 0.7583521213363394\n"
     ]
    },
    {
     "data": {
      "application/vnd.jupyter.widget-view+json": {
       "model_id": "7055eed132414cb499bffd8c3599f63c",
       "version_major": 2,
       "version_minor": 0
      },
      "text/plain": [
       "Эпоха 24:   0%|          | 0/440 [00:00<?, ?it/s]"
      ]
     },
     "metadata": {},
     "output_type": "display_data"
    },
    {
     "name": "stdout",
     "output_type": "stream",
     "text": [
      "F1-score (weighted):\t 0.7477153748658141\n",
      "Точность:\t\t 0.7620414019266243\n"
     ]
    },
    {
     "data": {
      "application/vnd.jupyter.widget-view+json": {
       "model_id": "dc08a753b52e4f8b9e50339a8a9f74ac",
       "version_major": 2,
       "version_minor": 0
      },
      "text/plain": [
       "Эпоха 25:   0%|          | 0/440 [00:00<?, ?it/s]"
      ]
     },
     "metadata": {},
     "output_type": "display_data"
    },
    {
     "name": "stdout",
     "output_type": "stream",
     "text": [
      "F1-score (weighted):\t 0.7427601396518542\n",
      "Точность:\t\t 0.7571223611395778\n"
     ]
    },
    {
     "data": {
      "application/vnd.jupyter.widget-view+json": {
       "model_id": "e61b95cd3979494b9ac934e8b8935bd2",
       "version_major": 2,
       "version_minor": 0
      },
      "text/plain": [
       "Эпоха 26:   0%|          | 0/440 [00:00<?, ?it/s]"
      ]
     },
     "metadata": {},
     "output_type": "display_data"
    },
    {
     "name": "stdout",
     "output_type": "stream",
     "text": [
      "F1-score (weighted):\t 0.7447134281533135\n",
      "Точность:\t\t 0.7563025210084033\n"
     ]
    },
    {
     "data": {
      "application/vnd.jupyter.widget-view+json": {
       "model_id": "89955ca54f2b48f1b2e79de2cbcac845",
       "version_major": 2,
       "version_minor": 0
      },
      "text/plain": [
       "Эпоха 27:   0%|          | 0/440 [00:00<?, ?it/s]"
      ]
     },
     "metadata": {},
     "output_type": "display_data"
    },
    {
     "name": "stdout",
     "output_type": "stream",
     "text": [
      "F1-score (weighted):\t 0.7458655912613427\n",
      "Точность:\t\t 0.7587620414019266\n"
     ]
    },
    {
     "data": {
      "application/vnd.jupyter.widget-view+json": {
       "model_id": "4942084a6d5a40a486aa7125da612134",
       "version_major": 2,
       "version_minor": 0
      },
      "text/plain": [
       "Эпоха 28:   0%|          | 0/440 [00:00<?, ?it/s]"
      ]
     },
     "metadata": {},
     "output_type": "display_data"
    },
    {
     "name": "stdout",
     "output_type": "stream",
     "text": [
      "F1-score (weighted):\t 0.7477211616684334\n",
      "Точность:\t\t 0.7622463619594179\n"
     ]
    },
    {
     "data": {
      "application/vnd.jupyter.widget-view+json": {
       "model_id": "5dc139021a8249de9466f906b0462a3c",
       "version_major": 2,
       "version_minor": 0
      },
      "text/plain": [
       "Эпоха 29:   0%|          | 0/440 [00:00<?, ?it/s]"
      ]
     },
     "metadata": {},
     "output_type": "display_data"
    },
    {
     "name": "stdout",
     "output_type": "stream",
     "text": [
      "F1-score (weighted):\t 0.7462496885021993\n",
      "Точность:\t\t 0.7587620414019266\n"
     ]
    },
    {
     "data": {
      "application/vnd.jupyter.widget-view+json": {
       "model_id": "6a0ef8d6f2af464d97f4e7178d0f4314",
       "version_major": 2,
       "version_minor": 0
      },
      "text/plain": [
       "Эпоха 30:   0%|          | 0/440 [00:00<?, ?it/s]"
      ]
     },
     "metadata": {},
     "output_type": "display_data"
    },
    {
     "name": "stdout",
     "output_type": "stream",
     "text": [
      "F1-score (weighted):\t 0.7446295241601129\n",
      "Точность:\t\t 0.757532281205165\n"
     ]
    }
   ],
   "source": [
    "# fasttext LSTM_CNN\n",
    "train(\n",
    "    model_class=LSTM_CNN,\n",
    "    hyperparameters=best_hyperparameters['fasttext_LSTM_CNN'].copy(),\n",
    "    data_train=fasttext_data_train,\n",
    "    data_test=fasttext_data_test,\n",
    "    name_model='models/fasttext_lstm_cnn'\n",
    ")"
   ]
  },
  {
   "cell_type": "markdown",
   "metadata": {},
   "source": [
    "### Обучение CNN и LSTM моделей для ансамбля"
   ]
  },
  {
   "cell_type": "markdown",
   "metadata": {},
   "source": [
    "5 моделей CNN и 5 моделей LSTM"
   ]
  },
  {
   "cell_type": "code",
   "execution_count": 11,
   "metadata": {},
   "outputs": [
    {
     "data": {
      "application/vnd.jupyter.widget-view+json": {
       "model_id": "9c5149d13f1a479faeb72106d53916c7",
       "version_major": 2,
       "version_minor": 0
      },
      "text/plain": [
       "  0%|          | 0/10 [00:00<?, ?it/s]"
      ]
     },
     "metadata": {},
     "output_type": "display_data"
    }
   ],
   "source": [
    "# w2v\n",
    "for i in tqdm(range(10)):\n",
    "    \n",
    "    name = f'models/w2v_cnn_and_lstm_ensemble_{i + 1}'\n",
    "    \n",
    "    if i < 5:\n",
    "        train(\n",
    "            model_class=CNN,\n",
    "            hyperparameters=best_hyperparameters['w2v_CNN'].copy(),\n",
    "            data_train=w2v_data_train,\n",
    "            data_test=w2v_data_test,\n",
    "            indicators_switch=False,\n",
    "            name_model=name\n",
    "        )\n",
    "    else:\n",
    "        train(\n",
    "            model_class=LSTM,\n",
    "            hyperparameters=best_hyperparameters['w2v_LSTM'].copy(),\n",
    "            data_train=w2v_data_train,\n",
    "            data_test=w2v_data_test,\n",
    "            indicators_switch=False,\n",
    "            name_model=name\n",
    "        )"
   ]
  },
  {
   "cell_type": "code",
   "execution_count": 12,
   "metadata": {},
   "outputs": [
    {
     "data": {
      "application/vnd.jupyter.widget-view+json": {
       "model_id": "f7c2c448ead34fd7827feb8657f5d7de",
       "version_major": 2,
       "version_minor": 0
      },
      "text/plain": [
       "  0%|          | 0/10 [00:00<?, ?it/s]"
      ]
     },
     "metadata": {},
     "output_type": "display_data"
    }
   ],
   "source": [
    "# fasttext\n",
    "for i in tqdm(range(10)):\n",
    "    \n",
    "    name = f'models/fasttext_cnn_and_lstm_ensemble_{i + 1}'\n",
    "    \n",
    "    if i < 5:\n",
    "        train(\n",
    "            model_class=CNN,\n",
    "            hyperparameters=best_hyperparameters['fasttext_CNN'].copy(),\n",
    "            data_train=fasttext_data_train,\n",
    "            data_test=fasttext_data_test,\n",
    "            indicators_switch=False,\n",
    "            name_model=name\n",
    "        )\n",
    "    else:\n",
    "        train(\n",
    "            model_class=LSTM,\n",
    "            hyperparameters=best_hyperparameters['fasttext_LSTM'].copy(),\n",
    "            data_train=fasttext_data_train,\n",
    "            data_test=fasttext_data_test,\n",
    "            indicators_switch=False,\n",
    "            name_model=name\n",
    "        )"
   ]
  },
  {
   "cell_type": "markdown",
   "metadata": {},
   "source": [
    "### Обучение LSTM_CNN моделей для ансамбля"
   ]
  },
  {
   "cell_type": "markdown",
   "metadata": {},
   "source": [
    "10 LSTM_CNN моделей"
   ]
  },
  {
   "cell_type": "code",
   "execution_count": 13,
   "metadata": {},
   "outputs": [
    {
     "data": {
      "application/vnd.jupyter.widget-view+json": {
       "model_id": "37c67c44e1ef40879a5b3266c81b0498",
       "version_major": 2,
       "version_minor": 0
      },
      "text/plain": [
       "  0%|          | 0/10 [00:00<?, ?it/s]"
      ]
     },
     "metadata": {},
     "output_type": "display_data"
    }
   ],
   "source": [
    "# w2v\n",
    "for i in tqdm(range(10)):\n",
    "    \n",
    "    name = f'models/w2v_ensemble_of_lstm_cnn_{i + 1}'\n",
    "    \n",
    "    train(\n",
    "        model_class=LSTM_CNN,\n",
    "        hyperparameters=best_hyperparameters['w2v_LSTM_CNN'].copy(),\n",
    "        data_train=w2v_data_train,\n",
    "        data_test=w2v_data_test,\n",
    "        indicators_switch=False,\n",
    "        name_model=name\n",
    "    )"
   ]
  },
  {
   "cell_type": "code",
   "execution_count": 14,
   "metadata": {},
   "outputs": [
    {
     "data": {
      "application/vnd.jupyter.widget-view+json": {
       "model_id": "6edba5ed37934d65b868167182830073",
       "version_major": 2,
       "version_minor": 0
      },
      "text/plain": [
       "  0%|          | 0/10 [00:00<?, ?it/s]"
      ]
     },
     "metadata": {},
     "output_type": "display_data"
    }
   ],
   "source": [
    "# fasttext\n",
    "for i in tqdm(range(10)):\n",
    "    \n",
    "    name = f'models/fasttext_ensemble_of_lstm_cnn_{i + 1}'\n",
    "    \n",
    "    train(\n",
    "        model_class=LSTM_CNN,\n",
    "        hyperparameters=best_hyperparameters['fasttext_LSTM_CNN'].copy(),\n",
    "        data_train=fasttext_data_train,\n",
    "        data_test=fasttext_data_test,\n",
    "        indicators_switch=False,\n",
    "        name_model=name\n",
    "    )\n"
   ]
  },
  {
   "cell_type": "markdown",
   "metadata": {},
   "source": [
    "## Результаты"
   ]
  },
  {
   "cell_type": "markdown",
   "metadata": {},
   "source": [
    "Были обучены и сохранены модели CNN, LSTM, LSTM_CNN и их комбинации для ансамблей на текстах, обработанных Word2Vec и FastText."
   ]
  }
 ],
 "metadata": {
  "kernelspec": {
   "display_name": "venv",
   "language": "python",
   "name": "python3"
  },
  "language_info": {
   "codemirror_mode": {
    "name": "ipython",
    "version": 3
   },
   "file_extension": ".py",
   "mimetype": "text/x-python",
   "name": "python",
   "nbconvert_exporter": "python",
   "pygments_lexer": "ipython3",
   "version": "3.10.9"
  }
 },
 "nbformat": 4,
 "nbformat_minor": 2
}
