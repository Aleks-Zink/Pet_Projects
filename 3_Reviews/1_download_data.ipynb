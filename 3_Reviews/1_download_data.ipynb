{
 "cells": [
  {
   "cell_type": "markdown",
   "metadata": {},
   "source": [
    "# Получение текстов для Sentiment Analysis"
   ]
  },
  {
   "cell_type": "markdown",
   "metadata": {},
   "source": [
    "## Задача"
   ]
  },
  {
   "cell_type": "markdown",
   "metadata": {},
   "source": [
    "Получение размеченных текстов из открытого источника"
   ]
  },
  {
   "cell_type": "markdown",
   "metadata": {},
   "source": [
    "## Данные"
   ]
  },
  {
   "cell_type": "markdown",
   "metadata": {},
   "source": [
    "В качестве таковых текстов взяты отзывы на фильмы и сериалы с сайта [Кинопоиск](https://www.kinopoisk.ru/lists/movies/) с 2020 по 2023 год включительно"
   ]
  },
  {
   "cell_type": "markdown",
   "metadata": {},
   "source": [
    "## Расчёты"
   ]
  },
  {
   "cell_type": "code",
   "execution_count": 1,
   "metadata": {},
   "outputs": [],
   "source": [
    "from selenium.webdriver import Chrome\n",
    "from selenium.webdriver.common.by import By\n",
    "from selenium.webdriver.support.wait import WebDriverWait\n",
    "from selenium.webdriver.support import expected_conditions as EC\n",
    "from tqdm.notebook import tqdm\n",
    "import re\n",
    "import pandas as pd\n",
    "from bs4 import BeautifulSoup"
   ]
  },
  {
   "cell_type": "code",
   "execution_count": 2,
   "metadata": {},
   "outputs": [
    {
     "data": {
      "application/vnd.jupyter.widget-view+json": {
       "model_id": "667471e5905e49bba909419fed0734e3",
       "version_major": 2,
       "version_minor": 0
      },
      "text/plain": [
       "  0%|          | 0/4 [00:00<?, ?it/s]"
      ]
     },
     "metadata": {},
     "output_type": "display_data"
    }
   ],
   "source": [
    "# Каждый фильм/сериал на сайте имеет уникальный номер\n",
    "# Получим эти самые номера фильмов\n",
    "film_number = []\n",
    "\n",
    "browser = Chrome()\n",
    "\n",
    "start_year = 2020\n",
    "end_year = 2023\n",
    "\n",
    "for year in tqdm(range(start_year, end_year + 1)):\n",
    "\n",
    "    # Отдельно рассматривается каждый год и список фильмов сортируется по количеству оценок пользователей\n",
    "    url = f\"https://www.kinopoisk.ru/lists/movies/year--{year}/?sort=votes\"\n",
    "\n",
    "    browser.get(url)\n",
    "\n",
    "\n",
    "    while True:\n",
    "\n",
    "        soup = BeautifulSoup(browser.page_source, 'lxml')\n",
    "\n",
    "        # На одной странице находится 50 фильмов/сериалов\n",
    "        for number in soup.find_all('div', class_='styles_main__Y8zDm'):\n",
    "            # Добавление всех номеров фильмов/сериалов на странице\n",
    "            film_number.append(re.search(r'/\\d+/', number.a['href'])[0])\n",
    "\n",
    "        # Нажатие на кнопу \"Вперёд\" для переключения на следующую страницу\n",
    "        next_button = browser.find_elements(by=By.CLASS_NAME, value=\"styles_end__aEsmB\")\n",
    "\n",
    "        # Если у всех фильмов на странице отсутствуют оценки, то дальнейший просмотри страниц данного года прекращается\n",
    "        # Предположительно, если отсутствутствуют оценки, то отзывы и подавно\n",
    "        if next_button and ([i.text for i in soup.find_all('div', class_='styles_rating__LU3_x')] != ['—'] * 50):\n",
    "            next_button[0].click()\n",
    "            WebDriverWait(browser, 10).until(EC.presence_of_all_elements_located((By.CLASS_NAME, \"styles_main__Y8zDm\")))\n",
    "        else:\n",
    "            break"
   ]
  },
  {
   "cell_type": "code",
   "execution_count": 3,
   "metadata": {},
   "outputs": [
    {
     "data": {
      "text/plain": [
       "17600"
      ]
     },
     "execution_count": 3,
     "metadata": {},
     "output_type": "execute_result"
    }
   ],
   "source": [
    "# Количество найденных фильмов/сериалов\n",
    "len(film_number)"
   ]
  },
  {
   "cell_type": "code",
   "execution_count": 4,
   "metadata": {},
   "outputs": [
    {
     "data": {
      "text/plain": [
       "13285"
      ]
     },
     "execution_count": 4,
     "metadata": {},
     "output_type": "execute_result"
    }
   ],
   "source": [
    "# Удаление повторяющихся названий в списке\n",
    "# Так как сериалы, из-за своей продолжительности, могут попасть в список за разные годы\n",
    "film_number = list(set(film_number))\n",
    "len(film_number)"
   ]
  },
  {
   "cell_type": "code",
   "execution_count": 5,
   "metadata": {},
   "outputs": [
    {
     "data": {
      "application/vnd.jupyter.widget-view+json": {
       "model_id": "997218285327403ebd7f5ebba8c31ce7",
       "version_major": 2,
       "version_minor": 0
      },
      "text/plain": [
       "  0%|          | 0/13285 [00:00<?, ?it/s]"
      ]
     },
     "metadata": {},
     "output_type": "display_data"
    },
    {
     "name": "stdout",
     "output_type": "stream",
     "text": [
      "Общее число отзывов: 48790\n"
     ]
    }
   ],
   "source": [
    "# Получение отзывов на фильмы/сериалы по полученным номерам\n",
    "# Запись отзывов в файл data/reviews_2020_2023.csv\n",
    "reviews = pd.DataFrame(columns=[\"type\", \"review\"])\n",
    "reviews.to_csv(f'data/reviews_{start_year}_{end_year}.csv', sep='|', mode='w', header=True, index=False, encoding='utf-8')\n",
    "\n",
    "number_of_reviews = 0\n",
    "\n",
    "for number in tqdm(film_number):\n",
    "\n",
    "    browser.get(f'https://www.kinopoisk.ru/film{number}reviews/ord/date/status/all/perpage/200/')\n",
    "\n",
    "    while True:\n",
    "\n",
    "        soup = BeautifulSoup(browser.page_source, 'lxml')\n",
    "\n",
    "        for review in soup.find_all('div', class_='reviewItem userReview'):\n",
    "            \n",
    "            review = review.find('div', class_='response')\n",
    "        \n",
    "            reviews.loc[len(reviews.index)] = [\n",
    "                review[\"class\"][1],\n",
    "                re.sub('[\\n| ]+', ' ', review.table.tbody.tr.text).strip()\n",
    "            ]\n",
    "\n",
    "            number_of_reviews += 1\n",
    "\n",
    "        reviews.to_csv(f'data/reviews_{start_year}_{end_year}.csv', sep='|', mode='a', header=False, index=False, encoding='utf-8')\n",
    "        reviews.drop(labels=reviews.index, axis=0, inplace=True)\n",
    "\n",
    "        next_button = browser.find_elements(by=By.LINK_TEXT, value=\"»\")\n",
    "        if next_button:\n",
    "            next_button[0].click()\n",
    "            WebDriverWait(browser, 10).until(EC.presence_of_all_elements_located((By.CLASS_NAME, \"response\")))\n",
    "        else:\n",
    "            break\n",
    "\n",
    "print('Общее число отзывов:', number_of_reviews)"
   ]
  },
  {
   "cell_type": "markdown",
   "metadata": {},
   "source": [
    "## Результаты"
   ]
  },
  {
   "cell_type": "markdown",
   "metadata": {},
   "source": [
    "Было получено больше 48 тысяч отзывов с пометками (негативный, нейтральный, положительный) на фильмы или сериалы за почти 4 года (с 2020 по 2023 год)."
   ]
  }
 ],
 "metadata": {
  "kernelspec": {
   "display_name": "venv",
   "language": "python",
   "name": "python3"
  },
  "language_info": {
   "codemirror_mode": {
    "name": "ipython",
    "version": 3
   },
   "file_extension": ".py",
   "mimetype": "text/x-python",
   "name": "python",
   "nbconvert_exporter": "python",
   "pygments_lexer": "ipython3",
   "version": "3.10.9"
  },
  "orig_nbformat": 4
 },
 "nbformat": 4,
 "nbformat_minor": 2
}
