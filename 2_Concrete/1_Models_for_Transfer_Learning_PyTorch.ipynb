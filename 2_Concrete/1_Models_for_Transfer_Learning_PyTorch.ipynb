{
  "cells": [
    {
      "cell_type": "markdown",
      "metadata": {
        "id": "YkdZ4qHfhdaA"
      },
      "source": [
        "# Выбор модели для последующего трансферного обучения в PyThorch"
      ]
    },
    {
      "cell_type": "markdown",
      "metadata": {
        "id": "md8ESR9MbVXw"
      },
      "source": [
        "## Задача"
      ]
    },
    {
      "cell_type": "markdown",
      "metadata": {
        "id": "Fgc20_A7hdaE"
      },
      "source": [
        "Выбрать оптимальную модель, предварительно обученную на наборе данных *ImageNet*: *VGG16*, *VGG19*, *ResNet50V1*, *ResNet50V2*, *ResNet101V1*, *ResNet101V2*, *ResNet152V1*, *ResNet152V2*."
      ]
    },
    {
      "cell_type": "markdown",
      "metadata": {
        "id": "1IY_l-IJbVXx"
      },
      "source": [
        "## Данные"
      ]
    },
    {
      "cell_type": "markdown",
      "metadata": {
        "id": "1VEPdeAAhdaD"
      },
      "source": [
        "40 000 цветных картинок бетона размером 227x227 пикселей, 20 000 из которых с стрещиной, другие 20 000 целый  \n",
        "Данные взяты из курса [AI Capstone Project with Deep Learning](https://www.coursera.org/learn/ai-deep-learning-capstone?specialization=ai-engineer), явлюющийся заключительным курсом [IBM AI Engineering Professional Certificate](https://www.coursera.org/professional-certificates/ai-engineer) на сайте [coursera.org](https://www.coursera.org/)  \n",
        "[Данные](https://s3-api.us-geo.objectstorage.softlayer.net/cf-courses-data/CognitiveClass/DL0321EN/data/images/concrete_crack_images_for_classification.zip)  "
      ]
    },
    {
      "cell_type": "code",
      "execution_count": 1,
      "metadata": {
        "colab": {
          "base_uri": "https://localhost:8080/"
        },
        "id": "-kgF5IW0cjqw",
        "outputId": "b5e94be3-465e-4a0e-829e-6d8be0677931"
      },
      "outputs": [
        {
          "name": "stdout",
          "output_type": "stream",
          "text": [
            "--2023-04-28 12:12:00--  https://s3-api.us-geo.objectstorage.softlayer.net/cf-courses-data/CognitiveClass/DL0321EN/data/images/concrete_crack_images_for_classification.zip\n",
            "Resolving s3-api.us-geo.objectstorage.softlayer.net (s3-api.us-geo.objectstorage.softlayer.net)... 67.228.254.196\n",
            "Connecting to s3-api.us-geo.objectstorage.softlayer.net (s3-api.us-geo.objectstorage.softlayer.net)|67.228.254.196|:443... connected.\n",
            "HTTP request sent, awaiting response... 200 OK\n",
            "Length: 245259777 (234M) [application/zip]\n",
            "Saving to: ‘concrete_crack_images_for_classification.zip’\n",
            "\n",
            "concrete_crack_imag 100%[===================>] 233.90M  28.9MB/s    in 7.7s    \n",
            "\n",
            "2023-04-28 12:12:09 (30.5 MB/s) - ‘concrete_crack_images_for_classification.zip’ saved [245259777/245259777]\n",
            "\n"
          ]
        }
      ],
      "source": [
        "!wget https://s3-api.us-geo.objectstorage.softlayer.net/cf-courses-data/CognitiveClass/DL0321EN/data/images/concrete_crack_images_for_classification.zip"
      ]
    },
    {
      "cell_type": "code",
      "execution_count": 2,
      "metadata": {
        "id": "2FX4SU3SckM2"
      },
      "outputs": [],
      "source": [
        "!mkdir ./data\n",
        "!mkdir ./data/concrete\n",
        "!mkdir ./models"
      ]
    },
    {
      "cell_type": "code",
      "execution_count": null,
      "metadata": {
        "id": "eibSxwORckZt"
      },
      "outputs": [],
      "source": [
        "!unzip concrete_crack_images_for_classification.zip -d ./data/concrete"
      ]
    },
    {
      "cell_type": "markdown",
      "metadata": {
        "id": "p5DGB1F5bVXy"
      },
      "source": [
        "## Расчёты"
      ]
    },
    {
      "cell_type": "code",
      "execution_count": 4,
      "metadata": {
        "id": "jxYc1WEqhdaF"
      },
      "outputs": [],
      "source": [
        "import os\n",
        "\n",
        "from PIL import Image\n",
        "\n",
        "import torch\n",
        "from torch import nn, optim\n",
        "from torch.utils.data import Dataset, DataLoader\n",
        "from torchvision import models\n",
        "\n",
        "from tqdm import tqdm"
      ]
    },
    {
      "cell_type": "code",
      "execution_count": 5,
      "metadata": {
        "id": "gKqJZehxhdaH"
      },
      "outputs": [],
      "source": [
        "class Concrete(Dataset):\n",
        "    def __init__(self, train=True, train_size=0.75, transform=None):\n",
        "\n",
        "        self.transform = transform\n",
        "\n",
        "        # директории классов\n",
        "        directory = \"./data/concrete/\"\n",
        "        positive = \"Positive\"\n",
        "        negative = \"Negative\"\n",
        "\n",
        "        # путь к классам\n",
        "        positive_path = os.path.join(directory, positive)\n",
        "        negative_path = os.path.join(directory, negative)\n",
        "\n",
        "        # путь к каждому положительному объекту\n",
        "        positive_files = [os.path.join(positive_path, file) for file in os.listdir(positive_path) if file.endswith(\".jpg\")]\n",
        "        positive_files.sort()\n",
        "\n",
        "        # путь к каждому негативному объекту\n",
        "        negative_files = [os.path.join(negative_path, file) for file in os.listdir(negative_path) if file.endswith(\".jpg\")]\n",
        "        negative_files.sort()\n",
        "\n",
        "        # пути к каждому объекту (чётные индексы - положительные классы, нечётные индексы - отрицательные классы)\n",
        "        self.all_files = []\n",
        "        for pair in zip(positive_files, negative_files):\n",
        "            self.all_files.extend(pair)\n",
        "        \n",
        "        # всего объектов в данных\n",
        "        length = len(self.all_files)\n",
        "\n",
        "        # целевое обозначение каждого объекта \n",
        "        self.all_targets = torch.zeros(length, dtype=torch.long)\n",
        "        self.all_targets[::2] = 1\n",
        "\n",
        "        # индекс границы между данными обечения и данными валидации\n",
        "        border = int(length * train_size)\n",
        "\n",
        "        # разделение данных на тестовую валидационную выборки\n",
        "        if train:\n",
        "            self.all_files = self.all_files[:border]\n",
        "            self.all_targets = self.all_targets[:border]\n",
        "        else:\n",
        "            self.all_files = self.all_files[border:]\n",
        "            self.all_targets = self.all_targets[border:]\n",
        "        \n",
        "        self.len = len(self.all_targets)\n",
        "\n",
        "    def __len__(self):\n",
        "        return self.len\n",
        "\n",
        "    def __getitem__(self, ind):\n",
        "        \n",
        "        # загрузка оъекта и его обозначения\n",
        "        image = Image.open(self.all_files[ind])\n",
        "        y = self.all_targets[ind]\n",
        "\n",
        "        # трансформация объекта, если это необходимо\n",
        "        if self.transform:\n",
        "            image = self.transform(image)\n",
        "\n",
        "        return image, y"
      ]
    },
    {
      "cell_type": "code",
      "execution_count": 6,
      "metadata": {
        "id": "JH8ulKsQhdaI"
      },
      "outputs": [],
      "source": [
        "def get_transform_model(name_model=\"VGG16\"):\n",
        "\n",
        "    # инициализация модели и её весов\n",
        "    if name_model == \"VGG16\":\n",
        "        \n",
        "        weights = models.VGG16_Weights.IMAGENET1K_V1\n",
        "        model = models.vgg16(weights=weights)\n",
        "    \n",
        "    elif name_model == \"VGG19\":\n",
        "\n",
        "        weights = models.VGG19_Weights.IMAGENET1K_V1\n",
        "        model = models.vgg19(weights=weights)\n",
        "    \n",
        "    elif name_model == \"ResNet50V1\":\n",
        "\n",
        "        weights = models.ResNet50_Weights.IMAGENET1K_V1\n",
        "        model = models.resnet50(weights=weights)\n",
        "\n",
        "    elif name_model == \"ResNet50V2\":\n",
        "\n",
        "        weights = models.ResNet50_Weights.IMAGENET1K_V2\n",
        "        model = models.resnet50(weights=weights)\n",
        "\n",
        "    elif name_model == \"ResNet101V1\":\n",
        "        \n",
        "        weights = models.ResNet101_Weights.IMAGENET1K_V1\n",
        "        model = models.resnet101(weights=weights)\n",
        "\n",
        "    elif name_model == \"ResNet101V2\":\n",
        "        \n",
        "        weights = models.ResNet101_Weights.IMAGENET1K_V2\n",
        "        model = models.resnet101(weights=weights)\n",
        "\n",
        "    elif name_model == \"ResNet152V1\":\n",
        "        \n",
        "        weights = models.ResNet152_Weights.IMAGENET1K_V1\n",
        "        model = models.resnet152(weights=weights)\n",
        "\n",
        "    elif name_model == \"ResNet152V2\":\n",
        "        \n",
        "        weights = models.ResNet152_Weights.IMAGENET1K_V2\n",
        "        model = models.resnet152(weights=weights)\n",
        "\n",
        "\n",
        "    # заморозка весов свёрточной модели\n",
        "    for param in model.parameters():\n",
        "        param.requires_grad = False\n",
        "\n",
        "\n",
        "    # замена полносвязных слоёв в конце\n",
        "    if name_model.startswith(\"VGG\"):\n",
        "        \n",
        "        model.avgpool = nn.AdaptiveAvgPool2d(output_size=(1,1))\n",
        "        model.classifier = nn.Linear(512, 2)\n",
        "\n",
        "    elif name_model.startswith(\"ResNet\"):\n",
        "        \n",
        "        model.fc = nn.Linear(2048, 2)\n",
        "\n",
        "    # инициализация преобразователя данных для модели\n",
        "    transform = weights.transforms()\n",
        "\n",
        "    return transform, model"
      ]
    },
    {
      "cell_type": "code",
      "execution_count": 7,
      "metadata": {
        "id": "hJRLZ6-FhdaK"
      },
      "outputs": [],
      "source": [
        "def get_batched_data(transform, train_size=0.75, batch_size=100, shuffle=True):\n",
        "    \n",
        "    # инициализация обучающих данных\n",
        "    train = Concrete(train=True, train_size=train_size, transform=transform)\n",
        "    # инициализация валидационных данных\n",
        "    val = Concrete(train=False, train_size=train_size, transform=transform)\n",
        "    \n",
        "    # размер валидационной выборки\n",
        "    val_len = len(val)\n",
        "\n",
        "    # пакетированные данные для тренировки\n",
        "    train = DataLoader(dataset=train, batch_size=batch_size, shuffle=shuffle)\n",
        "    # пакетированные данные для валидации\n",
        "    val = DataLoader(dataset=val, batch_size=batch_size, shuffle=shuffle)\n",
        "\n",
        "    return train, val, val_len"
      ]
    },
    {
      "cell_type": "code",
      "execution_count": 8,
      "metadata": {
        "id": "vpWlJhVOhdaK"
      },
      "outputs": [],
      "source": [
        "def train(model, data_train, data_val, val_len, device='cpu', epochs=3, lr=0.001):\n",
        "    \n",
        "    # инициализация оптимизатора и функции ошибки\n",
        "    optimizer = optim.Adam(params=[parameter for parameter in model.parameters() if parameter.requires_grad], lr=lr)\n",
        "    criterion = nn.CrossEntropyLoss()\n",
        "    \n",
        "    # перевод модель на устройство для расчётов\n",
        "    model.to(device)\n",
        "\n",
        "    for epoch in range(epochs):\n",
        "        \n",
        "        # перевод модели в режим обучения\n",
        "        model.train()\n",
        "\n",
        "        # цикл обучения\n",
        "        for x, y in tqdm(data_train, desc=f\"Train epoch {epoch + 1: >3}\"):\n",
        "\n",
        "            # перевод данных на устройсто для расчётов         \n",
        "            x, y = x.to(device), y.to(device)\n",
        "            \n",
        "            # обнуление градиента\n",
        "            optimizer.zero_grad()\n",
        "            \n",
        "            # расчёт ошибки\n",
        "            y_hat = model(x)\n",
        "            loss = criterion(y_hat, y)\n",
        "\n",
        "            # шаг обучения\n",
        "            loss.backward()\n",
        "            optimizer.step()\n",
        "\n",
        "        # перевод модели в режим оценки\n",
        "        model.eval()\n",
        "\n",
        "        # число корректных ответов\n",
        "        correct = 0\n",
        "\n",
        "        # цикл оценки\n",
        "        for x, y in tqdm(data_val, desc=f\"Val epoch {epoch + 1: >5}\"):\n",
        "\n",
        "            # перевод данных на устройсто для расчётов \n",
        "            x, y = x.to(device), y.to(device)\n",
        "\n",
        "            # сбор корректных ответов в батче\n",
        "            y_hat = model(x)\n",
        "            correct += (y_hat.argmax(dim=1) == y).sum().item()\n",
        "\n",
        "        # расчёт точности\n",
        "        accuracy = correct / val_len\n",
        "        \n",
        "        print(f\"\\nAccuracy: {accuracy * 100:.2f}%\\n\")\n",
        "\n",
        "    # перевод модели на процессор\n",
        "    model.to(\"cpu\")\n",
        "    print(\"=\"*40)\n"
      ]
    },
    {
      "cell_type": "code",
      "execution_count": 9,
      "metadata": {
        "colab": {
          "base_uri": "https://localhost:8080/"
        },
        "id": "GWqaa9XVhdaL",
        "outputId": "a84796a0-e850-4aa8-9b5b-f7b2dae1b684"
      },
      "outputs": [
        {
          "name": "stdout",
          "output_type": "stream",
          "text": [
            "\n",
            "Model: VGG16\n",
            "\n"
          ]
        },
        {
          "name": "stderr",
          "output_type": "stream",
          "text": [
            "Downloading: \"https://download.pytorch.org/models/vgg16-397923af.pth\" to /root/.cache/torch/hub/checkpoints/vgg16-397923af.pth\n",
            "100%|██████████| 528M/528M [00:02<00:00, 238MB/s]\n"
          ]
        },
        {
          "name": "stdout",
          "output_type": "stream",
          "text": [
            "\n",
            "Число параметров сети: 14.716 * 10^6\n",
            "Занимают в памяти: 56.136 Мб\n",
            "\n"
          ]
        },
        {
          "name": "stderr",
          "output_type": "stream",
          "text": [
            "Train epoch   1: 100%|██████████| 300/300 [02:51<00:00,  1.75it/s]\n",
            "Val epoch     1: 100%|██████████| 100/100 [01:32<00:00,  1.08it/s]\n"
          ]
        },
        {
          "name": "stdout",
          "output_type": "stream",
          "text": [
            "\n",
            "Accuracy: 99.09%\n",
            "\n"
          ]
        },
        {
          "name": "stderr",
          "output_type": "stream",
          "text": [
            "Train epoch   2: 100%|██████████| 300/300 [02:55<00:00,  1.71it/s]\n",
            "Val epoch     2: 100%|██████████| 100/100 [01:34<00:00,  1.05it/s]\n"
          ]
        },
        {
          "name": "stdout",
          "output_type": "stream",
          "text": [
            "\n",
            "Accuracy: 99.28%\n",
            "\n"
          ]
        },
        {
          "name": "stderr",
          "output_type": "stream",
          "text": [
            "Train epoch   3: 100%|██████████| 300/300 [02:55<00:00,  1.71it/s]\n",
            "Val epoch     3: 100%|██████████| 100/100 [01:34<00:00,  1.06it/s]\n"
          ]
        },
        {
          "name": "stdout",
          "output_type": "stream",
          "text": [
            "\n",
            "Accuracy: 99.38%\n",
            "\n",
            "========================================\n",
            "\n",
            "Model: VGG19\n",
            "\n"
          ]
        },
        {
          "name": "stderr",
          "output_type": "stream",
          "text": [
            "Downloading: \"https://download.pytorch.org/models/vgg19-dcbb9e9d.pth\" to /root/.cache/torch/hub/checkpoints/vgg19-dcbb9e9d.pth\n",
            "100%|██████████| 548M/548M [00:02<00:00, 234MB/s]\n"
          ]
        },
        {
          "name": "stdout",
          "output_type": "stream",
          "text": [
            "\n",
            "Число параметров сети: 20.025 * 10^6\n",
            "Занимают в памяти: 76.391 Мб\n",
            "\n"
          ]
        },
        {
          "name": "stderr",
          "output_type": "stream",
          "text": [
            "Train epoch   1: 100%|██████████| 300/300 [03:23<00:00,  1.48it/s]\n",
            "Val epoch     1: 100%|██████████| 100/100 [01:45<00:00,  1.05s/it]\n"
          ]
        },
        {
          "name": "stdout",
          "output_type": "stream",
          "text": [
            "\n",
            "Accuracy: 98.63%\n",
            "\n"
          ]
        },
        {
          "name": "stderr",
          "output_type": "stream",
          "text": [
            "Train epoch   2: 100%|██████████| 300/300 [03:23<00:00,  1.47it/s]\n",
            "Val epoch     2: 100%|██████████| 100/100 [01:45<00:00,  1.05s/it]\n"
          ]
        },
        {
          "name": "stdout",
          "output_type": "stream",
          "text": [
            "\n",
            "Accuracy: 98.99%\n",
            "\n"
          ]
        },
        {
          "name": "stderr",
          "output_type": "stream",
          "text": [
            "Train epoch   3: 100%|██████████| 300/300 [03:22<00:00,  1.48it/s]\n",
            "Val epoch     3: 100%|██████████| 100/100 [01:47<00:00,  1.07s/it]\n"
          ]
        },
        {
          "name": "stdout",
          "output_type": "stream",
          "text": [
            "\n",
            "Accuracy: 99.18%\n",
            "\n",
            "========================================\n",
            "\n",
            "Model: ResNet50V1\n",
            "\n"
          ]
        },
        {
          "name": "stderr",
          "output_type": "stream",
          "text": [
            "Downloading: \"https://download.pytorch.org/models/resnet50-0676ba61.pth\" to /root/.cache/torch/hub/checkpoints/resnet50-0676ba61.pth\n",
            "100%|██████████| 97.8M/97.8M [00:01<00:00, 97.7MB/s]\n"
          ]
        },
        {
          "name": "stdout",
          "output_type": "stream",
          "text": [
            "\n",
            "Число параметров сети: 23.512 * 10^6\n",
            "Занимают в памяти: 89.692 Мб\n",
            "\n"
          ]
        },
        {
          "name": "stderr",
          "output_type": "stream",
          "text": [
            "Train epoch   1: 100%|██████████| 300/300 [02:07<00:00,  2.35it/s]\n",
            "Val epoch     1: 100%|██████████| 100/100 [01:10<00:00,  1.41it/s]\n"
          ]
        },
        {
          "name": "stdout",
          "output_type": "stream",
          "text": [
            "\n",
            "Accuracy: 99.42%\n",
            "\n"
          ]
        },
        {
          "name": "stderr",
          "output_type": "stream",
          "text": [
            "Train epoch   2: 100%|██████████| 300/300 [02:09<00:00,  2.31it/s]\n",
            "Val epoch     2: 100%|██████████| 100/100 [01:07<00:00,  1.49it/s]\n"
          ]
        },
        {
          "name": "stdout",
          "output_type": "stream",
          "text": [
            "\n",
            "Accuracy: 99.58%\n",
            "\n"
          ]
        },
        {
          "name": "stderr",
          "output_type": "stream",
          "text": [
            "Train epoch   3: 100%|██████████| 300/300 [02:04<00:00,  2.41it/s]\n",
            "Val epoch     3: 100%|██████████| 100/100 [01:10<00:00,  1.42it/s]\n"
          ]
        },
        {
          "name": "stdout",
          "output_type": "stream",
          "text": [
            "\n",
            "Accuracy: 99.64%\n",
            "\n",
            "========================================\n",
            "\n",
            "Model: ResNet50V2\n",
            "\n"
          ]
        },
        {
          "name": "stderr",
          "output_type": "stream",
          "text": [
            "Downloading: \"https://download.pytorch.org/models/resnet50-11ad3fa6.pth\" to /root/.cache/torch/hub/checkpoints/resnet50-11ad3fa6.pth\n",
            "100%|██████████| 97.8M/97.8M [00:00<00:00, 208MB/s]\n"
          ]
        },
        {
          "name": "stdout",
          "output_type": "stream",
          "text": [
            "\n",
            "Число параметров сети: 23.512 * 10^6\n",
            "Занимают в памяти: 89.692 Мб\n",
            "\n"
          ]
        },
        {
          "name": "stderr",
          "output_type": "stream",
          "text": [
            "Train epoch   1: 100%|██████████| 300/300 [01:59<00:00,  2.51it/s]\n",
            "Val epoch     1: 100%|██████████| 100/100 [01:06<00:00,  1.50it/s]\n"
          ]
        },
        {
          "name": "stdout",
          "output_type": "stream",
          "text": [
            "\n",
            "Accuracy: 99.06%\n",
            "\n"
          ]
        },
        {
          "name": "stderr",
          "output_type": "stream",
          "text": [
            "Train epoch   2: 100%|██████████| 300/300 [01:58<00:00,  2.54it/s]\n",
            "Val epoch     2: 100%|██████████| 100/100 [01:06<00:00,  1.50it/s]\n"
          ]
        },
        {
          "name": "stdout",
          "output_type": "stream",
          "text": [
            "\n",
            "Accuracy: 99.29%\n",
            "\n"
          ]
        },
        {
          "name": "stderr",
          "output_type": "stream",
          "text": [
            "Train epoch   3: 100%|██████████| 300/300 [01:58<00:00,  2.53it/s]\n",
            "Val epoch     3: 100%|██████████| 100/100 [01:07<00:00,  1.49it/s]\n"
          ]
        },
        {
          "name": "stdout",
          "output_type": "stream",
          "text": [
            "\n",
            "Accuracy: 99.39%\n",
            "\n",
            "========================================\n",
            "\n",
            "Model: ResNet101V1\n",
            "\n"
          ]
        },
        {
          "name": "stderr",
          "output_type": "stream",
          "text": [
            "Downloading: \"https://download.pytorch.org/models/resnet101-63fe2227.pth\" to /root/.cache/torch/hub/checkpoints/resnet101-63fe2227.pth\n",
            "100%|██████████| 171M/171M [00:03<00:00, 53.3MB/s]\n"
          ]
        },
        {
          "name": "stdout",
          "output_type": "stream",
          "text": [
            "\n",
            "Число параметров сети: 42.504 * 10^6\n",
            "Занимают в памяти: 162.141 Мб\n",
            "\n"
          ]
        },
        {
          "name": "stderr",
          "output_type": "stream",
          "text": [
            "Train epoch   1: 100%|██████████| 300/300 [02:44<00:00,  1.82it/s]\n",
            "Val epoch     1: 100%|██████████| 100/100 [01:29<00:00,  1.12it/s]\n"
          ]
        },
        {
          "name": "stdout",
          "output_type": "stream",
          "text": [
            "\n",
            "Accuracy: 99.37%\n",
            "\n"
          ]
        },
        {
          "name": "stderr",
          "output_type": "stream",
          "text": [
            "Train epoch   2: 100%|██████████| 300/300 [02:46<00:00,  1.81it/s]\n",
            "Val epoch     2: 100%|██████████| 100/100 [01:25<00:00,  1.17it/s]\n"
          ]
        },
        {
          "name": "stdout",
          "output_type": "stream",
          "text": [
            "\n",
            "Accuracy: 99.57%\n",
            "\n"
          ]
        },
        {
          "name": "stderr",
          "output_type": "stream",
          "text": [
            "Train epoch   3: 100%|██████████| 300/300 [02:44<00:00,  1.82it/s]\n",
            "Val epoch     3: 100%|██████████| 100/100 [01:25<00:00,  1.16it/s]\n"
          ]
        },
        {
          "name": "stdout",
          "output_type": "stream",
          "text": [
            "\n",
            "Accuracy: 99.61%\n",
            "\n",
            "========================================\n",
            "\n",
            "Model: ResNet101V2\n",
            "\n"
          ]
        },
        {
          "name": "stderr",
          "output_type": "stream",
          "text": [
            "Downloading: \"https://download.pytorch.org/models/resnet101-cd907fc2.pth\" to /root/.cache/torch/hub/checkpoints/resnet101-cd907fc2.pth\n",
            "100%|██████████| 171M/171M [00:02<00:00, 68.2MB/s]\n"
          ]
        },
        {
          "name": "stdout",
          "output_type": "stream",
          "text": [
            "\n",
            "Число параметров сети: 42.504 * 10^6\n",
            "Занимают в памяти: 162.141 Мб\n",
            "\n"
          ]
        },
        {
          "name": "stderr",
          "output_type": "stream",
          "text": [
            "Train epoch   1: 100%|██████████| 300/300 [02:43<00:00,  1.84it/s]\n",
            "Val epoch     1: 100%|██████████| 100/100 [01:25<00:00,  1.17it/s]\n"
          ]
        },
        {
          "name": "stdout",
          "output_type": "stream",
          "text": [
            "\n",
            "Accuracy: 98.69%\n",
            "\n"
          ]
        },
        {
          "name": "stderr",
          "output_type": "stream",
          "text": [
            "Train epoch   2: 100%|██████████| 300/300 [02:43<00:00,  1.84it/s]\n",
            "Val epoch     2: 100%|██████████| 100/100 [01:25<00:00,  1.17it/s]\n"
          ]
        },
        {
          "name": "stdout",
          "output_type": "stream",
          "text": [
            "\n",
            "Accuracy: 98.98%\n",
            "\n"
          ]
        },
        {
          "name": "stderr",
          "output_type": "stream",
          "text": [
            "Train epoch   3: 100%|██████████| 300/300 [02:43<00:00,  1.84it/s]\n",
            "Val epoch     3: 100%|██████████| 100/100 [01:25<00:00,  1.17it/s]\n"
          ]
        },
        {
          "name": "stdout",
          "output_type": "stream",
          "text": [
            "\n",
            "Accuracy: 99.19%\n",
            "\n",
            "========================================\n",
            "\n",
            "Model: ResNet152V1\n",
            "\n"
          ]
        },
        {
          "name": "stderr",
          "output_type": "stream",
          "text": [
            "Downloading: \"https://download.pytorch.org/models/resnet152-394f9c45.pth\" to /root/.cache/torch/hub/checkpoints/resnet152-394f9c45.pth\n",
            "100%|██████████| 230M/230M [00:03<00:00, 77.5MB/s]\n"
          ]
        },
        {
          "name": "stdout",
          "output_type": "stream",
          "text": [
            "\n",
            "Число параметров сети: 58.148 * 10^6\n",
            "Занимают в памяти: 221.817 Мб\n",
            "\n"
          ]
        },
        {
          "name": "stderr",
          "output_type": "stream",
          "text": [
            "Train epoch   1: 100%|██████████| 300/300 [03:51<00:00,  1.30it/s]\n",
            "Val epoch     1: 100%|██████████| 100/100 [01:48<00:00,  1.08s/it]\n"
          ]
        },
        {
          "name": "stdout",
          "output_type": "stream",
          "text": [
            "\n",
            "Accuracy: 99.31%\n",
            "\n"
          ]
        },
        {
          "name": "stderr",
          "output_type": "stream",
          "text": [
            "Train epoch   2: 100%|██████████| 300/300 [03:51<00:00,  1.30it/s]\n",
            "Val epoch     2: 100%|██████████| 100/100 [01:47<00:00,  1.08s/it]\n"
          ]
        },
        {
          "name": "stdout",
          "output_type": "stream",
          "text": [
            "\n",
            "Accuracy: 99.53%\n",
            "\n"
          ]
        },
        {
          "name": "stderr",
          "output_type": "stream",
          "text": [
            "Train epoch   3: 100%|██████████| 300/300 [03:51<00:00,  1.30it/s]\n",
            "Val epoch     3: 100%|██████████| 100/100 [01:48<00:00,  1.08s/it]\n"
          ]
        },
        {
          "name": "stdout",
          "output_type": "stream",
          "text": [
            "\n",
            "Accuracy: 99.55%\n",
            "\n",
            "========================================\n",
            "\n",
            "Model: ResNet152V2\n",
            "\n"
          ]
        },
        {
          "name": "stderr",
          "output_type": "stream",
          "text": [
            "Downloading: \"https://download.pytorch.org/models/resnet152-f82ba261.pth\" to /root/.cache/torch/hub/checkpoints/resnet152-f82ba261.pth\n",
            "100%|██████████| 230M/230M [00:01<00:00, 197MB/s]\n"
          ]
        },
        {
          "name": "stdout",
          "output_type": "stream",
          "text": [
            "\n",
            "Число параметров сети: 58.148 * 10^6\n",
            "Занимают в памяти: 221.817 Мб\n",
            "\n"
          ]
        },
        {
          "name": "stderr",
          "output_type": "stream",
          "text": [
            "Train epoch   1: 100%|██████████| 300/300 [03:49<00:00,  1.31it/s]\n",
            "Val epoch     1: 100%|██████████| 100/100 [01:46<00:00,  1.06s/it]\n"
          ]
        },
        {
          "name": "stdout",
          "output_type": "stream",
          "text": [
            "\n",
            "Accuracy: 98.67%\n",
            "\n"
          ]
        },
        {
          "name": "stderr",
          "output_type": "stream",
          "text": [
            "Train epoch   2: 100%|██████████| 300/300 [03:49<00:00,  1.31it/s]\n",
            "Val epoch     2: 100%|██████████| 100/100 [01:46<00:00,  1.06s/it]\n"
          ]
        },
        {
          "name": "stdout",
          "output_type": "stream",
          "text": [
            "\n",
            "Accuracy: 99.14%\n",
            "\n"
          ]
        },
        {
          "name": "stderr",
          "output_type": "stream",
          "text": [
            "Train epoch   3: 100%|██████████| 300/300 [03:49<00:00,  1.30it/s]\n",
            "Val epoch     3: 100%|██████████| 100/100 [01:46<00:00,  1.07s/it]"
          ]
        },
        {
          "name": "stdout",
          "output_type": "stream",
          "text": [
            "\n",
            "Accuracy: 99.23%\n",
            "\n",
            "========================================\n"
          ]
        },
        {
          "name": "stderr",
          "output_type": "stream",
          "text": [
            "\n"
          ]
        }
      ],
      "source": [
        "device = \"cuda:0\" if torch.cuda.is_available() else \"cpu\"\n",
        "all_names = [\"VGG16\", \"VGG19\", \"ResNet50V1\", \"ResNet50V2\", \"ResNet101V1\", \"ResNet101V2\", \"ResNet152V1\", \"ResNet152V2\"]\n",
        "\n",
        "\n",
        "for name_model in all_names:\n",
        "    \n",
        "    print(f\"\\nModel: {name_model}\\n\")\n",
        "\n",
        "    transform, model = get_transform_model(name_model=name_model)\n",
        "\n",
        "    # вычисление числа параметров модели\n",
        "    number_of_param = 0\n",
        "    for param in model.parameters():\n",
        "        number_of_param += param.numel()\n",
        "    \n",
        "    print(f\"\\nЧисло параметров сети: {number_of_param / 1e6:.3f} * 10^6\")\n",
        "\n",
        "    # параметры в формате float32, т.е. 1 параметр занимает в памяти 32 бита / 4 байта\n",
        "    print(f\"Занимают в памяти: {number_of_param * 4 / (1024 ** 2):.3f} Мб\\n\")\n",
        "\n",
        "    data_train, data_val, val_len = get_batched_data(transform=transform,\n",
        "                                                     train_size=0.75,\n",
        "                                                     batch_size=100,\n",
        "                                                     shuffle=True)\n",
        "\n",
        "    train(model,\n",
        "          data_train=data_train,\n",
        "          data_val=data_val,\n",
        "          val_len=val_len,\n",
        "          device=device,\n",
        "          epochs=3,\n",
        "          lr=0.001)"
      ]
    },
    {
      "cell_type": "markdown",
      "metadata": {
        "id": "NauantitbVX5"
      },
      "source": [
        "## Результаты"
      ]
    },
    {
      "cell_type": "markdown",
      "metadata": {
        "id": "MET5vAAmhdaN"
      },
      "source": [
        "Как видно, все модели, по истечению трёх эпох обучения, достигли точности свыше 99%. (Именно для этих данных)  \n",
        "Так как помимо полносвязного слоя в конце, можно ещё слегка поднастроить веса свёрточных слоёв, то обращать внимание на сотые доли процента не имеет значения.  \n",
        "Время обучения так же не является наиболее важным критерием для моделей, так как модель обучается единожды и потом это не требуется, к тому же все модели обучаются примерно за одно и тоже время.  \n",
        "А вот количество параметров, а следовательно занимаемый объём памяти моделью, на мой взгляд более важный аспект.  \n",
        "Из-за всего вышеперечисленного будем использовать самую легковесную модель - _**VGG16**_ с объёмом в ~ 56 Мб"
      ]
    }
  ],
  "metadata": {
    "accelerator": "GPU",
    "colab": {
      "gpuType": "T4",
      "provenance": []
    },
    "gpuClass": "standard",
    "kernelspec": {
      "display_name": "venv",
      "language": "python",
      "name": "python3"
    },
    "language_info": {
      "codemirror_mode": {
        "name": "ipython",
        "version": 3
      },
      "file_extension": ".py",
      "mimetype": "text/x-python",
      "name": "python",
      "nbconvert_exporter": "python",
      "pygments_lexer": "ipython3",
      "version": "3.10.9"
    },
    "orig_nbformat": 4
  },
  "nbformat": 4,
  "nbformat_minor": 0
}
