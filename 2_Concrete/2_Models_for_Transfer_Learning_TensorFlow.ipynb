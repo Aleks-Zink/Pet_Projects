{
  "cells": [
    {
      "cell_type": "markdown",
      "metadata": {
        "id": "qs-ksqTkBvIJ"
      },
      "source": [
        "# Выбор модели для последующего трансферного обучения в TensorFlow"
      ]
    },
    {
      "cell_type": "markdown",
      "metadata": {
        "id": "hVdyUYzUluLp"
      },
      "source": [
        "## Задача"
      ]
    },
    {
      "cell_type": "markdown",
      "metadata": {
        "id": "eDxOdh9DBvIM"
      },
      "source": [
        "Выбрать оптимальную модель, предварительно обученную на наборе данных *ImageNet*: *VGG16*, *VGG19*, *ResNet50V1*, *ResNet50V2*, *ResNet101V1*, *ResNet101V2*, *ResNet152V1*, *ResNet152V2*."
      ]
    },
    {
      "cell_type": "markdown",
      "metadata": {
        "id": "ii0O8OTlluLr"
      },
      "source": [
        "## Данные"
      ]
    },
    {
      "cell_type": "markdown",
      "metadata": {
        "id": "UCsb7pgZBvIL"
      },
      "source": [
        "40 000 цветных картинок бетона размером 227x227 пикселей, 20 000 из которых с стрещиной, другие 20 000 целый  \n",
        "Данные взяты из курса [AI Capstone Project with Deep Learning](https://www.coursera.org/learn/ai-deep-learning-capstone?specialization=ai-engineer), явлюющийся заключительным курсом [IBM AI Engineering Professional Certificate](https://www.coursera.org/professional-certificates/ai-engineer) на сайте [coursera.org](https://www.coursera.org/)  \n",
        "[Данные](https://s3-api.us-geo.objectstorage.softlayer.net/cf-courses-data/CognitiveClass/DL0321EN/data/images/concrete_crack_images_for_classification.zip)  "
      ]
    },
    {
      "cell_type": "code",
      "execution_count": 1,
      "metadata": {
        "colab": {
          "base_uri": "https://localhost:8080/"
        },
        "id": "yxXjh-r6lx7r",
        "outputId": "b6461b80-3a2c-49c6-e5e4-239b2369517e"
      },
      "outputs": [
        {
          "name": "stdout",
          "output_type": "stream",
          "text": [
            "--2023-04-28 16:00:47--  https://s3-api.us-geo.objectstorage.softlayer.net/cf-courses-data/CognitiveClass/DL0321EN/data/images/concrete_crack_images_for_classification.zip\n",
            "Resolving s3-api.us-geo.objectstorage.softlayer.net (s3-api.us-geo.objectstorage.softlayer.net)... 67.228.254.196\n",
            "Connecting to s3-api.us-geo.objectstorage.softlayer.net (s3-api.us-geo.objectstorage.softlayer.net)|67.228.254.196|:443... connected.\n",
            "HTTP request sent, awaiting response... 200 OK\n",
            "Length: 245259777 (234M) [application/zip]\n",
            "Saving to: ‘concrete_crack_images_for_classification.zip’\n",
            "\n",
            "concrete_crack_imag 100%[===================>] 233.90M  34.5MB/s    in 7.4s    \n",
            "\n",
            "2023-04-28 16:00:56 (31.6 MB/s) - ‘concrete_crack_images_for_classification.zip’ saved [245259777/245259777]\n",
            "\n"
          ]
        }
      ],
      "source": [
        "!wget https://s3-api.us-geo.objectstorage.softlayer.net/cf-courses-data/CognitiveClass/DL0321EN/data/images/concrete_crack_images_for_classification.zip"
      ]
    },
    {
      "cell_type": "code",
      "execution_count": 2,
      "metadata": {
        "id": "KhH2wHgGlyHP"
      },
      "outputs": [],
      "source": [
        "!mkdir ./data\n",
        "!mkdir ./data/concrete\n",
        "!mkdir ./models"
      ]
    },
    {
      "cell_type": "code",
      "execution_count": null,
      "metadata": {
        "id": "ICb-Us0nlyQm"
      },
      "outputs": [],
      "source": [
        "!unzip concrete_crack_images_for_classification.zip -d ./data/concrete"
      ]
    },
    {
      "cell_type": "markdown",
      "metadata": {
        "id": "pmyXw4YuluLt"
      },
      "source": [
        "## Расчёты"
      ]
    },
    {
      "cell_type": "code",
      "execution_count": 4,
      "metadata": {
        "id": "ogsU4QvoBvIN"
      },
      "outputs": [],
      "source": [
        "import tensorflow as tf\n",
        "from tensorflow.keras.utils import image_dataset_from_directory\n",
        "from tensorflow.keras.applications import vgg16, vgg19, resnet50, resnet, resnet_v2\n",
        "from tensorflow.keras.layers import Dense"
      ]
    },
    {
      "cell_type": "code",
      "execution_count": 5,
      "metadata": {
        "id": "tvEmjnQZBvIP"
      },
      "outputs": [],
      "source": [
        "def get_model(name_model=\"VGG16\"):\n",
        "    \n",
        "    # входной слой модели\n",
        "    i = tf.keras.layers.Input([None, None, 3], dtype = tf.uint8)\n",
        "    x = tf.cast(i, tf.float32)\n",
        "\n",
        "    # инициализация модели, с включённым преобразование данных, и её весов\n",
        "    if name_model == \"VGG16\":\n",
        "\n",
        "        x = vgg16.preprocess_input(x)\n",
        "        x = vgg16.VGG16(include_top=False,\n",
        "                        weights=\"imagenet\",\n",
        "                        pooling=\"avg\")(x)\n",
        "        \n",
        "    \n",
        "    elif name_model == \"VGG19\":\n",
        "\n",
        "        x = vgg19.preprocess_input(x)\n",
        "        x = vgg19.VGG19(include_top=False,\n",
        "                        weights=\"imagenet\",\n",
        "                        pooling=\"avg\")(x)\n",
        "    \n",
        "    elif name_model == \"ResNet50V1\":\n",
        "\n",
        "        x = resnet50.preprocess_input(x)\n",
        "        x = resnet50.ResNet50(include_top=False,\n",
        "                              weights=\"imagenet\",\n",
        "                              pooling=\"avg\")(x)\n",
        "\n",
        "    elif name_model == \"ResNet50V2\":\n",
        "\n",
        "        x = resnet_v2.preprocess_input(x)\n",
        "        x = resnet_v2.ResNet50V2(include_top=False,\n",
        "                                 weights=\"imagenet\",\n",
        "                                 pooling=\"avg\")(x)\n",
        "\n",
        "    elif name_model == \"ResNet101V1\":\n",
        "        \n",
        "        x = resnet.preprocess_input(x)\n",
        "        x = resnet.ResNet101(include_top=False,\n",
        "                             weights=\"imagenet\",\n",
        "                             pooling=\"avg\")(x)\n",
        "\n",
        "    elif name_model == \"ResNet101V2\":\n",
        "        \n",
        "        x = resnet_v2.preprocess_input(x)\n",
        "        x = resnet_v2.ResNet101V2(include_top=False,\n",
        "                                  weights=\"imagenet\",\n",
        "                                  pooling=\"avg\")(x)\n",
        "\n",
        "    elif name_model == \"ResNet152V1\":\n",
        "        \n",
        "        x = resnet.preprocess_input(x)\n",
        "        x = resnet.ResNet152(include_top=False,\n",
        "                             weights=\"imagenet\",\n",
        "                             pooling=\"avg\")(x)\n",
        "\n",
        "    elif name_model == \"ResNet152V2\":\n",
        "        \n",
        "        x = resnet_v2.preprocess_input(x)\n",
        "        x = resnet_v2.ResNet152V2(include_top=False,\n",
        "                                  weights=\"imagenet\",\n",
        "                                  pooling=\"avg\")(x)\n",
        "    \n",
        "    # добавление полносвязного слоя\n",
        "    x = Dense(units=2, activation=\"softmax\")(x)\n",
        "\n",
        "    # создание модели\n",
        "    model = tf.keras.Model(inputs=i, outputs=x, name=name_model)\n",
        "\n",
        "    # заморозка весов свёрточной модели\n",
        "    model.layers[-2].trainable = False\n",
        "\n",
        "    return model"
      ]
    },
    {
      "cell_type": "code",
      "execution_count": 6,
      "metadata": {
        "colab": {
          "base_uri": "https://localhost:8080/"
        },
        "id": "EIU5saceBvIQ",
        "outputId": "db9f635d-5f15-42d0-ee09-511329fb6f16"
      },
      "outputs": [
        {
          "name": "stdout",
          "output_type": "stream",
          "text": [
            "Found 40000 files belonging to 2 classes.\n",
            "Using 30000 files for training.\n",
            "Using 10000 files for validation.\n"
          ]
        }
      ],
      "source": [
        "# загрузка пакетированных данных для теста и валидации\n",
        "train_data, val_data = image_dataset_from_directory(directory=\"./data/concrete\",\n",
        "                                                    label_mode=\"categorical\",\n",
        "                                                    batch_size=100,\n",
        "                                                    image_size=(224,224),\n",
        "                                                    shuffle=True,\n",
        "                                                    seed=0,\n",
        "                                                    validation_split=0.25,\n",
        "                                                    subset=\"both\",\n",
        "                                                    interpolation=\"bilinear\")"
      ]
    },
    {
      "cell_type": "code",
      "execution_count": 7,
      "metadata": {
        "colab": {
          "base_uri": "https://localhost:8080/"
        },
        "id": "nQ3pNkarBvIS",
        "outputId": "b03cb568-2fac-4cd4-89e4-1109f5a228df"
      },
      "outputs": [
        {
          "name": "stdout",
          "output_type": "stream",
          "text": [
            "\n",
            "Model : VGG16\n",
            "\n",
            "Downloading data from https://storage.googleapis.com/tensorflow/keras-applications/vgg16/vgg16_weights_tf_dim_ordering_tf_kernels_notop.h5\n",
            "58889256/58889256 [==============================] - 2s 0us/step\n",
            "\n",
            "Число параметров сети: 14.716 * 10^6\n",
            "Занимают в памяти: 56.136 Мб\n",
            "\n",
            "Epoch 1/3\n",
            "300/300 [==============================] - 188s 559ms/step - loss: 0.0701 - accuracy: 0.9786 - val_loss: 0.0232 - val_accuracy: 0.9938\n",
            "Epoch 2/3\n",
            "300/300 [==============================] - 216s 720ms/step - loss: 0.0163 - accuracy: 0.9964 - val_loss: 0.0148 - val_accuracy: 0.9954\n",
            "Epoch 3/3\n",
            "300/300 [==============================] - 174s 579ms/step - loss: 0.0111 - accuracy: 0.9973 - val_loss: 0.0112 - val_accuracy: 0.9965\n",
            "\n",
            "========================================\n",
            "\n",
            "Model : VGG19\n",
            "\n",
            "Downloading data from https://storage.googleapis.com/tensorflow/keras-applications/vgg19/vgg19_weights_tf_dim_ordering_tf_kernels_notop.h5\n",
            "80134624/80134624 [==============================] - 3s 0us/step\n",
            "\n",
            "Число параметров сети: 20.025 * 10^6\n",
            "Занимают в памяти: 76.391 Мб\n",
            "\n",
            "Epoch 1/3\n",
            "300/300 [==============================] - 247s 818ms/step - loss: 0.1214 - accuracy: 0.9590 - val_loss: 0.0223 - val_accuracy: 0.9959\n",
            "Epoch 2/3\n",
            "300/300 [==============================] - 220s 731ms/step - loss: 0.0166 - accuracy: 0.9965 - val_loss: 0.0126 - val_accuracy: 0.9978\n",
            "Epoch 3/3\n",
            "300/300 [==============================] - 224s 745ms/step - loss: 0.0108 - accuracy: 0.9978 - val_loss: 0.0092 - val_accuracy: 0.9984\n",
            "\n",
            "========================================\n",
            "\n",
            "Model : ResNet50V1\n",
            "\n",
            "Downloading data from https://storage.googleapis.com/tensorflow/keras-applications/resnet/resnet50_weights_tf_dim_ordering_tf_kernels_notop.h5\n",
            "94765736/94765736 [==============================] - 4s 0us/step\n",
            "\n",
            "Число параметров сети: 23.592 * 10^6\n",
            "Занимают в памяти: 89.996 Мб\n",
            "\n",
            "Epoch 1/3\n",
            "300/300 [==============================] - 133s 420ms/step - loss: 0.0229 - accuracy: 0.9928 - val_loss: 0.0077 - val_accuracy: 0.9979\n",
            "Epoch 2/3\n",
            "300/300 [==============================] - 126s 419ms/step - loss: 0.0049 - accuracy: 0.9987 - val_loss: 0.0056 - val_accuracy: 0.9985\n",
            "Epoch 3/3\n",
            "300/300 [==============================] - 137s 454ms/step - loss: 0.0037 - accuracy: 0.9993 - val_loss: 0.0048 - val_accuracy: 0.9990\n",
            "\n",
            "========================================\n",
            "\n",
            "Model : ResNet50V2\n",
            "\n",
            "Downloading data from https://storage.googleapis.com/tensorflow/keras-applications/resnet/resnet50v2_weights_tf_dim_ordering_tf_kernels_notop.h5\n",
            "94668760/94668760 [==============================] - 3s 0us/step\n",
            "\n",
            "Число параметров сети: 23.569 * 10^6\n",
            "Занимают в памяти: 89.908 Мб\n",
            "\n",
            "Epoch 1/3\n",
            "300/300 [==============================] - 117s 370ms/step - loss: 0.0405 - accuracy: 0.9886 - val_loss: 0.0121 - val_accuracy: 0.9969\n",
            "Epoch 2/3\n",
            "300/300 [==============================] - 112s 371ms/step - loss: 0.0080 - accuracy: 0.9982 - val_loss: 0.0079 - val_accuracy: 0.9978\n",
            "Epoch 3/3\n",
            "300/300 [==============================] - 113s 374ms/step - loss: 0.0054 - accuracy: 0.9987 - val_loss: 0.0066 - val_accuracy: 0.9978\n",
            "\n",
            "========================================\n",
            "\n",
            "Model : ResNet101V1\n",
            "\n",
            "Downloading data from https://storage.googleapis.com/tensorflow/keras-applications/resnet/resnet101_weights_tf_dim_ordering_tf_kernels_notop.h5\n",
            "171446536/171446536 [==============================] - 7s 0us/step\n",
            "\n",
            "Число параметров сети: 42.662 * 10^6\n",
            "Занимают в памяти: 162.744 Мб\n",
            "\n",
            "Epoch 1/3\n",
            "300/300 [==============================] - 215s 695ms/step - loss: 0.0300 - accuracy: 0.9891 - val_loss: 0.0081 - val_accuracy: 0.9974\n",
            "Epoch 2/3\n",
            "300/300 [==============================] - 210s 697ms/step - loss: 0.0052 - accuracy: 0.9987 - val_loss: 0.0058 - val_accuracy: 0.9979\n",
            "Epoch 3/3\n",
            "300/300 [==============================] - 210s 698ms/step - loss: 0.0036 - accuracy: 0.9991 - val_loss: 0.0047 - val_accuracy: 0.9984\n",
            "\n",
            "========================================\n",
            "\n",
            "Model : ResNet101V2\n",
            "\n",
            "Downloading data from https://storage.googleapis.com/tensorflow/keras-applications/resnet/resnet101v2_weights_tf_dim_ordering_tf_kernels_notop.h5\n",
            "171317808/171317808 [==============================] - 5s 0us/step\n",
            "\n",
            "Число параметров сети: 42.631 * 10^6\n",
            "Занимают в памяти: 162.623 Мб\n",
            "\n",
            "Epoch 1/3\n",
            "300/300 [==============================] - 195s 627ms/step - loss: 0.0454 - accuracy: 0.9850 - val_loss: 0.0150 - val_accuracy: 0.9964\n",
            "Epoch 2/3\n",
            "300/300 [==============================] - 228s 758ms/step - loss: 0.0090 - accuracy: 0.9977 - val_loss: 0.0114 - val_accuracy: 0.9962\n",
            "Epoch 3/3\n",
            "300/300 [==============================] - 192s 634ms/step - loss: 0.0062 - accuracy: 0.9984 - val_loss: 0.0102 - val_accuracy: 0.9968\n",
            "\n",
            "========================================\n",
            "\n",
            "Model : ResNet152V1\n",
            "\n",
            "Downloading data from https://storage.googleapis.com/tensorflow/keras-applications/resnet/resnet152_weights_tf_dim_ordering_tf_kernels_notop.h5\n",
            "234698864/234698864 [==============================] - 9s 0us/step\n",
            "\n",
            "Число параметров сети: 58.375 * 10^6\n",
            "Занимают в памяти: 222.683 Мб\n",
            "\n",
            "Epoch 1/3\n",
            "300/300 [==============================] - 301s 971ms/step - loss: 0.0403 - accuracy: 0.9850 - val_loss: 0.0094 - val_accuracy: 0.9975\n",
            "Epoch 2/3\n",
            "300/300 [==============================] - 295s 981ms/step - loss: 0.0067 - accuracy: 0.9985 - val_loss: 0.0062 - val_accuracy: 0.9982\n",
            "Epoch 3/3\n",
            "300/300 [==============================] - 290s 965ms/step - loss: 0.0047 - accuracy: 0.9990 - val_loss: 0.0050 - val_accuracy: 0.9986\n",
            "\n",
            "========================================\n",
            "\n",
            "Model : ResNet152V2\n",
            "\n",
            "Downloading data from https://storage.googleapis.com/tensorflow/keras-applications/resnet/resnet152v2_weights_tf_dim_ordering_tf_kernels_notop.h5\n",
            "234545216/234545216 [==============================] - 9s 0us/step\n",
            "\n",
            "Число параметров сети: 58.336 * 10^6\n",
            "Занимают в памяти: 222.533 Мб\n",
            "\n",
            "Epoch 1/3\n",
            "300/300 [==============================] - 301s 973ms/step - loss: 0.0411 - accuracy: 0.9898 - val_loss: 0.0133 - val_accuracy: 0.9973\n",
            "Epoch 2/3\n",
            "300/300 [==============================] - 279s 929ms/step - loss: 0.0092 - accuracy: 0.9977 - val_loss: 0.0089 - val_accuracy: 0.9977\n",
            "Epoch 3/3\n",
            "300/300 [==============================] - 281s 935ms/step - loss: 0.0063 - accuracy: 0.9986 - val_loss: 0.0074 - val_accuracy: 0.9975\n",
            "\n",
            "========================================\n"
          ]
        }
      ],
      "source": [
        "all_names = [\"VGG16\", \"VGG19\", \"ResNet50V1\", \"ResNet50V2\", \"ResNet101V1\", \"ResNet101V2\", \"ResNet152V1\", \"ResNet152V2\"]\n",
        "\n",
        "for name in all_names:\n",
        "\n",
        "    print(f\"\\nModel : {name}\\n\")\n",
        "\n",
        "    # создание модели\n",
        "    model = get_model(name)\n",
        "\n",
        "    # установление оптимизатора, функции ошибки и метрики\n",
        "    model.compile(optimizer=tf.keras.optimizers.Adam(learning_rate=0.001),\n",
        "                  loss=\"categorical_crossentropy\",\n",
        "                  metrics=['accuracy'])\n",
        "    \n",
        "    print(f\"\\nЧисло параметров сети: {model.count_params() / 1e6:.3f} * 10^6\")\n",
        "\n",
        "    # параметры в формате float32, т.е. 1 параметр занимает в памяти 32 бита / 4 байта\n",
        "    print(f\"Занимают в памяти: {model.count_params() * 4 / (1024 ** 2):.3f} Мб\\n\")\n",
        "\n",
        "    # обучение модели\n",
        "    model.fit(train_data, epochs=3, validation_data=val_data)\n",
        "    print(\"\\n\"+\"=\"*40)"
      ]
    },
    {
      "cell_type": "markdown",
      "metadata": {
        "id": "2vWWh28MluL1"
      },
      "source": [
        "## Результаты"
      ]
    },
    {
      "cell_type": "markdown",
      "metadata": {
        "id": "39hmjU85Xb-0"
      },
      "source": [
        "Как видно, все модели, по истечению трёх эпох обучения, достигли точности свыше 99%. (Именно для этих данных)  \n",
        "Так как помимо полносвязного слоя в конце, можно ещё слегка поднастроить веса свёрточных слоёв, то обращать внимание на сотые доли процента не имеет значения.  \n",
        "Время обучения так же не является наиболее важным критерием для моделей, так как модель обучается единожды и потом это не требуется, к тому же все модели обучаются примерно за одно и тоже время.  \n",
        "А вот количество параметров, а следовательно занимаемый объём памяти моделью, на мой взгляд более важный аспект.  \n",
        "Из-за всего вышеперечисленного будем использовать самую легковесную модель - _**VGG16**_ с объёмом в ~ 56 Мб"
      ]
    }
  ],
  "metadata": {
    "accelerator": "GPU",
    "colab": {
      "gpuType": "T4",
      "provenance": []
    },
    "gpuClass": "standard",
    "kernelspec": {
      "display_name": "venv",
      "language": "python",
      "name": "python3"
    },
    "language_info": {
      "codemirror_mode": {
        "name": "ipython",
        "version": 3
      },
      "file_extension": ".py",
      "mimetype": "text/x-python",
      "name": "python",
      "nbconvert_exporter": "python",
      "pygments_lexer": "ipython3",
      "version": "3.10.9"
    },
    "orig_nbformat": 4
  },
  "nbformat": 4,
  "nbformat_minor": 0
}
