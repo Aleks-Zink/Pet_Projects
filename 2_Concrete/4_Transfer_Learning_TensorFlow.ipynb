{
  "cells": [
    {
      "cell_type": "markdown",
      "metadata": {
        "id": "dKvN3Tdix2x3"
      },
      "source": [
        "# Трансферное обучение в TensorFlow"
      ]
    },
    {
      "cell_type": "markdown",
      "metadata": {
        "id": "ibngaY3_x2yA"
      },
      "source": [
        "## Задача"
      ]
    },
    {
      "cell_type": "markdown",
      "metadata": {
        "id": "PacVgS_Rx2yC"
      },
      "source": [
        "Создать свёрточную модель трансферного обучения для классификации бетона с трещиной (Positive mark) и бетона без трещины (Negative mark)  \n",
        "Как было показано в [2_Models_for_Transfer_Learning_TensorFlow.ipynb](https://github.com/Aleks-Zink/Pet_Projects/blob/main/2_Concrete/2_Models_for_Transfer_Learning_TensorFlow.ipynb), за основу будет взята модель VGG16"
      ]
    },
    {
      "cell_type": "markdown",
      "metadata": {
        "id": "8S1eVGmFx2yD"
      },
      "source": [
        "## Данные"
      ]
    },
    {
      "cell_type": "markdown",
      "metadata": {
        "id": "1JkaXOUUx2yD"
      },
      "source": [
        "40 000 цветных картинок бетона размером 227x227 пикселей, 20 000 из которых с стрещиной, другие 20 000 целый  \n",
        "Данные взяты из курса [AI Capstone Project with Deep Learning](https://www.coursera.org/learn/ai-deep-learning-capstone?specialization=ai-engineer), явлюющийся заключительным курсом [IBM AI Engineering Professional Certificate](https://www.coursera.org/professional-certificates/ai-engineer) на сайте [coursera.org](https://www.coursera.org/)  \n",
        "[Данные](https://s3-api.us-geo.objectstorage.softlayer.net/cf-courses-data/CognitiveClass/DL0321EN/data/images/concrete_crack_images_for_classification.zip) "
      ]
    },
    {
      "cell_type": "code",
      "execution_count": 1,
      "metadata": {
        "colab": {
          "base_uri": "https://localhost:8080/"
        },
        "id": "vvWWhMAadm24",
        "outputId": "d187cc6d-27ac-43d3-d5b4-59be18ce32d6"
      },
      "outputs": [
        {
          "name": "stdout",
          "output_type": "stream",
          "text": [
            "--2023-04-28 15:24:45--  https://s3-api.us-geo.objectstorage.softlayer.net/cf-courses-data/CognitiveClass/DL0321EN/data/images/concrete_crack_images_for_classification.zip\n",
            "Resolving s3-api.us-geo.objectstorage.softlayer.net (s3-api.us-geo.objectstorage.softlayer.net)... 67.228.254.196\n",
            "Connecting to s3-api.us-geo.objectstorage.softlayer.net (s3-api.us-geo.objectstorage.softlayer.net)|67.228.254.196|:443... connected.\n",
            "HTTP request sent, awaiting response... 200 OK\n",
            "Length: 245259777 (234M) [application/zip]\n",
            "Saving to: ‘concrete_crack_images_for_classification.zip’\n",
            "\n",
            "concrete_crack_imag 100%[===================>] 233.90M  31.6MB/s    in 7.2s    \n",
            "\n",
            "2023-04-28 15:24:53 (32.4 MB/s) - ‘concrete_crack_images_for_classification.zip’ saved [245259777/245259777]\n",
            "\n"
          ]
        }
      ],
      "source": [
        "!wget https://s3-api.us-geo.objectstorage.softlayer.net/cf-courses-data/CognitiveClass/DL0321EN/data/images/concrete_crack_images_for_classification.zip"
      ]
    },
    {
      "cell_type": "code",
      "execution_count": 2,
      "metadata": {
        "id": "6WeCWwzcdnNy"
      },
      "outputs": [],
      "source": [
        "!mkdir ./data\n",
        "!mkdir ./data/concrete\n",
        "!mkdir ./models"
      ]
    },
    {
      "cell_type": "code",
      "execution_count": null,
      "metadata": {
        "id": "_uO8_y2UdnWf"
      },
      "outputs": [],
      "source": [
        "!unzip concrete_crack_images_for_classification.zip -d ./data/concrete"
      ]
    },
    {
      "cell_type": "markdown",
      "metadata": {
        "id": "juSw7jIsx2yE"
      },
      "source": [
        "## Расчёты"
      ]
    },
    {
      "cell_type": "code",
      "execution_count": 4,
      "metadata": {
        "id": "6pTI2Wwwx2yE"
      },
      "outputs": [],
      "source": [
        "import tensorflow as tf\n",
        "from tensorflow.keras.utils import image_dataset_from_directory\n",
        "from tensorflow.keras.applications import vgg16\n",
        "from tensorflow.keras.layers import Dense"
      ]
    },
    {
      "cell_type": "code",
      "execution_count": 5,
      "metadata": {
        "id": "VzrfjmW0x2yN"
      },
      "outputs": [],
      "source": [
        "# функция обучения модели\n",
        "def train(model, train_data, val_data, lr=1e-3, epochs=3, save_model=False):\n",
        "    # установление оптимизатора, функции ошибки и метрики\n",
        "    model.compile(optimizer=tf.keras.optimizers.Adam(learning_rate=lr),\n",
        "                  loss=\"categorical_crossentropy\",\n",
        "                  metrics=['accuracy'])\n",
        "\n",
        "    # если save_model=True сохранаяет модель с наилучшей точностью на валидационных данных\n",
        "    callbacks = None if not save_model else tf.keras.callbacks.ModelCheckpoint(filepath=\"./models/VGG16_for_Concrete_TensorFlow\",\n",
        "                                                                               monitor=\"val_accuracy\",\n",
        "                                                                               save_best_only=True,\n",
        "                                                                               mode='max')\n",
        "\n",
        "    # обучение модели\n",
        "    model.fit(train_data, epochs=epochs, validation_data=val_data, callbacks=callbacks)"
      ]
    },
    {
      "cell_type": "code",
      "execution_count": 6,
      "metadata": {
        "colab": {
          "base_uri": "https://localhost:8080/"
        },
        "id": "7FAEVPkZx2yP",
        "outputId": "be098018-847d-4822-d327-b0ec8ac0058d"
      },
      "outputs": [
        {
          "name": "stdout",
          "output_type": "stream",
          "text": [
            "Downloading data from https://storage.googleapis.com/tensorflow/keras-applications/vgg16/vgg16_weights_tf_dim_ordering_tf_kernels_notop.h5\n",
            "58889256/58889256 [==============================] - 0s 0us/step\n",
            "Model: \"VGG16\"\n",
            "_________________________________________________________________\n",
            " Layer (type)                Output Shape              Param #   \n",
            "=================================================================\n",
            " input_1 (InputLayer)        [(None, None, None, 3)]   0         \n",
            "                                                                 \n",
            " tf.cast (TFOpLambda)        (None, None, None, 3)     0         \n",
            "                                                                 \n",
            " tf.__operators__.getitem (S  (None, None, None, 3)    0         \n",
            " licingOpLambda)                                                 \n",
            "                                                                 \n",
            " tf.nn.bias_add (TFOpLambda)  (None, None, None, 3)    0         \n",
            "                                                                 \n",
            " vgg16 (Functional)          (None, 512)               14714688  \n",
            "                                                                 \n",
            " dense (Dense)               (None, 2)                 1026      \n",
            "                                                                 \n",
            "=================================================================\n",
            "Total params: 14,715,714\n",
            "Trainable params: 1,026\n",
            "Non-trainable params: 14,714,688\n",
            "_________________________________________________________________\n"
          ]
        }
      ],
      "source": [
        "# инициализация модели\n",
        "\n",
        "# входной слой модели\n",
        "i = tf.keras.layers.Input([None, None, 3], dtype = tf.uint8)\n",
        "x = tf.cast(i, tf.float32)\n",
        "\n",
        "# преобразование данных для данной модели\n",
        "x = vgg16.preprocess_input(x)\n",
        "\n",
        "# загрузка предворительно обученной свёрточной модели без полносвязного слоя в конце\n",
        "x = vgg16.VGG16(include_top=False,\n",
        "                weights=\"imagenet\",\n",
        "                pooling=\"avg\")(x)\n",
        "\n",
        "# добавление полносвязного слоя\n",
        "x = Dense(units=2, activation=\"softmax\")(x)\n",
        "\n",
        "# создание модели\n",
        "model = tf.keras.Model(inputs=i, outputs=x, name=\"VGG16\")\n",
        "\n",
        "# заморозка весов свёрточной модели\n",
        "model.layers[-2].trainable = False\n",
        "\n",
        "model.summary()"
      ]
    },
    {
      "cell_type": "code",
      "execution_count": 7,
      "metadata": {
        "colab": {
          "base_uri": "https://localhost:8080/"
        },
        "id": "pOOgrMpDx2yX",
        "outputId": "752e5af5-328e-42e3-e78f-e3211ed56615"
      },
      "outputs": [
        {
          "name": "stdout",
          "output_type": "stream",
          "text": [
            "Found 40000 files belonging to 2 classes.\n",
            "Using 30000 files for training.\n",
            "Using 10000 files for validation.\n"
          ]
        }
      ],
      "source": [
        "# загрузка пакетированных данных для теста и валидации\n",
        "train_data, val_data = image_dataset_from_directory(directory=\"./data/concrete\",\n",
        "                                                    label_mode=\"categorical\",\n",
        "                                                    batch_size=100,\n",
        "                                                    image_size=(224,224),\n",
        "                                                    shuffle=True,\n",
        "                                                    seed=0,\n",
        "                                                    validation_split=0.25,\n",
        "                                                    subset=\"both\",\n",
        "                                                    interpolation=\"bilinear\")"
      ]
    },
    {
      "cell_type": "code",
      "execution_count": 8,
      "metadata": {
        "colab": {
          "base_uri": "https://localhost:8080/"
        },
        "id": "PXH-oxDZx2yY",
        "outputId": "27a60c42-8610-46c5-ced8-da2096a681be"
      },
      "outputs": [
        {
          "name": "stdout",
          "output_type": "stream",
          "text": [
            "Epoch 1/3\n",
            "300/300 [==============================] - 184s 547ms/step - loss: 0.1253 - accuracy: 0.9556 - val_loss: 0.0291 - val_accuracy: 0.9928\n",
            "Epoch 2/3\n",
            "300/300 [==============================] - 174s 577ms/step - loss: 0.0207 - accuracy: 0.9956 - val_loss: 0.0171 - val_accuracy: 0.9951\n",
            "Epoch 3/3\n",
            "300/300 [==============================] - 178s 591ms/step - loss: 0.0134 - accuracy: 0.9968 - val_loss: 0.0128 - val_accuracy: 0.9963\n"
          ]
        }
      ],
      "source": [
        "# обучение модели\n",
        "train(model=model, train_data=train_data, val_data=val_data, lr=1e-3, epochs=3, save_model=False)"
      ]
    },
    {
      "cell_type": "markdown",
      "metadata": {
        "id": "F54QI5yWx2yZ"
      },
      "source": [
        "Для повышения точности разморозим все веса модели и дообучим всю модель с уменьшенной скоростью, для подстраивания свёрточных слоёв под наши данные"
      ]
    },
    {
      "cell_type": "code",
      "execution_count": 9,
      "metadata": {
        "colab": {
          "base_uri": "https://localhost:8080/"
        },
        "id": "SZs5ZHvXx2yZ",
        "outputId": "b0e191c7-9c2a-4294-88f7-510f257b099a"
      },
      "outputs": [
        {
          "name": "stdout",
          "output_type": "stream",
          "text": [
            "Model: \"VGG16\"\n",
            "_________________________________________________________________\n",
            " Layer (type)                Output Shape              Param #   \n",
            "=================================================================\n",
            " input_1 (InputLayer)        [(None, None, None, 3)]   0         \n",
            "                                                                 \n",
            " tf.cast (TFOpLambda)        (None, None, None, 3)     0         \n",
            "                                                                 \n",
            " tf.__operators__.getitem (S  (None, None, None, 3)    0         \n",
            " licingOpLambda)                                                 \n",
            "                                                                 \n",
            " tf.nn.bias_add (TFOpLambda)  (None, None, None, 3)    0         \n",
            "                                                                 \n",
            " vgg16 (Functional)          (None, 512)               14714688  \n",
            "                                                                 \n",
            " dense (Dense)               (None, 2)                 1026      \n",
            "                                                                 \n",
            "=================================================================\n",
            "Total params: 14,715,714\n",
            "Trainable params: 14,715,714\n",
            "Non-trainable params: 0\n",
            "_________________________________________________________________\n"
          ]
        }
      ],
      "source": [
        "# разморозка весов\n",
        "model.trainable = True\n",
        "\n",
        "model.summary()"
      ]
    },
    {
      "cell_type": "code",
      "execution_count": 10,
      "metadata": {
        "colab": {
          "base_uri": "https://localhost:8080/"
        },
        "id": "mFk8PUNyx2ya",
        "outputId": "10b09860-a900-428e-95dd-bcee4ae494c6"
      },
      "outputs": [
        {
          "name": "stdout",
          "output_type": "stream",
          "text": [
            "Epoch 1/3\n",
            "300/300 [==============================] - ETA: 0s - loss: 0.0748 - accuracy: 0.9921"
          ]
        },
        {
          "name": "stderr",
          "output_type": "stream",
          "text": [
            "WARNING:absl:Found untraced functions such as _jit_compiled_convolution_op, _jit_compiled_convolution_op, _jit_compiled_convolution_op, _jit_compiled_convolution_op, _jit_compiled_convolution_op while saving (showing 5 of 13). These functions will not be directly callable after loading.\n"
          ]
        },
        {
          "name": "stdout",
          "output_type": "stream",
          "text": [
            "\b\b\b\b\b\b\b\b\b\b\b\b\b\b\b\b\b\b\b\b\b\b\b\b\b\b\b\b\b\b\b\b\b\b\b\b\b\b\b\b\b\b\b\b\b\b\b\b\b\b\b\b\b\b\b\b\b\b\b\b\b\b\b\b\b\b\b\b\b\b\b\b\b\b\b\b\b\b\b\b\b\b\b\b\r300/300 [==============================] - 470s 1s/step - loss: 0.0748 - accuracy: 0.9921 - val_loss: 0.0088 - val_accuracy: 0.9978\n",
            "Epoch 2/3\n",
            "300/300 [==============================] - ETA: 0s - loss: 0.0076 - accuracy: 0.9977"
          ]
        },
        {
          "name": "stderr",
          "output_type": "stream",
          "text": [
            "WARNING:absl:Found untraced functions such as _jit_compiled_convolution_op, _jit_compiled_convolution_op, _jit_compiled_convolution_op, _jit_compiled_convolution_op, _jit_compiled_convolution_op while saving (showing 5 of 13). These functions will not be directly callable after loading.\n"
          ]
        },
        {
          "name": "stdout",
          "output_type": "stream",
          "text": [
            "\b\b\b\b\b\b\b\b\b\b\b\b\b\b\b\b\b\b\b\b\b\b\b\b\b\b\b\b\b\b\b\b\b\b\b\b\b\b\b\b\b\b\b\b\b\b\b\b\b\b\b\b\b\b\b\b\b\b\b\b\b\b\b\b\b\b\b\b\b\b\b\b\b\b\b\b\b\b\b\b\b\b\b\b\r300/300 [==============================] - 440s 1s/step - loss: 0.0076 - accuracy: 0.9977 - val_loss: 0.0066 - val_accuracy: 0.9983\n",
            "Epoch 3/3\n",
            "300/300 [==============================] - 438s 1s/step - loss: 0.0058 - accuracy: 0.9987 - val_loss: 0.0076 - val_accuracy: 0.9980\n"
          ]
        }
      ],
      "source": [
        "# обучение модели c уменьшенной скоростью обучения\n",
        "train(model=model, train_data=train_data, val_data=val_data, lr=1e-4, epochs=3, save_model=True)"
      ]
    },
    {
      "cell_type": "code",
      "execution_count": 11,
      "metadata": {
        "colab": {
          "base_uri": "https://localhost:8080/"
        },
        "id": "jiA6YdlTx2ya",
        "outputId": "b98de409-49ec-4d69-9b5d-6e9485558389"
      },
      "outputs": [
        {
          "name": "stdout",
          "output_type": "stream",
          "text": [
            "100/100 [==============================] - 44s 438ms/step - loss: 0.0066 - accuracy: 0.9983\n",
            "Получаем модель с:\n",
            "\tОбъёмом 56.14 Мб\n",
            "\tТочностью 99.83%\n"
          ]
        }
      ],
      "source": [
        "# загружаем модель с наилучшей точностью\n",
        "model = tf.keras.models.load_model('./models/VGG16_for_Concrete_TensorFlow')\n",
        "\n",
        "print(f\"Получаем модель с:\\n\\tОбъёмом {model.count_params() * 4 / (1024 ** 2):.2f} Мб\\n\\tТочностью {model.evaluate(val_data)[1]*100:.2f}%\")"
      ]
    },
    {
      "cell_type": "markdown",
      "metadata": {
        "id": "HLYXUpA3x2yb"
      },
      "source": [
        "Для дальнейшего использования модели, входные данные должны иметь форму (B, H, W, C)  \n",
        "Где:\n",
        " - B: количество фото для анализа\n",
        " - H = 224: высота фото\n",
        " - W = 224: ширина фото\n",
        " - С = 3: цветовых каналов"
      ]
    },
    {
      "cell_type": "markdown",
      "metadata": {
        "id": "Oxdk3EDBx2yc"
      },
      "source": [
        "## Результаты"
      ]
    },
    {
      "cell_type": "markdown",
      "metadata": {
        "id": "UOnWvgyTdjoZ"
      },
      "source": [
        "Была получена свёрточная модель трансферного обучения на базе модели VGG16 с размером модели в ~56 Мб.  \n",
        "Получившаяся модель с точностью ~99.83% может классифицировать фотографии бетона с трещиной и бетона без трещины"
      ]
    },
    {
      "cell_type": "markdown",
      "metadata": {
        "id": "OaE7Ij__djoa"
      },
      "source": [
        "## Опыт работы в TensorFlow"
      ]
    },
    {
      "attachments": {},
      "cell_type": "markdown",
      "metadata": {
        "id": "YPPzfV22djoa"
      },
      "source": [
        "Плюсы:\n",
        " + Большое количество инструментов \n",
        " + Простой высокоуровневый API Keras \n",
        " + Удобная реализация autograd\n",
        " \n",
        "Минусы:\n",
        " + Много вещей скрыто за высокоуровневым API, что приводит к путанице\n",
        " + Модель сохраняемая TensorFlow весит в разы больше, чем её расчётный / теоретический объём"
      ]
    }
  ],
  "metadata": {
    "accelerator": "GPU",
    "colab": {
      "gpuType": "T4",
      "provenance": []
    },
    "gpuClass": "standard",
    "kernelspec": {
      "display_name": "venv",
      "language": "python",
      "name": "python3"
    },
    "language_info": {
      "codemirror_mode": {
        "name": "ipython",
        "version": 3
      },
      "file_extension": ".py",
      "mimetype": "text/x-python",
      "name": "python",
      "nbconvert_exporter": "python",
      "pygments_lexer": "ipython3",
      "version": "3.10.9"
    },
    "orig_nbformat": 4
  },
  "nbformat": 4,
  "nbformat_minor": 0
}
